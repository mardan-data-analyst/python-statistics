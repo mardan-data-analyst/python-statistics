{
  "metadata": {
    "kernelspec": {
      "language": "python",
      "display_name": "Python 3",
      "name": "python3"
    },
    "language_info": {
      "name": "python",
      "version": "3.7.12",
      "mimetype": "text/x-python",
      "codemirror_mode": {
        "name": "ipython",
        "version": 3
      },
      "pygments_lexer": "ipython3",
      "nbconvert_exporter": "python",
      "file_extension": ".py"
    },
    "colab": {
      "name": "python-statistics-fundamentals.ipynb",
      "provenance": [],
      "collapsed_sections": [
        "PKvzemS-7TjU",
        "1shFoHIM_U3F",
        "mmPAtGqoC2Em",
        "DJ-bMURtC2E_",
        "jGBlouMSC2Fg",
        "66vO6szpC2F_",
        "HKmx9LBuC2Hn",
        "qM9z_STVC2IC",
        "D7iRZJidC2IC",
        "TqiNt-CgC2Il",
        "lD1YbPSFDTQw"
      ]
    }
  },
  "nbformat_minor": 0,
  "nbformat": 4,
  "cells": [
    {
      "cell_type": "markdown",
      "source": [
        "[Python Statistics Fundamentals: How to Describe Your Data by Mirko Stojiljković ](https://realpython.com/python-statistics/)"
      ],
      "metadata": {
        "id": "_NSi6ny7ImTe"
      }
    },
    {
      "cell_type": "markdown",
      "source": [
        "In the era of big data and [artificial intelligence](https://realpython.com/python-ai-neural-network/), [data science](https://realpython.com/python-ai-neural-network/) and [machine learning](https://realpython.com/tutorials/machine-learning/) have become essential in many fields of science and technology. A necessary aspect of working with data is the ability to describe, summarize, and represent data visually. Python statistics libraries are comprehensive, popular, and widely used tools that will assist you in working with data.\n",
        "\n",
        "In this tutorial, you’ll learn:\n",
        "\n",
        "* What numerical quantities you can use to describe and summarize your datasets\n",
        "* How to calculate descriptive statistics in pure Python\n",
        "* How to get descriptive statistics with available Python libraries\n",
        "* How to visualize your datasets"
      ],
      "metadata": {
        "id": "tPpjaKWMJ7yb"
      }
    },
    {
      "cell_type": "markdown",
      "source": [
        "# Understanding Descriptive Statistics"
      ],
      "metadata": {
        "id": "aP9BMQisIczn"
      }
    },
    {
      "cell_type": "markdown",
      "source": [
        "Descriptive statistics is about describing and summarizing data. It uses two main approaches:\n",
        "\n",
        "1. The quantitative approach describes and summarizes data numerically.\n",
        "2. The visual approach illustrates data with charts, plots, histograms, and other graphs.\n",
        "\n",
        "You can apply descriptive statistics to one or many datasets or [variables](https://realpython.com/python-variables/). When you describe and summarize a single variable, you’re performing univariate analysis. When you search for statistical relationships among a pair of variables, you’re doing a bivariate analysis. Similarly, a multivariate analysis is concerned with multiple variables at once."
      ],
      "metadata": {
        "id": "i7rknlf9J_fX"
      }
    },
    {
      "cell_type": "markdown",
      "source": [
        "## Types of Measures"
      ],
      "metadata": {
        "id": "jQSEEUZGJNNt"
      }
    },
    {
      "cell_type": "markdown",
      "source": [
        "In this tutorial, you’ll learn about the following types of measures in descriptive statistics:\n",
        "\n",
        "* Central tendency tells you about the centers of the data. Useful measures include the mean, median, and mode.\n",
        "* Variability tells you about the spread of the data. Useful measures include variance and standard deviation.\n",
        "* Correlation or joint variability tells you about the relation between a pair of variables in a dataset. Useful measures include covariance and the [correlation coefficient](https://realpython.com/numpy-scipy-pandas-correlation-python/).\n",
        "\n",
        "You’ll learn how to understand and calculate these measures with Python.\n"
      ],
      "metadata": {
        "id": "KL4d_NIKJu2u"
      }
    },
    {
      "cell_type": "markdown",
      "source": [
        "## Population and Samples"
      ],
      "metadata": {
        "id": "5kclNjADJ3Fo"
      }
    },
    {
      "cell_type": "markdown",
      "source": [
        "Population and Samples\n",
        "In statistics, the population is a set of all elements or items that you’re interested in. Populations are often vast, which makes them inappropriate for collecting and analyzing data. That’s why statisticians usually try to make some conclusions about a population by choosing and examining a representative subset of that population.\n",
        "\n",
        "This subset of a population is called a sample. Ideally, the sample should preserve the essential statistical features of the population to a satisfactory extent. That way, you’ll be able to use the sample to glean conclusions about the population."
      ],
      "metadata": {
        "id": "iYE_o7TSKr-Q"
      }
    },
    {
      "cell_type": "markdown",
      "source": [
        "## Outliers"
      ],
      "metadata": {
        "id": "8iD2SP7YLFjl"
      }
    },
    {
      "cell_type": "markdown",
      "source": [
        "An outlier is a data point that differs significantly from the majority of the data taken from a sample or population. There are many possible causes of outliers, but here are a few to start you off:\n",
        "\n",
        "* Natural variation in data\n",
        "* Change in the behavior of the observed system\n",
        "* Errors in data collection\n",
        "\n",
        "Data collection errors are a particularly prominent cause of outliers. For example, the limitations of measurement instruments or procedures can mean that the correct data is simply not obtainable. Other errors can be caused by miscalculations, data contamination, human error, and more.\n",
        "\n",
        "There isn’t a precise mathematical definition of outliers. You have to rely on experience, knowledge about the subject of interest, and common sense to determine if a data point is an outlier and how to handle it."
      ],
      "metadata": {
        "id": "Ws65EJARLIdS"
      }
    },
    {
      "cell_type": "markdown",
      "source": [
        "## Choosing Python Statistics Libraries"
      ],
      "metadata": {
        "id": "28KTNbkzMG8-"
      }
    },
    {
      "cell_type": "markdown",
      "source": [
        "There are many Python [statistics](https://docs.python.org/3/library/statistics.html) libraries out there for you to work with, but in this tutorial, you’ll be learning about some of the most popular and widely used ones:\n",
        "\n",
        "Python’s statistics is a built-in Python library for descriptive statistics. You can use it if your datasets are not too large or if you can’t rely on importing other libraries.\n",
        "\n",
        "* [NumPy](https://docs.scipy.org/doc/numpy/user/index.html) is a third-party library for numerical computing, optimized for working with single- and multi-dimensional arrays. Its primary type is the array type called [ndarray](https://docs.scipy.org/doc/numpy/reference/arrays.ndarray.html). This library contains many [routines](https://docs.scipy.org/doc/numpy/reference/routines.statistics.html) for statistical analysis.\n",
        "\n",
        "* [SciPy](https://www.scipy.org/getting-started.html) is a third-party library for scientific computing based on NumPy. It offers additional functionality compared to NumPy, including [scipy.stats](https://docs.scipy.org/doc/scipy/reference/stats.html) for statistical analysis.\n",
        "\n",
        "* [Pandas](https://pandas.pydata.org/pandas-docs/stable/) is a third-party library for numerical computing based on NumPy. It excels in handling labeled one-dimensional (1D) data with S[eries](https://pandas.pydata.org/pandas-docs/stable/reference/api/pandas.Series.html) objects and two-dimensional (2D) data with [DataFrame](https://pandas.pydata.org/pandas-docs/stable/reference/api/pandas.DataFrame.html) objects.\n",
        "\n",
        "* [Matplotlib](https://matplotlib.org/) is a third-party library for data visualization. It works well in combination with NumPy, SciPy, and Pandas.\n",
        "\n",
        "Note that, in many cases, Series and [DataFrame](https://realpython.com/pandas-dataframe/) objects can be used in place of NumPy arrays. Often, you might just pass them to a NumPy or [SciPy](https://realpython.com/python-scipy-cluster-optimize/) statistical function. In addition, you can get the unlabeled data from a Series or DataFrame as a np.ndarray object by calling [.values](https://pandas.pydata.org/pandas-docs/stable/reference/api/pandas.DataFrame.values.html) or [.to_numpy()](https://pandas.pydata.org/pandas-docs/stable/reference/api/pandas.DataFrame.to_numpy.html)."
      ],
      "metadata": {
        "id": "ftTLZdBzM1lQ"
      }
    },
    {
      "cell_type": "markdown",
      "source": [
        "## Getting Started With Python Statistics Libraries"
      ],
      "metadata": {
        "id": "5hrSstoOTdbZ"
      }
    },
    {
      "cell_type": "markdown",
      "source": [
        "The built-in Python statistics library has a relatively small number of the most important statistics functions. The [official documentation](https://docs.python.org/3/library/statistics.html) is a valuable resource to find the details. If you’re limited to pure Python, then the Python statistics library might be the right choice.\n",
        "\n",
        "A good place to start learning about NumPy is the official [User Guide](https://docs.scipy.org/doc/numpy/user/index.html), especially the [quickstart](https://docs.scipy.org/doc/numpy/user/quickstart.html) and [basics](https://docs.scipy.org/doc/numpy/user/basics.html) sections. The [official reference](https://docs.scipy.org/doc/numpy/reference/) can help you refresh your memory on specific NumPy concepts. While you read this tutorial, you might want to check out the [statistics](https://docs.scipy.org/doc/numpy/reference/routines.statistics.html) section and the official [scipy.stats reference](https://docs.scipy.org/doc/scipy/reference/stats.html) as well.\n",
        "\n",
        "\n",
        "**Note:**\n",
        "\n",
        "To learn more about NumPy, check out these resources:\n",
        "\n",
        "* [Look Ma, No For-Loops: Array Programming With NumPy](https://realpython.com/numpy-array-programming/)\n",
        "* [Pythonic Data Cleaning With Pandas and NumPy](https://realpython.com/python-data-cleaning-numpy-pandas/)\n",
        "* [NumPy arange(): How to Use np.arange()](https://realpython.com/how-to-use-numpy-arange/)\n",
        "\n",
        "If you want to learn Pandas, then the [official Getting Started](https://pandas.pydata.org/pandas-docs/stable/getting_started/index.html) page is an excellent place to begin. The [introduction to data structures](https://pandas.pydata.org/pandas-docs/stable/getting_started/dsintro.html) can help you learn about the fundamental data types, Series and DataFrame. Likewise, the excellent [official introductory tutorial](https://pandas.pydata.org/pandas-docs/stable/getting_started/10min.html) aims to give you enough information to start effectively using Pandas in practice.\n",
        "\n",
        "**Note:**\n",
        "\n",
        "To learn more about Pandas, check out these resources:\n",
        "\n",
        "* [Using Pandas and Python to Explore Your Dataset](https://realpython.com/pandas-python-explore-dataset/)\n",
        "* [Pandas DataFrames 101](https://realpython.com/courses/pandas-dataframes-101/)\n",
        "* [Idiomatic Pandas: Tricks & Features You May Not Know](https://realpython.com/courses/idiomatic-pandas-tricks-features-you-may-not-know/)\n",
        "* [Fast, Flexible, Easy and Intuitive: How to Speed Up Your Pandas Projects](https://realpython.com/courses/idiomatic-pandas-tricks-features-you-may-not-know/)"
      ],
      "metadata": {
        "id": "fBFTck_zTjK_"
      }
    },
    {
      "cell_type": "markdown",
      "source": [
        "matplotlib has a comprehensive [official User’s Guide](https://matplotlib.org/users/index.html) that you can use to dive into the details of using the library. [Anatomy of Matplotlib](https://github.com/matplotlib/AnatomyOfMatplotlib) is an excellent resource for beginners who want to start working with matplotlib and its related libraries.\n",
        "\n",
        "**Note:**\n",
        "\n",
        "To learn more about data visualization, check out these resources:\n",
        "\n",
        "* [Python Plotting With Matplotlib (Guide)](https://realpython.com/python-matplotlib-guide/)\n",
        "* [Python Histogram Plotting: NumPy, Matplotlib, Pandas & Seaborn](https://realpython.com/python-histograms/)\n",
        "* [Interactive Data Visualization in Python With Bokeh](https://realpython.com/python-data-visualization-bokeh/)\n",
        "* [Plot With Pandas: Python Data Visualization for Beginners](https://realpython.com/pandas-plot-python/)\n",
        "\n",
        "Let’s start using these Python statistics libraries!"
      ],
      "metadata": {
        "id": "D7EW5m8YVaN4"
      }
    },
    {
      "cell_type": "markdown",
      "source": [
        "## Calculating Descriptive Statistics"
      ],
      "metadata": {
        "id": "JMOa7loYU05j"
      }
    },
    {
      "cell_type": "markdown",
      "source": [
        "Start by importing all the packages you’ll need:"
      ],
      "metadata": {
        "id": "CxZlVWtSW-Xk"
      }
    },
    {
      "cell_type": "code",
      "source": [
        "import math\n",
        "import statistics\n",
        "import pandas as pd\n",
        "import numpy as np\n",
        "import scipy.stats"
      ],
      "metadata": {
        "id": "UAwFrqkOW7H8",
        "execution": {
          "iopub.status.busy": "2022-08-24T11:02:01.054171Z",
          "iopub.execute_input": "2022-08-24T11:02:01.055089Z",
          "iopub.status.idle": "2022-08-24T11:02:02.036673Z",
          "shell.execute_reply.started": "2022-08-24T11:02:01.054914Z",
          "shell.execute_reply": "2022-08-24T11:02:02.035257Z"
        },
        "trusted": true
      },
      "execution_count": 683,
      "outputs": []
    },
    {
      "cell_type": "markdown",
      "source": [
        "These are all the packages you’ll need for Python statistics calculations. Usually, you won’t use Python’s built-in math package, but it’ll be useful in this tutorial. Later, you’ll import matplotlib.pyplot for data visualization.\n",
        "\n",
        "Let’s create some data to work with. You’ll start with Python lists that contain some arbitrary numeric data:"
      ],
      "metadata": {
        "id": "GpU88NlCXc8Y"
      }
    },
    {
      "cell_type": "code",
      "source": [
        "# a code for printing all the variables in a cell\n",
        "\n",
        "from IPython.core.interactiveshell import InteractiveShell\n",
        "InteractiveShell.ast_node_interactivity = \"all\""
      ],
      "metadata": {
        "id": "LevcNarC3Sdm",
        "execution": {
          "iopub.status.busy": "2022-08-24T11:02:02.039083Z",
          "iopub.execute_input": "2022-08-24T11:02:02.039548Z",
          "iopub.status.idle": "2022-08-24T11:02:02.045815Z",
          "shell.execute_reply.started": "2022-08-24T11:02:02.039502Z",
          "shell.execute_reply": "2022-08-24T11:02:02.044357Z"
        },
        "trusted": true
      },
      "execution_count": 684,
      "outputs": []
    },
    {
      "cell_type": "code",
      "source": [
        "x = [8.0, 1, 2.5, 4, 28.0]\n",
        "x_with_nan = [8.0, 1, 2.5, math.nan, 4, 28.0]\n",
        "x\n",
        "x_with_nan"
      ],
      "metadata": {
        "id": "6PmtTwxLXh8Y",
        "execution": {
          "iopub.status.busy": "2022-08-24T11:02:02.047640Z",
          "iopub.execute_input": "2022-08-24T11:02:02.048417Z",
          "iopub.status.idle": "2022-08-24T11:02:02.066495Z",
          "shell.execute_reply.started": "2022-08-24T11:02:02.048334Z",
          "shell.execute_reply": "2022-08-24T11:02:02.065216Z"
        },
        "trusted": true,
        "colab": {
          "base_uri": "https://localhost:8080/"
        },
        "outputId": "4f233c8b-7cb8-4202-a7cc-f5300238f939"
      },
      "execution_count": 685,
      "outputs": [
        {
          "output_type": "execute_result",
          "data": {
            "text/plain": [
              "[8.0, 1, 2.5, 4, 28.0]"
            ]
          },
          "metadata": {},
          "execution_count": 685
        },
        {
          "output_type": "execute_result",
          "data": {
            "text/plain": [
              "[8.0, 1, 2.5, nan, 4, 28.0]"
            ]
          },
          "metadata": {},
          "execution_count": 685
        }
      ]
    },
    {
      "cell_type": "markdown",
      "source": [
        "Now you have the lists x and x_with_nan. They’re almost the same, with the difference that x_with_nan contains a nan value. It’s important to understand the behavior of the Python statistics routines when they come across a [not-a-number value (nan)](https://en.wikipedia.org/wiki/NaN). In data science, missing values are common, and you’ll often replace them with nan."
      ],
      "metadata": {
        "id": "iCAaTTed3iJO"
      }
    },
    {
      "cell_type": "markdown",
      "source": [
        "**Note:** How do you get a nan value?\n",
        "\n",
        "In Python, you can use any of the following:\n",
        "\n",
        "* [float('nan')](https://docs.python.org/3/library/functions.html#float)\n",
        "* [math.nan](https://docs.python.org/3/library/math.html#math.nan)\n",
        "* [np.nan](https://docs.python.org/3/library/math.html#math.nan)\n",
        "\n",
        "You can use all of these functions interchangeably:\n",
        "\n",
        "You can see that the functions are all equivalent. However, please keep in mind that comparing two nan values for equality returns False. In other words, math.nan == math.nan is False!"
      ],
      "metadata": {
        "id": "t3r3I4z54KTq"
      }
    },
    {
      "cell_type": "code",
      "source": [
        "math.isnan(np.nan), np.isnan(math.nan)"
      ],
      "metadata": {
        "id": "8ubLCz1o4qMe",
        "execution": {
          "iopub.status.busy": "2022-08-24T11:02:02.069057Z",
          "iopub.execute_input": "2022-08-24T11:02:02.070356Z",
          "iopub.status.idle": "2022-08-24T11:02:02.079649Z",
          "shell.execute_reply.started": "2022-08-24T11:02:02.070310Z",
          "shell.execute_reply": "2022-08-24T11:02:02.078718Z"
        },
        "trusted": true,
        "colab": {
          "base_uri": "https://localhost:8080/"
        },
        "outputId": "04b01603-8287-49d5-99c5-bafd3834cca2"
      },
      "execution_count": 686,
      "outputs": [
        {
          "output_type": "execute_result",
          "data": {
            "text/plain": [
              "(True, True)"
            ]
          },
          "metadata": {},
          "execution_count": 686
        }
      ]
    },
    {
      "cell_type": "code",
      "source": [
        "math.isnan(x_with_nan[3]), np.isnan(x_with_nan[3])"
      ],
      "metadata": {
        "id": "KXrkcptU40or",
        "execution": {
          "iopub.status.busy": "2022-08-24T11:02:02.083559Z",
          "iopub.execute_input": "2022-08-24T11:02:02.084032Z",
          "iopub.status.idle": "2022-08-24T11:02:02.094548Z",
          "shell.execute_reply.started": "2022-08-24T11:02:02.083988Z",
          "shell.execute_reply": "2022-08-24T11:02:02.093463Z"
        },
        "trusted": true,
        "colab": {
          "base_uri": "https://localhost:8080/"
        },
        "outputId": "1922c5a9-a656-499c-ee94-6d6f2f831b3e"
      },
      "execution_count": 687,
      "outputs": [
        {
          "output_type": "execute_result",
          "data": {
            "text/plain": [
              "(True, True)"
            ]
          },
          "metadata": {},
          "execution_count": 687
        }
      ]
    },
    {
      "cell_type": "markdown",
      "source": [
        "You can see that the functions are all equivalent. However, please keep in mind that comparing two nan values for equality returns False. In other words, `math.nan == math.nan is False!`\n",
        "\n",
        "**END OF NOTE**"
      ],
      "metadata": {
        "id": "P1amjQx-5Ade"
      }
    },
    {
      "cell_type": "markdown",
      "source": [
        "Now, create np.ndarray and pd.Series objects that correspond to x and x_with_nan:"
      ],
      "metadata": {
        "id": "erkonp6t5Hlb"
      }
    },
    {
      "cell_type": "code",
      "source": [
        "y, y_with_nan = np.array(x), np.array(x_with_nan)\n",
        "z, z_with_nan = pd.Series(x), pd.Series(x_with_nan)"
      ],
      "metadata": {
        "id": "R5jEExJh5TqB",
        "execution": {
          "iopub.status.busy": "2022-08-24T11:02:02.096238Z",
          "iopub.execute_input": "2022-08-24T11:02:02.097063Z",
          "iopub.status.idle": "2022-08-24T11:02:02.111790Z",
          "shell.execute_reply.started": "2022-08-24T11:02:02.097011Z",
          "shell.execute_reply": "2022-08-24T11:02:02.110455Z"
        },
        "trusted": true
      },
      "execution_count": 688,
      "outputs": []
    },
    {
      "cell_type": "code",
      "source": [
        "y"
      ],
      "metadata": {
        "id": "hYKEUstF5gfq",
        "execution": {
          "iopub.status.busy": "2022-08-24T11:02:02.113953Z",
          "iopub.execute_input": "2022-08-24T11:02:02.114742Z",
          "iopub.status.idle": "2022-08-24T11:02:02.129146Z",
          "shell.execute_reply.started": "2022-08-24T11:02:02.114701Z",
          "shell.execute_reply": "2022-08-24T11:02:02.127976Z"
        },
        "trusted": true,
        "colab": {
          "base_uri": "https://localhost:8080/"
        },
        "outputId": "d5b8a43d-cfd6-4e69-996a-8c11f1140d8f"
      },
      "execution_count": 689,
      "outputs": [
        {
          "output_type": "execute_result",
          "data": {
            "text/plain": [
              "array([ 8. ,  1. ,  2.5,  4. , 28. ])"
            ]
          },
          "metadata": {},
          "execution_count": 689
        }
      ]
    },
    {
      "cell_type": "code",
      "source": [
        "z"
      ],
      "metadata": {
        "id": "FTtfF3if5o0o",
        "execution": {
          "iopub.status.busy": "2022-08-24T11:02:02.131943Z",
          "iopub.execute_input": "2022-08-24T11:02:02.132727Z",
          "iopub.status.idle": "2022-08-24T11:02:02.144591Z",
          "shell.execute_reply.started": "2022-08-24T11:02:02.132658Z",
          "shell.execute_reply": "2022-08-24T11:02:02.143430Z"
        },
        "trusted": true,
        "colab": {
          "base_uri": "https://localhost:8080/"
        },
        "outputId": "58c86d32-ba5d-4cee-98c3-a65fb77d9fa4"
      },
      "execution_count": 690,
      "outputs": [
        {
          "output_type": "execute_result",
          "data": {
            "text/plain": [
              "0     8.0\n",
              "1     1.0\n",
              "2     2.5\n",
              "3     4.0\n",
              "4    28.0\n",
              "dtype: float64"
            ]
          },
          "metadata": {},
          "execution_count": 690
        }
      ]
    },
    {
      "cell_type": "code",
      "source": [
        "y_with_nan"
      ],
      "metadata": {
        "id": "lv9oh09F5tga",
        "execution": {
          "iopub.status.busy": "2022-08-24T11:02:02.146780Z",
          "iopub.execute_input": "2022-08-24T11:02:02.147496Z",
          "iopub.status.idle": "2022-08-24T11:02:02.162832Z",
          "shell.execute_reply.started": "2022-08-24T11:02:02.147436Z",
          "shell.execute_reply": "2022-08-24T11:02:02.161587Z"
        },
        "trusted": true,
        "colab": {
          "base_uri": "https://localhost:8080/"
        },
        "outputId": "1dba514e-989f-4bc6-84f2-ba01040b3127"
      },
      "execution_count": 691,
      "outputs": [
        {
          "output_type": "execute_result",
          "data": {
            "text/plain": [
              "array([ 8. ,  1. ,  2.5,  nan,  4. , 28. ])"
            ]
          },
          "metadata": {},
          "execution_count": 691
        }
      ]
    },
    {
      "cell_type": "code",
      "source": [
        "z_with_nan"
      ],
      "metadata": {
        "id": "fb2VorL05xzg",
        "execution": {
          "iopub.status.busy": "2022-08-24T11:02:02.239479Z",
          "iopub.execute_input": "2022-08-24T11:02:02.239962Z",
          "iopub.status.idle": "2022-08-24T11:02:02.250007Z",
          "shell.execute_reply.started": "2022-08-24T11:02:02.239923Z",
          "shell.execute_reply": "2022-08-24T11:02:02.248681Z"
        },
        "trusted": true,
        "colab": {
          "base_uri": "https://localhost:8080/"
        },
        "outputId": "431dc225-ca0a-4d6e-eecd-5c8b2545a8cd"
      },
      "execution_count": 692,
      "outputs": [
        {
          "output_type": "execute_result",
          "data": {
            "text/plain": [
              "0     8.0\n",
              "1     1.0\n",
              "2     2.5\n",
              "3     NaN\n",
              "4     4.0\n",
              "5    28.0\n",
              "dtype: float64"
            ]
          },
          "metadata": {},
          "execution_count": 692
        }
      ]
    },
    {
      "cell_type": "markdown",
      "source": [
        "You now have two NumPy arrays (y and y_with_nan) and two Pandas Series (z and z_with_nan). All of these are 1D sequences of values."
      ],
      "metadata": {
        "id": "5dy197_X6yYe"
      }
    },
    {
      "cell_type": "markdown",
      "source": [
        "**Note:** Although you’ll use [lists](https://realpython.com/python-lists-tuples/) throughout this tutorial, please keep in mind that, in most cases, you can use [tuples](https://realpython.com/python-lists-tuples/) in the same way."
      ],
      "metadata": {
        "id": "HmA8NgmB6zki"
      }
    },
    {
      "cell_type": "markdown",
      "source": [
        "You can optionally specify a label for each value in z and z_with_nan."
      ],
      "metadata": {
        "id": "9ZhUe8FS7B3x"
      }
    },
    {
      "cell_type": "markdown",
      "source": [
        "## Measures of Central Tendency"
      ],
      "metadata": {
        "id": "PKvzemS-7TjU"
      }
    },
    {
      "cell_type": "markdown",
      "source": [
        "The measures of central tendency show the central or middle values of datasets. There are several definitions of what’s considered to be the center of a dataset. In this tutorial, you’ll learn how to identify and calculate these measures of central tendency:\n",
        "\n",
        "* Mean\n",
        "* Weighted mean\n",
        "* Geometric mean\n",
        "* Harmonic mean\n",
        "* Median\n",
        "* Mode"
      ],
      "metadata": {
        "id": "aAT7PaBY_OnX"
      }
    },
    {
      "cell_type": "markdown",
      "source": [
        "## Mean\n",
        "The sample mean, also called the sample arithmetic mean or simply the average, is the arithmetic average of all the items in a dataset. The mean of a dataset 𝑥 is mathematically expressed as Σᵢ𝑥ᵢ/𝑛, where 𝑖 = 1, 2, …, 𝑛. In other words, it’s the sum of all the elements 𝑥ᵢ divided by the number of items in the dataset 𝑥.\n",
        "\n",
        "This figure illustrates the mean of a sample with five data points:\n",
        "\n",
        "![py-stats-01.webp](https://files.realpython.com/media/py-stats-01.3254dbfe6b9a.png)"
      ],
      "metadata": {
        "id": "1shFoHIM_U3F"
      }
    },
    {
      "cell_type": "markdown",
      "source": [
        "The green dots represent the data points 1, 2.5, 4, 8, and 28. The red dashed line is their mean, or (1 + 2.5 + 4 + 8 + 28) / 5 = 8.7.\n",
        "\n",
        "You can calculate the mean with pure Python using sum() and len(), without importing libraries:"
      ],
      "metadata": {
        "id": "T_mQnpo_U50d"
      }
    },
    {
      "cell_type": "code",
      "source": [
        "numbers = [1, 2.5, 4, 8, 28]\n",
        "\n",
        "mean_1 = sum(numbers) / len(numbers)\n",
        "mean_1"
      ],
      "metadata": {
        "id": "iyzZrcZl7J6r",
        "execution": {
          "iopub.status.busy": "2022-08-24T11:02:02.621708Z",
          "iopub.execute_input": "2022-08-24T11:02:02.622604Z",
          "iopub.status.idle": "2022-08-24T11:02:02.631459Z",
          "shell.execute_reply.started": "2022-08-24T11:02:02.622552Z",
          "shell.execute_reply": "2022-08-24T11:02:02.629820Z"
        },
        "trusted": true,
        "colab": {
          "base_uri": "https://localhost:8080/"
        },
        "outputId": "55373f2f-7288-450a-9703-03a602666ee0"
      },
      "execution_count": 693,
      "outputs": [
        {
          "output_type": "execute_result",
          "data": {
            "text/plain": [
              "8.7"
            ]
          },
          "metadata": {},
          "execution_count": 693
        }
      ]
    },
    {
      "cell_type": "markdown",
      "source": [
        "Although this is clean and elegant, you can also apply built-in Python statistics functions:"
      ],
      "metadata": {
        "id": "aV5sGoRuUxAQ"
      }
    },
    {
      "cell_type": "code",
      "source": [
        "mean_2 = statistics.mean(numbers)\n",
        "mean_2"
      ],
      "metadata": {
        "id": "gLGBE0MeVSkq",
        "execution": {
          "iopub.status.busy": "2022-08-24T11:02:02.748002Z",
          "iopub.execute_input": "2022-08-24T11:02:02.748491Z",
          "iopub.status.idle": "2022-08-24T11:02:02.755997Z",
          "shell.execute_reply.started": "2022-08-24T11:02:02.748451Z",
          "shell.execute_reply": "2022-08-24T11:02:02.754837Z"
        },
        "trusted": true,
        "colab": {
          "base_uri": "https://localhost:8080/"
        },
        "outputId": "ba7b1e13-c9ff-4d92-84a9-03c719bce93f"
      },
      "execution_count": 694,
      "outputs": [
        {
          "output_type": "execute_result",
          "data": {
            "text/plain": [
              "8.7"
            ]
          },
          "metadata": {},
          "execution_count": 694
        }
      ]
    },
    {
      "cell_type": "markdown",
      "source": [
        "You’ve called the functions [mean()](https://docs.python.org/3/library/statistics.html#statistics.mean) and [fmean()](https://docs.python.org/3/library/statistics.html#statistics.fmean) from the built-in Python statistics library and got the same result as you did with pure Python. fmean() is introduced in Python 3.8 as a faster alternative to mean(). It always returns a floating-point number.\n",
        "\n",
        "However, if there are nan values among your data, then statistics.mean() and statistics.fmean() will return nan as the output:"
      ],
      "metadata": {
        "id": "yVHOnOQ0VzBg"
      }
    },
    {
      "cell_type": "code",
      "source": [
        "mean_3 = statistics.mean(x_with_nan)\n",
        "mean_3"
      ],
      "metadata": {
        "id": "JbtjR-H8Zm23",
        "execution": {
          "iopub.status.busy": "2022-08-24T11:02:02.861924Z",
          "iopub.execute_input": "2022-08-24T11:02:02.862682Z",
          "iopub.status.idle": "2022-08-24T11:02:02.869257Z",
          "shell.execute_reply.started": "2022-08-24T11:02:02.862640Z",
          "shell.execute_reply": "2022-08-24T11:02:02.868173Z"
        },
        "trusted": true,
        "colab": {
          "base_uri": "https://localhost:8080/"
        },
        "outputId": "6d64a63b-6a88-49e9-ac79-f6eae6a5652e"
      },
      "execution_count": 695,
      "outputs": [
        {
          "output_type": "execute_result",
          "data": {
            "text/plain": [
              "nan"
            ]
          },
          "metadata": {},
          "execution_count": 695
        }
      ]
    },
    {
      "cell_type": "code",
      "source": [
        "try:\n",
        "    mean_4 = statistics.fmean(x_with_nan)\n",
        "    print(mean_4)\n",
        "except:\n",
        "    print(\"`statistics.fmean()` function has been introduced in Python 3.8\")"
      ],
      "metadata": {
        "execution": {
          "iopub.status.busy": "2022-08-24T11:02:02.939935Z",
          "iopub.execute_input": "2022-08-24T11:02:02.940635Z",
          "iopub.status.idle": "2022-08-24T11:02:02.946945Z",
          "shell.execute_reply.started": "2022-08-24T11:02:02.940595Z",
          "shell.execute_reply": "2022-08-24T11:02:02.945704Z"
        },
        "trusted": true,
        "id": "-BTr_7C5C2D8",
        "colab": {
          "base_uri": "https://localhost:8080/"
        },
        "outputId": "327e782d-3871-4428-9204-bb888d1f4734"
      },
      "execution_count": 696,
      "outputs": [
        {
          "output_type": "stream",
          "name": "stdout",
          "text": [
            "`statistics.fmean()` function has been introduced in Python 3.8\n"
          ]
        }
      ]
    },
    {
      "cell_type": "markdown",
      "source": [
        "This result is consistent with the behavior of sum(), because sum(x_with_nan) also returns nan.\n",
        "\n",
        "If you use NumPy, then you can get the mean with [np.mean()](https://docs.scipy.org/doc/numpy/reference/generated/numpy.mean.html):"
      ],
      "metadata": {
        "id": "mBh3_PIEC2D9"
      }
    },
    {
      "cell_type": "code",
      "source": [
        "mean_5 = np.mean(y)\n",
        "mean_5"
      ],
      "metadata": {
        "execution": {
          "iopub.status.busy": "2022-08-24T11:02:03.041586Z",
          "iopub.execute_input": "2022-08-24T11:02:03.042044Z",
          "iopub.status.idle": "2022-08-24T11:02:03.050965Z",
          "shell.execute_reply.started": "2022-08-24T11:02:03.042007Z",
          "shell.execute_reply": "2022-08-24T11:02:03.049657Z"
        },
        "trusted": true,
        "id": "xebKGt5jC2EA",
        "colab": {
          "base_uri": "https://localhost:8080/"
        },
        "outputId": "6671def3-323e-4582-9849-4af1916fff81"
      },
      "execution_count": 697,
      "outputs": [
        {
          "output_type": "execute_result",
          "data": {
            "text/plain": [
              "8.7"
            ]
          },
          "metadata": {},
          "execution_count": 697
        }
      ]
    },
    {
      "cell_type": "markdown",
      "source": [
        "In the example above, mean() is a function, but you can use the corresponding method [.mean()](https://docs.scipy.org/doc/numpy/reference/generated/numpy.ndarray.mean.html) as well:"
      ],
      "metadata": {
        "id": "1hEQcrf6C2EC"
      }
    },
    {
      "cell_type": "code",
      "source": [
        "mean_6 = y.mean()\n",
        "mean_6"
      ],
      "metadata": {
        "execution": {
          "iopub.status.busy": "2022-08-24T11:02:03.159585Z",
          "iopub.execute_input": "2022-08-24T11:02:03.160535Z",
          "iopub.status.idle": "2022-08-24T11:02:03.169565Z",
          "shell.execute_reply.started": "2022-08-24T11:02:03.160487Z",
          "shell.execute_reply": "2022-08-24T11:02:03.168339Z"
        },
        "trusted": true,
        "id": "2026qoR6C2EC",
        "colab": {
          "base_uri": "https://localhost:8080/"
        },
        "outputId": "0547cf35-9afb-40e6-a008-22a8b5720392"
      },
      "execution_count": 698,
      "outputs": [
        {
          "output_type": "execute_result",
          "data": {
            "text/plain": [
              "8.7"
            ]
          },
          "metadata": {},
          "execution_count": 698
        }
      ]
    },
    {
      "cell_type": "markdown",
      "source": [
        "The function mean() and method .mean() from NumPy return the same result as statistics.mean(). This is also the case when there are nan values among your data:"
      ],
      "metadata": {
        "id": "5oooFVWhC2ED"
      }
    },
    {
      "cell_type": "code",
      "source": [
        "np.mean(y_with_nan)\n",
        "y_with_nan.mean()"
      ],
      "metadata": {
        "execution": {
          "iopub.status.busy": "2022-08-24T11:02:03.265760Z",
          "iopub.execute_input": "2022-08-24T11:02:03.266266Z",
          "iopub.status.idle": "2022-08-24T11:02:03.278598Z",
          "shell.execute_reply.started": "2022-08-24T11:02:03.266222Z",
          "shell.execute_reply": "2022-08-24T11:02:03.277320Z"
        },
        "trusted": true,
        "id": "8q56hb6_C2EE",
        "colab": {
          "base_uri": "https://localhost:8080/"
        },
        "outputId": "c124a058-75de-48db-c2f8-324e5b2f22ec"
      },
      "execution_count": 699,
      "outputs": [
        {
          "output_type": "execute_result",
          "data": {
            "text/plain": [
              "nan"
            ]
          },
          "metadata": {},
          "execution_count": 699
        },
        {
          "output_type": "execute_result",
          "data": {
            "text/plain": [
              "nan"
            ]
          },
          "metadata": {},
          "execution_count": 699
        }
      ]
    },
    {
      "cell_type": "markdown",
      "source": [
        "You often don’t need to get a nan value as a result. If you prefer to ignore nan values, then you can use [np.nanmean()](https://docs.scipy.org/doc/numpy/reference/generated/numpy.nanmean.html):"
      ],
      "metadata": {
        "id": "TZrU0rTOC2EF"
      }
    },
    {
      "cell_type": "code",
      "source": [
        "np.nanmean(y_with_nan)"
      ],
      "metadata": {
        "execution": {
          "iopub.status.busy": "2022-08-24T11:02:03.381435Z",
          "iopub.execute_input": "2022-08-24T11:02:03.382532Z",
          "iopub.status.idle": "2022-08-24T11:02:03.390118Z",
          "shell.execute_reply.started": "2022-08-24T11:02:03.382484Z",
          "shell.execute_reply": "2022-08-24T11:02:03.389006Z"
        },
        "trusted": true,
        "id": "iG23AburC2EI",
        "colab": {
          "base_uri": "https://localhost:8080/"
        },
        "outputId": "7ce24a94-dfaa-4a34-961f-50833be070cc"
      },
      "execution_count": 700,
      "outputs": [
        {
          "output_type": "execute_result",
          "data": {
            "text/plain": [
              "8.7"
            ]
          },
          "metadata": {},
          "execution_count": 700
        }
      ]
    },
    {
      "cell_type": "markdown",
      "source": [
        "nanmean() simply ignores all nan values. It returns the same value as mean() if you were to apply it to the dataset without the nan values."
      ],
      "metadata": {
        "id": "1daJV5mwC2EJ"
      }
    },
    {
      "cell_type": "markdown",
      "source": [
        "pd.Series objects also have the method [.mean()](https://pandas.pydata.org/pandas-docs/stable/reference/api/pandas.Series.mean.html):"
      ],
      "metadata": {
        "id": "q_7BdxA9C2EK"
      }
    },
    {
      "cell_type": "code",
      "source": [
        "mean_7 = z.mean()\n",
        "mean_7"
      ],
      "metadata": {
        "execution": {
          "iopub.status.busy": "2022-08-24T11:02:03.529793Z",
          "iopub.execute_input": "2022-08-24T11:02:03.531024Z",
          "iopub.status.idle": "2022-08-24T11:02:03.538299Z",
          "shell.execute_reply.started": "2022-08-24T11:02:03.530967Z",
          "shell.execute_reply": "2022-08-24T11:02:03.537438Z"
        },
        "trusted": true,
        "id": "0nNJR2T0C2EL",
        "colab": {
          "base_uri": "https://localhost:8080/"
        },
        "outputId": "49aa5bc0-4946-43f4-bf7f-9dba1cd02805"
      },
      "execution_count": 701,
      "outputs": [
        {
          "output_type": "execute_result",
          "data": {
            "text/plain": [
              "8.7"
            ]
          },
          "metadata": {},
          "execution_count": 701
        }
      ]
    },
    {
      "cell_type": "markdown",
      "source": [
        "As you can see, it’s used similarly as in the case of NumPy. However, .mean() from Pandas ignores nan values by default:"
      ],
      "metadata": {
        "id": "CvS4zxrvC2EM"
      }
    },
    {
      "cell_type": "code",
      "source": [
        "z_with_nan.mean()"
      ],
      "metadata": {
        "execution": {
          "iopub.status.busy": "2022-08-24T11:02:03.638049Z",
          "iopub.execute_input": "2022-08-24T11:02:03.638986Z",
          "iopub.status.idle": "2022-08-24T11:02:03.647271Z",
          "shell.execute_reply.started": "2022-08-24T11:02:03.638925Z",
          "shell.execute_reply": "2022-08-24T11:02:03.646248Z"
        },
        "trusted": true,
        "id": "EhZ20c07C2EN",
        "colab": {
          "base_uri": "https://localhost:8080/"
        },
        "outputId": "e8614083-94ef-4b9a-aa4f-6e8f7de7d6bf"
      },
      "execution_count": 702,
      "outputs": [
        {
          "output_type": "execute_result",
          "data": {
            "text/plain": [
              "8.7"
            ]
          },
          "metadata": {},
          "execution_count": 702
        }
      ]
    },
    {
      "cell_type": "markdown",
      "source": [
        "This behavior is the result of the default value of the optional parameter skipna. You can change this parameter to modify the behavior."
      ],
      "metadata": {
        "id": "0IIwMtvdC2Eh"
      }
    },
    {
      "cell_type": "markdown",
      "source": [
        "## Weighted Mean"
      ],
      "metadata": {
        "id": "mmPAtGqoC2Em"
      }
    },
    {
      "cell_type": "markdown",
      "source": [
        "The weighted mean, also called the weighted arithmetic mean or weighted average, is a generalization of the arithmetic mean that enables you to define the relative contribution of each data point to the result.\n",
        "\n",
        "You define one weight 𝑤ᵢ for each data point 𝑥ᵢ of the dataset 𝑥, where 𝑖 = 1, 2, …, 𝑛 and 𝑛 is the number of items in 𝑥. Then, you multiply each data point with the corresponding weight, sum all the products, and divide the obtained sum with the sum of weights: Σᵢ(𝑤ᵢ𝑥ᵢ) / Σᵢ𝑤ᵢ.\n",
        "\n",
        "**Note:** It’s convenient (and usually the case) that all weights are nonnegative, 𝑤ᵢ ≥ 0, and that their sum is equal to one, or Σᵢ𝑤ᵢ = 1.\n",
        "\n",
        "The weighted mean is very handy when you need the mean of a dataset containing items that occur with given relative frequencies. For example, say that you have a set in which 20% of all items are equal to 2, 50% of the items are equal to 4, and the remaining 30% of the items are equal to 8. You can calculate the mean of such a set like this:\n"
      ],
      "metadata": {
        "id": "hcWDJTKbC2Eq"
      }
    },
    {
      "cell_type": "code",
      "source": [
        "0.2 * 2 + 0.5 * 4 + 0.3 * 8"
      ],
      "metadata": {
        "execution": {
          "iopub.status.busy": "2022-08-24T11:02:03.825743Z",
          "iopub.execute_input": "2022-08-24T11:02:03.826534Z",
          "iopub.status.idle": "2022-08-24T11:02:03.835353Z",
          "shell.execute_reply.started": "2022-08-24T11:02:03.826474Z",
          "shell.execute_reply": "2022-08-24T11:02:03.834445Z"
        },
        "trusted": true,
        "id": "CU4f5--RC2Er",
        "colab": {
          "base_uri": "https://localhost:8080/"
        },
        "outputId": "84cc0333-4c7c-42e7-ca10-95996952aeda"
      },
      "execution_count": 703,
      "outputs": [
        {
          "output_type": "execute_result",
          "data": {
            "text/plain": [
              "4.8"
            ]
          },
          "metadata": {},
          "execution_count": 703
        }
      ]
    },
    {
      "cell_type": "markdown",
      "source": [
        "Here, you take the frequencies into account with the weights. With this method, you don’t need to know the total number of items.\n",
        "\n",
        "You can implement the weighted mean in pure Python by combining sum() with either [range()](https://realpython.com/courses/python-range-function/) or [zip()](https://realpython.com/python-zip-function/):"
      ],
      "metadata": {
        "id": "iVXnTo19C2Es"
      }
    },
    {
      "cell_type": "code",
      "source": [
        "x = [8.0, 1, 2.5, 4, 28.0]\n",
        "w = [0.1, 0.2, 0.3, 0.25, 0.15]\n",
        "\n",
        "# first variant\n",
        "\n",
        "wmean = sum(w[i] * x[i] for i in range(len(x))) / sum(w)\n",
        "wmean"
      ],
      "metadata": {
        "execution": {
          "iopub.status.busy": "2022-08-24T11:02:03.933866Z",
          "iopub.execute_input": "2022-08-24T11:02:03.934818Z",
          "iopub.status.idle": "2022-08-24T11:02:03.943672Z",
          "shell.execute_reply.started": "2022-08-24T11:02:03.934767Z",
          "shell.execute_reply": "2022-08-24T11:02:03.942219Z"
        },
        "trusted": true,
        "id": "zEIqcR62C2Et",
        "colab": {
          "base_uri": "https://localhost:8080/"
        },
        "outputId": "e2ce1f8a-e74c-43ef-cb5e-a7615b1f3773"
      },
      "execution_count": 704,
      "outputs": [
        {
          "output_type": "execute_result",
          "data": {
            "text/plain": [
              "6.95"
            ]
          },
          "metadata": {},
          "execution_count": 704
        }
      ]
    },
    {
      "cell_type": "code",
      "source": [
        "# second variant\n",
        "\n",
        "wmean = sum(x_ * w_ for (x_, w_) in zip(x, w)) / sum(w)\n",
        "wmean"
      ],
      "metadata": {
        "execution": {
          "iopub.status.busy": "2022-08-24T11:02:04.009555Z",
          "iopub.execute_input": "2022-08-24T11:02:04.011030Z",
          "iopub.status.idle": "2022-08-24T11:02:04.020063Z",
          "shell.execute_reply.started": "2022-08-24T11:02:04.010961Z",
          "shell.execute_reply": "2022-08-24T11:02:04.018616Z"
        },
        "trusted": true,
        "id": "1oosNF27C2Eu",
        "colab": {
          "base_uri": "https://localhost:8080/"
        },
        "outputId": "1eb70be7-ae73-4fca-f82a-4678c148f213"
      },
      "execution_count": 705,
      "outputs": [
        {
          "output_type": "execute_result",
          "data": {
            "text/plain": [
              "6.95"
            ]
          },
          "metadata": {},
          "execution_count": 705
        }
      ]
    },
    {
      "cell_type": "markdown",
      "source": [
        "Again, this is a clean and elegant implementation where you don’t need to import any libraries.\n",
        "\n",
        "However, if you have large datasets, then NumPy is likely to provide a better solution. You can use [np.average()](https://docs.scipy.org/doc/numpy/reference/generated/numpy.average.html) to get the weighted mean of NumPy arrays or Pandas Series:"
      ],
      "metadata": {
        "id": "c3fDJaI-C2Ey"
      }
    },
    {
      "cell_type": "code",
      "source": [
        "y, z, x = np.array(x), pd.Series(x), np.array(w)\n",
        "wmean = np.average(y, weights=w)\n",
        "wmean"
      ],
      "metadata": {
        "execution": {
          "iopub.status.busy": "2022-08-24T11:02:04.129916Z",
          "iopub.execute_input": "2022-08-24T11:02:04.130407Z",
          "iopub.status.idle": "2022-08-24T11:02:04.305478Z",
          "shell.execute_reply.started": "2022-08-24T11:02:04.130351Z",
          "shell.execute_reply": "2022-08-24T11:02:04.303883Z"
        },
        "trusted": true,
        "id": "loQxw_GdC2E1",
        "colab": {
          "base_uri": "https://localhost:8080/"
        },
        "outputId": "b71d3271-ee5f-4836-f267-b1f1ea592bac"
      },
      "execution_count": 706,
      "outputs": [
        {
          "output_type": "execute_result",
          "data": {
            "text/plain": [
              "6.95"
            ]
          },
          "metadata": {},
          "execution_count": 706
        }
      ]
    },
    {
      "cell_type": "code",
      "source": [
        "wmean = np.average(z, weights=w)\n",
        "wmean"
      ],
      "metadata": {
        "execution": {
          "iopub.status.busy": "2022-08-24T11:02:04.308064Z",
          "iopub.execute_input": "2022-08-24T11:02:04.308783Z",
          "iopub.status.idle": "2022-08-24T11:02:04.317306Z",
          "shell.execute_reply.started": "2022-08-24T11:02:04.308723Z",
          "shell.execute_reply": "2022-08-24T11:02:04.316451Z"
        },
        "trusted": true,
        "id": "VMqwxK6JC2E3",
        "colab": {
          "base_uri": "https://localhost:8080/"
        },
        "outputId": "c1962ef2-2d02-4ec7-cd3f-5407fb5e1e30"
      },
      "execution_count": 707,
      "outputs": [
        {
          "output_type": "execute_result",
          "data": {
            "text/plain": [
              "6.95"
            ]
          },
          "metadata": {},
          "execution_count": 707
        }
      ]
    },
    {
      "cell_type": "markdown",
      "source": [
        "The result is the same as in the case of the pure Python implementation. You can also use this method on ordinary lists and tuples.\n",
        "\n",
        "Another solution is to use the element-wise product w * y with [np.sum()](https://docs.scipy.org/doc/numpy/reference/generated/numpy.sum.html) or [.sum()](https://docs.scipy.org/doc/numpy/reference/generated/numpy.ndarray.sum.html):"
      ],
      "metadata": {
        "id": "YpI1UKaeC2E4"
      }
    },
    {
      "cell_type": "code",
      "source": [
        "# (w * y).sum() / w.sum() NOT WORKED\n",
        "\n",
        "sum((w * y)) / sum(w)"
      ],
      "metadata": {
        "execution": {
          "iopub.status.busy": "2022-08-24T11:02:04.318923Z",
          "iopub.execute_input": "2022-08-24T11:02:04.319457Z",
          "iopub.status.idle": "2022-08-24T11:02:04.332218Z",
          "shell.execute_reply.started": "2022-08-24T11:02:04.319423Z",
          "shell.execute_reply": "2022-08-24T11:02:04.330813Z"
        },
        "trusted": true,
        "id": "xMxYt3-TC2E5",
        "colab": {
          "base_uri": "https://localhost:8080/"
        },
        "outputId": "8aee9bd5-1fa1-4466-9dbc-f4172267f6a6"
      },
      "execution_count": 708,
      "outputs": [
        {
          "output_type": "execute_result",
          "data": {
            "text/plain": [
              "6.95"
            ]
          },
          "metadata": {},
          "execution_count": 708
        }
      ]
    },
    {
      "cell_type": "markdown",
      "source": [
        "That’s it! You’ve calculated the weighted mean.\n",
        "\n",
        "However, be careful if your dataset contains nan values:"
      ],
      "metadata": {
        "id": "6Nf1o4gmC2E6"
      }
    },
    {
      "cell_type": "code",
      "source": [
        "w = np.array([0.1, 0.2, 0.3, 0.0, 0.2, 0.1])\n",
        "(w * y_with_nan).sum() / w.sum()"
      ],
      "metadata": {
        "execution": {
          "iopub.status.busy": "2022-08-24T11:02:04.432274Z",
          "iopub.execute_input": "2022-08-24T11:02:04.433712Z",
          "iopub.status.idle": "2022-08-24T11:02:04.443640Z",
          "shell.execute_reply.started": "2022-08-24T11:02:04.433647Z",
          "shell.execute_reply": "2022-08-24T11:02:04.442083Z"
        },
        "trusted": true,
        "id": "7CaGsO1QC2E7",
        "colab": {
          "base_uri": "https://localhost:8080/"
        },
        "outputId": "d5ac7c62-b022-47a1-90cd-c0cf12146bb7"
      },
      "execution_count": 709,
      "outputs": [
        {
          "output_type": "execute_result",
          "data": {
            "text/plain": [
              "nan"
            ]
          },
          "metadata": {},
          "execution_count": 709
        }
      ]
    },
    {
      "cell_type": "code",
      "source": [
        "np.average(y_with_nan, weights=w)"
      ],
      "metadata": {
        "execution": {
          "iopub.status.busy": "2022-08-24T11:02:04.501608Z",
          "iopub.execute_input": "2022-08-24T11:02:04.502634Z",
          "iopub.status.idle": "2022-08-24T11:02:04.511272Z",
          "shell.execute_reply.started": "2022-08-24T11:02:04.502580Z",
          "shell.execute_reply": "2022-08-24T11:02:04.509983Z"
        },
        "trusted": true,
        "id": "xPH3IHLBC2E7",
        "colab": {
          "base_uri": "https://localhost:8080/"
        },
        "outputId": "57597754-0def-4280-d4b4-f10d70bbed5c"
      },
      "execution_count": 710,
      "outputs": [
        {
          "output_type": "execute_result",
          "data": {
            "text/plain": [
              "nan"
            ]
          },
          "metadata": {},
          "execution_count": 710
        }
      ]
    },
    {
      "cell_type": "code",
      "source": [
        "np.average(z_with_nan, weights=w)"
      ],
      "metadata": {
        "execution": {
          "iopub.status.busy": "2022-08-24T11:02:04.571320Z",
          "iopub.execute_input": "2022-08-24T11:02:04.572344Z",
          "iopub.status.idle": "2022-08-24T11:02:04.580832Z",
          "shell.execute_reply.started": "2022-08-24T11:02:04.572292Z",
          "shell.execute_reply": "2022-08-24T11:02:04.579568Z"
        },
        "trusted": true,
        "id": "8iGuc3HCC2E8",
        "colab": {
          "base_uri": "https://localhost:8080/"
        },
        "outputId": "f3a11cb1-0a21-4190-9535-52163dcc6891"
      },
      "execution_count": 711,
      "outputs": [
        {
          "output_type": "execute_result",
          "data": {
            "text/plain": [
              "nan"
            ]
          },
          "metadata": {},
          "execution_count": 711
        }
      ]
    },
    {
      "cell_type": "markdown",
      "source": [
        "In this case, average() returns nan, which is consistent with np.mean()."
      ],
      "metadata": {
        "id": "yzaghCTRC2E9"
      }
    },
    {
      "cell_type": "markdown",
      "source": [
        "## Harmonic Mean"
      ],
      "metadata": {
        "id": "DJ-bMURtC2E_"
      }
    },
    {
      "cell_type": "markdown",
      "source": [
        "The harmonic mean is the reciprocal of the mean of the reciprocals of all items in the dataset: 𝑛 / Σᵢ(1/𝑥ᵢ), where 𝑖 = 1, 2, …, 𝑛 and 𝑛 is the number of items in the dataset 𝑥. One variant of the pure Python implementation of the harmonic mean is this:"
      ],
      "metadata": {
        "id": "WH5OUBAoC2FA"
      }
    },
    {
      "cell_type": "code",
      "source": [
        "x = [8.0, 1, 2.5, 4, 28.0]\n",
        "hmean = len(x) / sum(1 / item for item in x)\n",
        "hmean"
      ],
      "metadata": {
        "execution": {
          "iopub.status.busy": "2022-08-24T11:02:04.773713Z",
          "iopub.execute_input": "2022-08-24T11:02:04.774469Z",
          "iopub.status.idle": "2022-08-24T11:02:04.781700Z",
          "shell.execute_reply.started": "2022-08-24T11:02:04.774426Z",
          "shell.execute_reply": "2022-08-24T11:02:04.780445Z"
        },
        "trusted": true,
        "id": "uM9WnO11C2FB",
        "colab": {
          "base_uri": "https://localhost:8080/"
        },
        "outputId": "db72acef-5575-4806-dae9-9d512e7646d8"
      },
      "execution_count": 712,
      "outputs": [
        {
          "output_type": "execute_result",
          "data": {
            "text/plain": [
              "2.7613412228796843"
            ]
          },
          "metadata": {},
          "execution_count": 712
        }
      ]
    },
    {
      "cell_type": "markdown",
      "source": [
        "It’s quite different from the value of the arithmetic mean for the same data x, which you calculated to be 8.7.\n",
        "\n",
        "You can also calculate this measure with [statistics.harmonic_mean()](https://docs.python.org/3/library/statistics.html#statistics.harmonic_mean):"
      ],
      "metadata": {
        "id": "lBf0DbHPC2FC"
      }
    },
    {
      "cell_type": "code",
      "source": [
        "hmean = statistics.harmonic_mean(x)\n",
        "hmean"
      ],
      "metadata": {
        "execution": {
          "iopub.status.busy": "2022-08-24T11:02:04.886812Z",
          "iopub.execute_input": "2022-08-24T11:02:04.887344Z",
          "iopub.status.idle": "2022-08-24T11:02:04.895851Z",
          "shell.execute_reply.started": "2022-08-24T11:02:04.887295Z",
          "shell.execute_reply": "2022-08-24T11:02:04.894487Z"
        },
        "trusted": true,
        "id": "g7lt2jcrC2FF",
        "colab": {
          "base_uri": "https://localhost:8080/"
        },
        "outputId": "8a5b9bd2-9296-42fd-e2eb-44b0d74c69f6"
      },
      "execution_count": 713,
      "outputs": [
        {
          "output_type": "execute_result",
          "data": {
            "text/plain": [
              "2.7613412228796843"
            ]
          },
          "metadata": {},
          "execution_count": 713
        }
      ]
    },
    {
      "cell_type": "markdown",
      "source": [
        "The example above shows one implementation of statistics.harmonic_mean(). If you have a nan value in a dataset, then it’ll return nan. If there’s at least one 0, then it’ll return 0. If you provide at least one negative number, then you’ll get [statistics.StatisticsError](https://docs.python.org/3/library/statistics.html#statistics.StatisticsError):"
      ],
      "metadata": {
        "id": "RfNB--bTC2FK"
      }
    },
    {
      "cell_type": "code",
      "source": [
        "statistics.harmonic_mean(x_with_nan)\n",
        "statistics.harmonic_mean([1, 0, 2])\n",
        "try:\n",
        "    statistics.harmonic_mean([1, 2, -2])\n",
        "except:\n",
        "    print(\"StatisticsError: harmonic mean does not support negative values\")"
      ],
      "metadata": {
        "execution": {
          "iopub.status.busy": "2022-08-24T11:02:04.995648Z",
          "iopub.execute_input": "2022-08-24T11:02:04.996515Z",
          "iopub.status.idle": "2022-08-24T11:02:05.009210Z",
          "shell.execute_reply.started": "2022-08-24T11:02:04.996456Z",
          "shell.execute_reply": "2022-08-24T11:02:05.007713Z"
        },
        "trusted": true,
        "id": "rhVSpdfvC2FL",
        "colab": {
          "base_uri": "https://localhost:8080/"
        },
        "outputId": "5eb6f5ee-a608-443c-96e4-49017fdde737"
      },
      "execution_count": 714,
      "outputs": [
        {
          "output_type": "execute_result",
          "data": {
            "text/plain": [
              "nan"
            ]
          },
          "metadata": {},
          "execution_count": 714
        },
        {
          "output_type": "execute_result",
          "data": {
            "text/plain": [
              "0"
            ]
          },
          "metadata": {},
          "execution_count": 714
        },
        {
          "output_type": "stream",
          "name": "stdout",
          "text": [
            "StatisticsError: harmonic mean does not support negative values\n"
          ]
        }
      ]
    },
    {
      "cell_type": "markdown",
      "source": [
        "Keep these three scenarios in mind when you’re using this method!\n",
        "\n",
        "A third way to calculate the harmonic mean is to use [scipy.stats.hmean()](https://docs.scipy.org/doc/scipy/reference/generated/scipy.stats.hmean.html):"
      ],
      "metadata": {
        "id": "lrnh8ZJtC2FL"
      }
    },
    {
      "cell_type": "code",
      "source": [
        "scipy.stats.hmean(y)\n",
        "scipy.stats.hmean(z)"
      ],
      "metadata": {
        "execution": {
          "iopub.status.busy": "2022-08-24T11:02:05.109325Z",
          "iopub.execute_input": "2022-08-24T11:02:05.109831Z",
          "iopub.status.idle": "2022-08-24T11:02:05.121629Z",
          "shell.execute_reply.started": "2022-08-24T11:02:05.109789Z",
          "shell.execute_reply": "2022-08-24T11:02:05.120233Z"
        },
        "trusted": true,
        "id": "VfAlM4_6C2FM",
        "colab": {
          "base_uri": "https://localhost:8080/"
        },
        "outputId": "df1a49f8-00f0-4294-c23e-b8488a695961"
      },
      "execution_count": 715,
      "outputs": [
        {
          "output_type": "execute_result",
          "data": {
            "text/plain": [
              "2.7613412228796843"
            ]
          },
          "metadata": {},
          "execution_count": 715
        },
        {
          "output_type": "execute_result",
          "data": {
            "text/plain": [
              "2.7613412228796843"
            ]
          },
          "metadata": {},
          "execution_count": 715
        }
      ]
    },
    {
      "cell_type": "markdown",
      "source": [
        "Again, this is a pretty straightforward implementation. However, if your dataset contains nan, 0, a negative number, or anything but positive numbers, then you’ll get a ValueError!"
      ],
      "metadata": {
        "id": "DhvAMfaFC2FN"
      }
    },
    {
      "cell_type": "markdown",
      "source": [
        "## Geometric Mean"
      ],
      "metadata": {
        "id": "olujpY7FC2FP"
      }
    },
    {
      "cell_type": "markdown",
      "source": [
        "The geometric mean is the 𝑛-th root of the product of all 𝑛 elements 𝑥ᵢ in a dataset 𝑥: ⁿ√(Πᵢ𝑥ᵢ), where 𝑖 = 1, 2, …, 𝑛. The following figure illustrates the arithmetic, harmonic, and geometric means of a dataset:\n",
        "\n",
        "![](https://files.realpython.com/media/py-stats-02.ec1ca0f9a9ac.png)"
      ],
      "metadata": {
        "id": "epCpP2w4C2FP"
      }
    },
    {
      "cell_type": "markdown",
      "source": [
        "Again, the green dots represent the data points 1, 2.5, 4, 8, and 28. The red dashed line is the mean. The blue dashed line is the harmonic mean, and the yellow dashed line is the geometric mean.\n",
        "\n",
        "You can implement the geometric mean in pure Python like this:"
      ],
      "metadata": {
        "id": "s9BDlsMTC2FQ"
      }
    },
    {
      "cell_type": "code",
      "source": [
        "x = [8.0, 1, 2.5, 4, 28.0]\n",
        "gmean = 1\n",
        "for item in x:\n",
        "    gmean *= item\n",
        "    print(gmean)"
      ],
      "metadata": {
        "execution": {
          "iopub.status.busy": "2022-08-24T11:02:05.321877Z",
          "iopub.execute_input": "2022-08-24T11:02:05.322639Z",
          "iopub.status.idle": "2022-08-24T11:02:05.328280Z",
          "shell.execute_reply.started": "2022-08-24T11:02:05.322594Z",
          "shell.execute_reply": "2022-08-24T11:02:05.327442Z"
        },
        "trusted": true,
        "id": "xPLSMmF6C2FR",
        "colab": {
          "base_uri": "https://localhost:8080/"
        },
        "outputId": "a2d356ef-7e4f-49b6-e8db-c0b7d3d209e6"
      },
      "execution_count": 716,
      "outputs": [
        {
          "output_type": "stream",
          "name": "stdout",
          "text": [
            "8.0\n",
            "8.0\n",
            "20.0\n",
            "80.0\n",
            "2240.0\n"
          ]
        }
      ]
    },
    {
      "cell_type": "code",
      "source": [
        "gmean **= 1 / len(x)\n",
        "gmean"
      ],
      "metadata": {
        "execution": {
          "iopub.status.busy": "2022-08-24T11:02:05.418605Z",
          "iopub.execute_input": "2022-08-24T11:02:05.419397Z",
          "iopub.status.idle": "2022-08-24T11:02:05.427455Z",
          "shell.execute_reply.started": "2022-08-24T11:02:05.419323Z",
          "shell.execute_reply": "2022-08-24T11:02:05.426161Z"
        },
        "trusted": true,
        "id": "tcOFZjZEC2FU",
        "colab": {
          "base_uri": "https://localhost:8080/"
        },
        "outputId": "6eea4b9d-3e4e-4a01-8f39-4db5ae5dcccf"
      },
      "execution_count": 717,
      "outputs": [
        {
          "output_type": "execute_result",
          "data": {
            "text/plain": [
              "4.677885674856041"
            ]
          },
          "metadata": {},
          "execution_count": 717
        }
      ]
    },
    {
      "cell_type": "markdown",
      "source": [
        "As you can see, the value of the geometric mean, in this case, differs significantly from the values of the arithmetic (8.7) and harmonic (2.76) means for the same dataset x.\n",
        "\n",
        "Python 3.8 introduced [statistics.geometric_mean()](https://docs.python.org/3/library/statistics.html#statistics.geometric_mean), which converts all values to floating-point numbers and returns their geometric mean:"
      ],
      "metadata": {
        "id": "EQS678sGC2FY"
      }
    },
    {
      "cell_type": "code",
      "source": [
        "try:\n",
        "    gmean = statistics.geometric_mean(x)\n",
        "    print(gmean)\n",
        "except:\n",
        "    print(\"`statistics.geometric_mean()` function has been introduced in Python 3.8\")"
      ],
      "metadata": {
        "execution": {
          "iopub.status.busy": "2022-08-24T11:02:05.525850Z",
          "iopub.execute_input": "2022-08-24T11:02:05.526304Z",
          "iopub.status.idle": "2022-08-24T11:02:05.532637Z",
          "shell.execute_reply.started": "2022-08-24T11:02:05.526268Z",
          "shell.execute_reply": "2022-08-24T11:02:05.531451Z"
        },
        "trusted": true,
        "id": "yEVQuPKYC2FZ",
        "colab": {
          "base_uri": "https://localhost:8080/"
        },
        "outputId": "7dba4560-3da1-4e17-e4cc-6da2d694ca58"
      },
      "execution_count": 718,
      "outputs": [
        {
          "output_type": "stream",
          "name": "stdout",
          "text": [
            "`statistics.geometric_mean()` function has been introduced in Python 3.8\n"
          ]
        }
      ]
    },
    {
      "cell_type": "markdown",
      "source": [
        "You’ve got the same result as in the previous example, but with a minimal rounding error.\n",
        "\n",
        "If you pass data with nan values, then statistics.geometric_mean() will behave like most similar functions and return nan:"
      ],
      "metadata": {
        "id": "0lcxF5ZlC2Fa"
      }
    },
    {
      "cell_type": "markdown",
      "source": [
        "If you pass data with nan values, then statistics.geometric_mean() will behave like most similar functions and return nan:"
      ],
      "metadata": {
        "id": "8ctV5N8CC2Fa"
      }
    },
    {
      "cell_type": "code",
      "source": [
        "try:\n",
        "    gmean = statistics.geometric_mean(x_with_nan)\n",
        "    print(gmean)\n",
        "except:\n",
        "    print(\"`statistics.geometric_mean()` function has been introduced in Python 3.8\")"
      ],
      "metadata": {
        "execution": {
          "iopub.status.busy": "2022-08-24T11:02:05.674070Z",
          "iopub.execute_input": "2022-08-24T11:02:05.675256Z",
          "iopub.status.idle": "2022-08-24T11:02:05.681855Z",
          "shell.execute_reply.started": "2022-08-24T11:02:05.675205Z",
          "shell.execute_reply": "2022-08-24T11:02:05.680687Z"
        },
        "trusted": true,
        "colab": {
          "base_uri": "https://localhost:8080/"
        },
        "id": "QOBxQi8zC2Fb",
        "outputId": "c54ae73e-f2ec-4563-83b0-d5e57f7916fe"
      },
      "execution_count": 719,
      "outputs": [
        {
          "output_type": "stream",
          "name": "stdout",
          "text": [
            "`statistics.geometric_mean()` function has been introduced in Python 3.8\n"
          ]
        }
      ]
    },
    {
      "cell_type": "markdown",
      "source": [
        "Indeed, this is consistent with the behavior of statistics.mean(), statistics.fmean(), and statistics.harmonic_mean(). If there’s a zero or negative number among your data, then statistics.geometric_mean() will raise the statistics.StatisticsError."
      ],
      "metadata": {
        "id": "7VjISgGiC2Fc"
      }
    },
    {
      "cell_type": "markdown",
      "source": [
        "You can also get the geometric mean with [scipy.stats.gmean()](https://docs.scipy.org/doc/scipy/reference/generated/scipy.stats.gmean.html):"
      ],
      "metadata": {
        "id": "btEHLULAC2Fc"
      }
    },
    {
      "cell_type": "code",
      "source": [
        "scipy.stats.gmean(y)\n",
        "scipy.stats.gmean(x)"
      ],
      "metadata": {
        "execution": {
          "iopub.status.busy": "2022-08-24T11:02:05.825285Z",
          "iopub.execute_input": "2022-08-24T11:02:05.826181Z",
          "iopub.status.idle": "2022-08-24T11:02:05.837377Z",
          "shell.execute_reply.started": "2022-08-24T11:02:05.826118Z",
          "shell.execute_reply": "2022-08-24T11:02:05.835892Z"
        },
        "trusted": true,
        "colab": {
          "base_uri": "https://localhost:8080/"
        },
        "id": "sUSLgr5VC2Fd",
        "outputId": "21ac1344-7101-4ac6-adf2-d080bb0b49ae"
      },
      "execution_count": 720,
      "outputs": [
        {
          "output_type": "execute_result",
          "data": {
            "text/plain": [
              "4.67788567485604"
            ]
          },
          "metadata": {},
          "execution_count": 720
        },
        {
          "output_type": "execute_result",
          "data": {
            "text/plain": [
              "4.67788567485604"
            ]
          },
          "metadata": {},
          "execution_count": 720
        }
      ]
    },
    {
      "cell_type": "markdown",
      "source": [
        "You obtained the same result as with the pure Python implementation.\n",
        "\n",
        "If you have nan values in a dataset, then gmean() will return nan. If there’s at least one 0, then it’ll return 0.0 and give a warning. If you provide at least one negative number, then you’ll get nan and the warning."
      ],
      "metadata": {
        "id": "CFvVnXPZC2Ff"
      }
    },
    {
      "cell_type": "markdown",
      "source": [
        "## Median"
      ],
      "metadata": {
        "id": "jGBlouMSC2Fg"
      }
    },
    {
      "cell_type": "markdown",
      "source": [
        "The sample median is the middle element of a sorted dataset. The dataset can be sorted in increasing or decreasing order. If the number of elements 𝑛 of the dataset is odd, then the median is the value at the middle position: 0.5(𝑛 + 1). If 𝑛 is even, then the median is the arithmetic mean of the two values in the middle, that is, the items at the positions 0.5𝑛 and 0.5𝑛 + 1.\n",
        "\n",
        "For example, if you have the data points 2, 4, 1, 8, and 9, then the median value is 4, which is in the middle of the sorted dataset (1, 2, 4, 8, 9). If the data points are 2, 4, 1, and 8, then the median is 3, which is the average of the two middle elements of the sorted sequence (2 and 4). The following figure illustrates this:\n",
        "\n",
        "![](https://files.realpython.com/media/py-stats-04.f7b39a21dd2d.png)"
      ],
      "metadata": {
        "id": "JAIrPH5hC2Fh"
      }
    },
    {
      "cell_type": "markdown",
      "source": [
        "The data points are the green dots, and the purple lines show the median for each dataset. The median value for the upper dataset (1, 2.5, 4, 8, and 28) is 4. If you remove the outlier 28 from the lower dataset, then the median becomes the arithmetic average between 2.5 and 4, which is 3.25.\n",
        "\n",
        "The figure below shows both the mean and median of the data points 1, 2.5, 4, 8, and 28:\n",
        "\n",
        "![](https://files.realpython.com/media/py-stats-03.33356e86aa97.png)"
      ],
      "metadata": {
        "id": "yPJidX3-C2Fj"
      }
    },
    {
      "cell_type": "markdown",
      "source": [
        "Again, the mean is the red dashed line, while the median is the purple line.\n",
        " \n",
        "The main difference between the behavior of the mean and median is related to dataset outliers or extremes. The mean is heavily affected by outliers, but the median only depends on outliers either slightly or not at all. Consider the following figure:\n",
        "\n",
        "![](https://files.realpython.com/media/py-stats-05.b5c3dba0cd5f.png)"
      ],
      "metadata": {
        "id": "PyyueuZsC2Fk"
      }
    },
    {
      "cell_type": "markdown",
      "source": [
        "The upper dataset again has the items 1, 2.5, 4, 8, and 28. Its mean is 8.7, and the median is 5, as you saw earlier. The lower dataset shows what’s going on when you move the rightmost point with the value 28:\n",
        "\n",
        "* If you increase its value (move it to the right), then the mean will rise, but the median value won’t ever change.\n",
        "* If you decrease its value (move it to the left), then the mean will drop, but the median will remain the same until the value of the moving point is greater than or equal to 4.\n",
        "\n",
        "You can compare the mean and median as one way to detect outliers and asymmetry in your data. Whether the mean value or the median value is more useful to you depends on the context of your particular problem.\n",
        "\n",
        "Here is one of many possible pure Python implementations of the median:"
      ],
      "metadata": {
        "id": "0kx6I_PmC2Fl"
      }
    },
    {
      "cell_type": "code",
      "source": [
        "x = [8.0, 1, 2.5, 4, 28.0]\n",
        "     \n",
        "n = len(x)\n",
        "\n",
        "if n % 2:\n",
        "    median_ = sorted(x)[round(0.5*(n-1))]\n",
        "else:\n",
        "    x_ord, index = sorted(x), round(0.5 * n)\n",
        "    median_ = 0.5 * (x_ord[index-1] + x_ord[index])\n",
        "    \n",
        "median_"
      ],
      "metadata": {
        "execution": {
          "iopub.status.busy": "2022-08-24T11:02:06.129081Z",
          "iopub.execute_input": "2022-08-24T11:02:06.129951Z",
          "iopub.status.idle": "2022-08-24T11:02:06.142574Z",
          "shell.execute_reply.started": "2022-08-24T11:02:06.129888Z",
          "shell.execute_reply": "2022-08-24T11:02:06.141460Z"
        },
        "trusted": true,
        "id": "B5lekUIKC2Ft",
        "colab": {
          "base_uri": "https://localhost:8080/"
        },
        "outputId": "d261f40c-d20d-4e7d-af7f-9532c5cd093a"
      },
      "execution_count": 721,
      "outputs": [
        {
          "output_type": "execute_result",
          "data": {
            "text/plain": [
              "4"
            ]
          },
          "metadata": {},
          "execution_count": 721
        }
      ]
    },
    {
      "cell_type": "markdown",
      "source": [
        "Two most important steps of this implementation are as follows:\n",
        "\n",
        "Sorting the elements of the dataset\n",
        "Finding the middle element(s) in the sorted dataset\n",
        "\n",
        "You can get the median with [statistics.median()](https://docs.python.org/3/library/statistics.html#statistics.median):"
      ],
      "metadata": {
        "id": "T2uoUzDPC2Fu"
      }
    },
    {
      "cell_type": "code",
      "source": [
        "median_ = statistics.median(x)\n",
        "median_\n",
        "\n",
        "median_ = statistics.median(x[:-1])\n",
        "median_"
      ],
      "metadata": {
        "execution": {
          "iopub.status.busy": "2022-08-24T11:02:06.251535Z",
          "iopub.execute_input": "2022-08-24T11:02:06.252318Z",
          "iopub.status.idle": "2022-08-24T11:02:06.263949Z",
          "shell.execute_reply.started": "2022-08-24T11:02:06.252269Z",
          "shell.execute_reply": "2022-08-24T11:02:06.262463Z"
        },
        "trusted": true,
        "id": "LrHyMUsyC2Fv",
        "colab": {
          "base_uri": "https://localhost:8080/"
        },
        "outputId": "6455a56b-de7b-4d5e-d018-2fa24f2d5633"
      },
      "execution_count": 722,
      "outputs": [
        {
          "output_type": "execute_result",
          "data": {
            "text/plain": [
              "4"
            ]
          },
          "metadata": {},
          "execution_count": 722
        },
        {
          "output_type": "execute_result",
          "data": {
            "text/plain": [
              "3.25"
            ]
          },
          "metadata": {},
          "execution_count": 722
        }
      ]
    },
    {
      "cell_type": "markdown",
      "source": [
        "The sorted version of x is [1, 2.5, 4, 8.0, 28.0], so the element in the middle is 4. The sorted version of x[:-1], which is x without the last item 28.0, is [1, 2.5, 4, 8.0]. Now, there are two middle elements, 2.5 and 4. Their average is 3.25.\n",
        "\n",
        "[median_low()](https://docs.python.org/3/library/statistics.html#statistics.median_low) and [median_high()](https://docs.python.org/3/library/statistics.html#statistics.median_high) are two more functions related to the median in the Python statistics library. They always return an element from the dataset:\n",
        "\n",
        "If the number of elements is odd, then there’s a single middle value, so these functions behave just like median().\n",
        "If the number of elements is even, then there are two middle values. In this case, median_low() returns the lower and median_high() the higher middle value.\n",
        "\n",
        "You can use these functions just as you’d use median():"
      ],
      "metadata": {
        "id": "9ib5BteZC2Fw"
      }
    },
    {
      "cell_type": "code",
      "source": [
        "statistics.median_low(x[:-1])\n",
        "statistics.median_high(x[:-1])"
      ],
      "metadata": {
        "execution": {
          "iopub.status.busy": "2022-08-24T11:02:06.360208Z",
          "iopub.execute_input": "2022-08-24T11:02:06.360710Z",
          "iopub.status.idle": "2022-08-24T11:02:06.369559Z",
          "shell.execute_reply.started": "2022-08-24T11:02:06.360663Z",
          "shell.execute_reply": "2022-08-24T11:02:06.368528Z"
        },
        "trusted": true,
        "id": "kcjL6I3JC2Fx",
        "colab": {
          "base_uri": "https://localhost:8080/"
        },
        "outputId": "6d78d30b-8d77-4b63-c1d9-a91a39bacd9a"
      },
      "execution_count": 723,
      "outputs": [
        {
          "output_type": "execute_result",
          "data": {
            "text/plain": [
              "2.5"
            ]
          },
          "metadata": {},
          "execution_count": 723
        },
        {
          "output_type": "execute_result",
          "data": {
            "text/plain": [
              "4"
            ]
          },
          "metadata": {},
          "execution_count": 723
        }
      ]
    },
    {
      "cell_type": "markdown",
      "source": [
        "Again, the sorted version of `x[:-1]` is `[1, 2.5, 4, 8.0]`. The two elements in the middle are 2.5 (low) and 4 (high).\n",
        "\n",
        "Unlike most other functions from the Python statistics library, median(), median_low(), and median_high() don’t return nan when there are nan values among the data points:"
      ],
      "metadata": {
        "id": "ZnyfV3bnC2Fx"
      }
    },
    {
      "cell_type": "code",
      "source": [
        "statistics.median(x_with_nan)\n",
        "statistics.median_low(x_with_nan)\n",
        "statistics.median_high(x_with_nan)"
      ],
      "metadata": {
        "execution": {
          "iopub.status.busy": "2022-08-24T11:02:06.465827Z",
          "iopub.execute_input": "2022-08-24T11:02:06.467056Z",
          "iopub.status.idle": "2022-08-24T11:02:06.479320Z",
          "shell.execute_reply.started": "2022-08-24T11:02:06.467008Z",
          "shell.execute_reply": "2022-08-24T11:02:06.478380Z"
        },
        "trusted": true,
        "id": "Rjtx5EL6C2Fy",
        "colab": {
          "base_uri": "https://localhost:8080/"
        },
        "outputId": "c06cad61-8a30-4ad0-d084-71106a2d14d1"
      },
      "execution_count": 724,
      "outputs": [
        {
          "output_type": "execute_result",
          "data": {
            "text/plain": [
              "6.0"
            ]
          },
          "metadata": {},
          "execution_count": 724
        },
        {
          "output_type": "execute_result",
          "data": {
            "text/plain": [
              "4"
            ]
          },
          "metadata": {},
          "execution_count": 724
        },
        {
          "output_type": "execute_result",
          "data": {
            "text/plain": [
              "8.0"
            ]
          },
          "metadata": {},
          "execution_count": 724
        }
      ]
    },
    {
      "cell_type": "markdown",
      "source": [
        "Beware of this behavior because it might not be what you want!\n",
        "\n",
        "You can also get the median with [np.median()](https://docs.scipy.org/doc/numpy/reference/generated/numpy.median.html):"
      ],
      "metadata": {
        "id": "kiOVxGUOC2Fz"
      }
    },
    {
      "cell_type": "code",
      "source": [
        "median_ = np.median(y)\n",
        "median_\n",
        "median_ = np.median(y[:-1])\n",
        "median_"
      ],
      "metadata": {
        "execution": {
          "iopub.status.busy": "2022-08-24T11:02:06.583540Z",
          "iopub.execute_input": "2022-08-24T11:02:06.584595Z",
          "iopub.status.idle": "2022-08-24T11:02:06.597790Z",
          "shell.execute_reply.started": "2022-08-24T11:02:06.584541Z",
          "shell.execute_reply": "2022-08-24T11:02:06.596619Z"
        },
        "trusted": true,
        "id": "NzEvC2sfC2F0",
        "colab": {
          "base_uri": "https://localhost:8080/"
        },
        "outputId": "4d64a0a5-5845-4c80-bfdf-592e29f73bc9"
      },
      "execution_count": 725,
      "outputs": [
        {
          "output_type": "execute_result",
          "data": {
            "text/plain": [
              "4.0"
            ]
          },
          "metadata": {},
          "execution_count": 725
        },
        {
          "output_type": "execute_result",
          "data": {
            "text/plain": [
              "3.25"
            ]
          },
          "metadata": {},
          "execution_count": 725
        }
      ]
    },
    {
      "cell_type": "markdown",
      "source": [
        "You’ve obtained the same values with statistics.median() and np.median().\n",
        "\n",
        "However, if there’s a nan value in your dataset, then np.median() issues the [RuntimeWarning](https://docs.python.org/3.7/library/exceptions.html#RuntimeWarning) and returns nan. If this behavior is not what you want, then you can use [nanmedian()](https://docs.scipy.org/doc/numpy/reference/generated/numpy.nanmedian.html) to ignore all nan values:"
      ],
      "metadata": {
        "id": "6ebieffhC2F1"
      }
    },
    {
      "cell_type": "code",
      "source": [
        "np.nanmedian(y_with_nan)\n",
        "np.nanmedian(y_with_nan[:-1])"
      ],
      "metadata": {
        "execution": {
          "iopub.status.busy": "2022-08-24T11:02:06.694235Z",
          "iopub.execute_input": "2022-08-24T11:02:06.694825Z",
          "iopub.status.idle": "2022-08-24T11:02:06.706286Z",
          "shell.execute_reply.started": "2022-08-24T11:02:06.694776Z",
          "shell.execute_reply": "2022-08-24T11:02:06.705256Z"
        },
        "trusted": true,
        "id": "cMZF-F-VC2F3",
        "colab": {
          "base_uri": "https://localhost:8080/"
        },
        "outputId": "f2814ea0-a0c7-4d03-dacb-3db0d1d3c2ef"
      },
      "execution_count": 726,
      "outputs": [
        {
          "output_type": "execute_result",
          "data": {
            "text/plain": [
              "4.0"
            ]
          },
          "metadata": {},
          "execution_count": 726
        },
        {
          "output_type": "execute_result",
          "data": {
            "text/plain": [
              "3.25"
            ]
          },
          "metadata": {},
          "execution_count": 726
        }
      ]
    },
    {
      "cell_type": "markdown",
      "source": [
        "The obtained results are the same as with statistics.median() and np.median() applied to the datasets x and y.\n",
        "\n",
        "Pandas Series objects have the method [.median()](https://pandas.pydata.org/pandas-docs/stable/reference/api/pandas.Series.median.html) that ignores nan values by default:"
      ],
      "metadata": {
        "id": "bH5m-EYCC2F8"
      }
    },
    {
      "cell_type": "code",
      "source": [
        "z.median()\n",
        "z_with_nan.median()"
      ],
      "metadata": {
        "execution": {
          "iopub.status.busy": "2022-08-24T11:02:06.799840Z",
          "iopub.execute_input": "2022-08-24T11:02:06.800562Z",
          "iopub.status.idle": "2022-08-24T11:02:06.810584Z",
          "shell.execute_reply.started": "2022-08-24T11:02:06.800518Z",
          "shell.execute_reply": "2022-08-24T11:02:06.809278Z"
        },
        "trusted": true,
        "id": "R8cyx20FC2F9",
        "colab": {
          "base_uri": "https://localhost:8080/"
        },
        "outputId": "79e89dcd-63d3-44b0-d147-a96ff3e8da20"
      },
      "execution_count": 727,
      "outputs": [
        {
          "output_type": "execute_result",
          "data": {
            "text/plain": [
              "4.0"
            ]
          },
          "metadata": {},
          "execution_count": 727
        },
        {
          "output_type": "execute_result",
          "data": {
            "text/plain": [
              "4.0"
            ]
          },
          "metadata": {},
          "execution_count": 727
        }
      ]
    },
    {
      "cell_type": "markdown",
      "source": [
        "The behavior of .median() is consistent with .mean() in Pandas. You can change this behavior with the optional parameter skipna."
      ],
      "metadata": {
        "id": "EgjQAak6C2F_"
      }
    },
    {
      "cell_type": "markdown",
      "source": [
        "## Mode"
      ],
      "metadata": {
        "id": "66vO6szpC2F_"
      }
    },
    {
      "cell_type": "markdown",
      "source": [
        "The sample mode is the value in the dataset that occurs most frequently. If there isn’t a single such value, then the set is multimodal since it has multiple modal values. For example, in the set that contains the points 2, 3, 2, 8, and 12, the number 2 is the mode because it occurs twice, unlike the other items that occur only once.\n",
        "\n",
        "This is how you can get the mode with pure Python:"
      ],
      "metadata": {
        "id": "c_X0wb1CC2GA"
      }
    },
    {
      "cell_type": "code",
      "source": [
        "u = [2, 3, 2, 8, 12]\n",
        "mode_ = max((u.count(item), item) for item in set(u))[1]\n",
        "mode_"
      ],
      "metadata": {
        "execution": {
          "iopub.status.busy": "2022-08-24T11:02:06.985886Z",
          "iopub.execute_input": "2022-08-24T11:02:06.986622Z",
          "iopub.status.idle": "2022-08-24T11:02:06.993197Z",
          "shell.execute_reply.started": "2022-08-24T11:02:06.986576Z",
          "shell.execute_reply": "2022-08-24T11:02:06.992361Z"
        },
        "trusted": true,
        "id": "ooD4Wf_PC2GB",
        "colab": {
          "base_uri": "https://localhost:8080/"
        },
        "outputId": "3b7f60bf-c4cb-4ca5-e147-654a8d23ac44"
      },
      "execution_count": 728,
      "outputs": [
        {
          "output_type": "execute_result",
          "data": {
            "text/plain": [
              "2"
            ]
          },
          "metadata": {},
          "execution_count": 728
        }
      ]
    },
    {
      "cell_type": "markdown",
      "source": [
        "You use u.count() to get the number of occurrences of each item in u. The item with the maximal number of occurrences is the mode. Note that you don’t have to use set(u). Instead, you might replace it with just u and iterate over the entire list.\n",
        "\n",
        "**Note:** set(u) returns a Python set with all unique items in u. You can use this trick to optimize working with larger data, especially when you expect to see a lot of duplicates."
      ],
      "metadata": {
        "id": "LYuX9UZbC2GC"
      }
    },
    {
      "cell_type": "markdown",
      "source": [
        "You can obtain the mode with [statistics.mode()](https://docs.python.org/3/library/statistics.html#statistics.mode) and [statistics.multimode()](https://docs.python.org/3/library/statistics.html#statistics.multimode):"
      ],
      "metadata": {
        "id": "kVxvXvmfC2GD"
      }
    },
    {
      "cell_type": "code",
      "source": [
        "mode_ = statistics.mode(u)\n",
        "mode_\n",
        "try:\n",
        "    mode_ = statistics.multimode(u)\n",
        "    print(mode_)\n",
        "except:\n",
        "    print(\"`statistics.multimode` function has been introduced in Python 3.8\")"
      ],
      "metadata": {
        "execution": {
          "iopub.status.busy": "2022-08-24T11:02:07.125810Z",
          "iopub.execute_input": "2022-08-24T11:02:07.126789Z",
          "iopub.status.idle": "2022-08-24T11:02:07.136286Z",
          "shell.execute_reply.started": "2022-08-24T11:02:07.126742Z",
          "shell.execute_reply": "2022-08-24T11:02:07.134860Z"
        },
        "trusted": true,
        "id": "R0MPlUFcC2GK",
        "colab": {
          "base_uri": "https://localhost:8080/"
        },
        "outputId": "1b030afd-c4e2-47e4-83bb-6d29b404f834"
      },
      "execution_count": 729,
      "outputs": [
        {
          "output_type": "execute_result",
          "data": {
            "text/plain": [
              "2"
            ]
          },
          "metadata": {},
          "execution_count": 729
        },
        {
          "output_type": "stream",
          "name": "stdout",
          "text": [
            "`statistics.multimode` function has been introduced in Python 3.8\n"
          ]
        }
      ]
    },
    {
      "cell_type": "markdown",
      "source": [
        "As you can see, mode() returned a single value, while multimode() returned the list that contains the result. This isn’t the only difference between the two functions, though. If there’s more than one modal value, then mode() raises StatisticsError, while multimode() returns the list with all modes:"
      ],
      "metadata": {
        "id": "7QEjwc6dC2GP"
      }
    },
    {
      "cell_type": "code",
      "source": [
        "v = [12, 15, 12, 15, 21, 15, 12]\n",
        "try:\n",
        "    statistics.mode(v)\n",
        "    statistics.multimode(v)\n",
        "except:\n",
        "    print(\"`statistics.mode` function can not print multiple modes.\")\n",
        "    print(\"`statistics.multimode` function has been introduced in Python 3.8\")"
      ],
      "metadata": {
        "execution": {
          "iopub.status.busy": "2022-08-24T11:02:07.323658Z",
          "iopub.execute_input": "2022-08-24T11:02:07.325002Z",
          "iopub.status.idle": "2022-08-24T11:02:07.333995Z",
          "shell.execute_reply.started": "2022-08-24T11:02:07.324942Z",
          "shell.execute_reply": "2022-08-24T11:02:07.332466Z"
        },
        "trusted": true,
        "id": "uL1AGeTyC2GQ",
        "colab": {
          "base_uri": "https://localhost:8080/"
        },
        "outputId": "b2dc5932-b387-4537-c4cb-080c51ed3c65"
      },
      "execution_count": 730,
      "outputs": [
        {
          "output_type": "stream",
          "name": "stdout",
          "text": [
            "`statistics.mode` function can not print multiple modes.\n",
            "`statistics.multimode` function has been introduced in Python 3.8\n"
          ]
        }
      ]
    },
    {
      "cell_type": "markdown",
      "source": [
        "You should pay special attention to this scenario and be careful when you’re choosing between these two functions.\n",
        "\n",
        "statistics.mode() and statistics.multimode() handle nan values as regular values and can return nan as the modal value:"
      ],
      "metadata": {
        "id": "vY9k0NDXC2GR"
      }
    },
    {
      "cell_type": "code",
      "source": [
        "statistics.mode([2, math.nan, 2])\n",
        "statistics.mode([2, math.nan, 0, math.nan, 5])\n",
        "\n",
        "try:\n",
        "    statistics.multimode([2, math.nan, 2])\n",
        "    statistics.multimode([2, math.nan, 0, math.nan, 5])\n",
        "except:\n",
        "    print(\"`statistics.multimode` function has been introduced in Python 3.8\")   "
      ],
      "metadata": {
        "execution": {
          "iopub.status.busy": "2022-08-24T11:02:07.709963Z",
          "iopub.execute_input": "2022-08-24T11:02:07.711306Z",
          "iopub.status.idle": "2022-08-24T11:02:07.724489Z",
          "shell.execute_reply.started": "2022-08-24T11:02:07.711251Z",
          "shell.execute_reply": "2022-08-24T11:02:07.723105Z"
        },
        "trusted": true,
        "id": "cMfmKd2OC2GS",
        "colab": {
          "base_uri": "https://localhost:8080/"
        },
        "outputId": "0172caaa-3f61-49d2-bc92-ea0912938398"
      },
      "execution_count": 731,
      "outputs": [
        {
          "output_type": "execute_result",
          "data": {
            "text/plain": [
              "2"
            ]
          },
          "metadata": {},
          "execution_count": 731
        },
        {
          "output_type": "execute_result",
          "data": {
            "text/plain": [
              "nan"
            ]
          },
          "metadata": {},
          "execution_count": 731
        },
        {
          "output_type": "stream",
          "name": "stdout",
          "text": [
            "`statistics.multimode` function has been introduced in Python 3.8\n"
          ]
        }
      ]
    },
    {
      "cell_type": "markdown",
      "source": [
        "n the first example above, the number 2 occurs twice and is the modal value. In the second example, nan is the modal value since it occurs twice, while the other values occur only once.\n",
        "\n",
        "**Note:** statistics.multimode() is introduced in [Python 3.8](https://docs.scipy.org/doc/scipy/reference/generated/scipy.stats.mode.html).\n",
        "\n",
        "You can also get the mode with [scipy.stats.mode()](https://docs.scipy.org/doc/scipy/reference/generated/scipy.stats.mode.html):"
      ],
      "metadata": {
        "id": "oqLZ3HA3C2GT"
      }
    },
    {
      "cell_type": "code",
      "source": [
        "u = [2, 3, 2, 8, 12]\n",
        "v = [12, 15, 12, 15, 21, 15, 12]\n",
        "\n",
        "u, v = np.array(u), np.array(v)\n",
        "mode_ = scipy.stats.mode(u)\n",
        "mode_\n",
        "mode_ = scipy.stats.mode(v)\n",
        "mode_"
      ],
      "metadata": {
        "execution": {
          "iopub.status.busy": "2022-08-24T11:02:08.105615Z",
          "iopub.execute_input": "2022-08-24T11:02:08.106852Z",
          "iopub.status.idle": "2022-08-24T11:02:08.120586Z",
          "shell.execute_reply.started": "2022-08-24T11:02:08.106796Z",
          "shell.execute_reply": "2022-08-24T11:02:08.119339Z"
        },
        "trusted": true,
        "id": "gIWwSlqKC2GT",
        "colab": {
          "base_uri": "https://localhost:8080/"
        },
        "outputId": "2179d374-7e85-4606-cfa1-9cb538dc7909"
      },
      "execution_count": 732,
      "outputs": [
        {
          "output_type": "execute_result",
          "data": {
            "text/plain": [
              "ModeResult(mode=array([2]), count=array([2]))"
            ]
          },
          "metadata": {},
          "execution_count": 732
        },
        {
          "output_type": "execute_result",
          "data": {
            "text/plain": [
              "ModeResult(mode=array([12]), count=array([3]))"
            ]
          },
          "metadata": {},
          "execution_count": 732
        }
      ]
    },
    {
      "cell_type": "markdown",
      "source": [
        "This function returns the object with the modal value and the number of times it occurs. If there are multiple modal values in the dataset, then only the smallest value is returned.\n",
        "\n",
        "You can get the mode and its number of occurrences as NumPy arrays with dot notation:"
      ],
      "metadata": {
        "id": "5HFkWubYC2Ga"
      }
    },
    {
      "cell_type": "code",
      "source": [
        "mode_.mode\n",
        "mode_.count"
      ],
      "metadata": {
        "execution": {
          "iopub.status.busy": "2022-08-24T11:02:08.247680Z",
          "iopub.execute_input": "2022-08-24T11:02:08.248671Z",
          "iopub.status.idle": "2022-08-24T11:02:08.261085Z",
          "shell.execute_reply.started": "2022-08-24T11:02:08.248608Z",
          "shell.execute_reply": "2022-08-24T11:02:08.259690Z"
        },
        "trusted": true,
        "id": "y8fi5XwnC2Gb",
        "colab": {
          "base_uri": "https://localhost:8080/"
        },
        "outputId": "8254b661-4c32-4d79-a871-de0bcc091947"
      },
      "execution_count": 733,
      "outputs": [
        {
          "output_type": "execute_result",
          "data": {
            "text/plain": [
              "array([12])"
            ]
          },
          "metadata": {},
          "execution_count": 733
        },
        {
          "output_type": "execute_result",
          "data": {
            "text/plain": [
              "array([3])"
            ]
          },
          "metadata": {},
          "execution_count": 733
        }
      ]
    },
    {
      "cell_type": "markdown",
      "source": [
        "This code uses .mode to return the smallest mode (12) in the array v and .count to return the number of times it occurs (3). scipy.stats.mode() is also flexible with nan values. It allows you to define desired behavior with the optional parameter nan_policy. This parameter can take on the values 'propagate', 'raise' (an error), or 'omit'.\n",
        "\n",
        "Pandas Series objects have the method [.mode()](https://pandas.pydata.org/pandas-docs/stable/reference/api/pandas.Series.mode.html#pandas.Series.mode) that handles multimodal values well and ignores nan values by default:"
      ],
      "metadata": {
        "id": "302U-OsLC2Gb"
      }
    },
    {
      "cell_type": "code",
      "source": [
        "u = [2, 3, 2, 8, 12]\n",
        "v = [12, 15, 12, 15, 21, 15, 12]\n",
        "w = [0.1, 0.2, 0.3, 0.25, 0.15]\n",
        "\n",
        "u, v, w = pd.Series(u), pd.Series(v), pd.Series([2, 2, math.nan])\n",
        "u.mode()\n",
        "\n",
        "v.mode()\n",
        "\n",
        "w.mode()"
      ],
      "metadata": {
        "execution": {
          "iopub.status.busy": "2022-08-24T11:02:08.379748Z",
          "iopub.execute_input": "2022-08-24T11:02:08.380654Z",
          "iopub.status.idle": "2022-08-24T11:02:08.409860Z",
          "shell.execute_reply.started": "2022-08-24T11:02:08.380606Z",
          "shell.execute_reply": "2022-08-24T11:02:08.408786Z"
        },
        "trusted": true,
        "id": "ykJgSuauC2Gc",
        "colab": {
          "base_uri": "https://localhost:8080/"
        },
        "outputId": "bb77948a-c595-40b8-bac3-b451af1748d4"
      },
      "execution_count": 734,
      "outputs": [
        {
          "output_type": "execute_result",
          "data": {
            "text/plain": [
              "0    2\n",
              "dtype: int64"
            ]
          },
          "metadata": {},
          "execution_count": 734
        },
        {
          "output_type": "execute_result",
          "data": {
            "text/plain": [
              "0    12\n",
              "1    15\n",
              "dtype: int64"
            ]
          },
          "metadata": {},
          "execution_count": 734
        },
        {
          "output_type": "execute_result",
          "data": {
            "text/plain": [
              "0    2.0\n",
              "dtype: float64"
            ]
          },
          "metadata": {},
          "execution_count": 734
        }
      ]
    },
    {
      "cell_type": "markdown",
      "source": [
        "As you can see, .mode() returns a new pd.Series that holds all modal values. If you want .mode() to take nan values into account, then just pass the optional argument dropna=False."
      ],
      "metadata": {
        "id": "KBdlRn2kC2Gd"
      }
    },
    {
      "cell_type": "markdown",
      "source": [
        "# Measures of Variability"
      ],
      "metadata": {
        "id": "zUHQmkkKC2Gf"
      }
    },
    {
      "cell_type": "markdown",
      "source": [
        "The measures of central tendency aren’t sufficient to describe data. You’ll also need the measures of variability that quantify the spread of data points. In this section, you’ll learn how to identify and calculate the following variability measures:\n",
        "\n",
        "* Variance\n",
        "* Standard deviation\n",
        "* Skewness\n",
        "* Percentiles\n",
        "* Ranges"
      ],
      "metadata": {
        "id": "R4LASgkLC2Gf"
      }
    },
    {
      "cell_type": "markdown",
      "source": [
        "# Variance"
      ],
      "metadata": {
        "id": "Rw17QhFMC2Gg"
      }
    },
    {
      "cell_type": "markdown",
      "source": [
        "The sample variance quantifies the spread of the data. It shows numerically how far the data points are from the mean. You can express the sample variance of the dataset 𝑥 with 𝑛 elements mathematically as 𝑠² = Σᵢ(𝑥ᵢ − mean(𝑥))² / (𝑛 − 1), where 𝑖 = 1, 2, …, 𝑛 and mean(𝑥) is the sample mean of 𝑥. If you want to understand deeper why you divide the sum with 𝑛 − 1 instead of 𝑛, then you can dive deeper into [Bessel’s correction](https://en.wikipedia.org/wiki/Bessel%27s_correction).\n",
        "\n",
        "The following figure shows you why it’s important to consider the variance when describing datasets:\n",
        "\n",
        "![](https://files.realpython.com/media/py-stats-06.2cafb41d561e.png)\n",
        "\n"
      ],
      "metadata": {
        "id": "Yb22PrSiC2Gh"
      }
    },
    {
      "cell_type": "markdown",
      "source": [
        "There are two datasets in this figure:\n",
        "\n",
        "* Green dots: This dataset has a smaller variance or a smaller average difference from the mean. It also has a smaller range or a smaller difference between the largest and smallest item.\n",
        "* White dots: This dataset has a larger variance or a larger average difference from the mean. It also has a bigger range or a bigger difference between the largest and smallest item.\n",
        "\n",
        "Note that these two datasets have the same mean and median, even though they appear to differ significantly. Neither the mean nor the median can describe this difference. That’s why you need the measures of variability.\n",
        "\n",
        "Here’s how you can calculate the sample variance with pure Python:"
      ],
      "metadata": {
        "id": "1OAfRPFUC2Gh"
      }
    },
    {
      "cell_type": "code",
      "source": [
        "x = [8.0, 1, 2.5, 4, 28.0]\n",
        "\n",
        "n = len(x)\n",
        "\n",
        "mean_ = sum(x) / n\n",
        "\n",
        "var_ = sum((item - mean_) ** 2 for item in x) / (n-1)\n",
        "\n",
        "var_"
      ],
      "metadata": {
        "execution": {
          "iopub.status.busy": "2022-08-24T11:02:08.665941Z",
          "iopub.execute_input": "2022-08-24T11:02:08.667515Z",
          "iopub.status.idle": "2022-08-24T11:02:08.678885Z",
          "shell.execute_reply.started": "2022-08-24T11:02:08.667446Z",
          "shell.execute_reply": "2022-08-24T11:02:08.677159Z"
        },
        "trusted": true,
        "id": "ABz4RhaKC2Gi",
        "colab": {
          "base_uri": "https://localhost:8080/"
        },
        "outputId": "26a9415e-fc80-4c51-ef6f-af98cf9c6d67"
      },
      "execution_count": 735,
      "outputs": [
        {
          "output_type": "execute_result",
          "data": {
            "text/plain": [
              "123.19999999999999"
            ]
          },
          "metadata": {},
          "execution_count": 735
        }
      ]
    },
    {
      "cell_type": "markdown",
      "source": [
        "This approach is sufficient and calculates the sample variance well. However, the shorter and more elegant solution is to call the existing function [statistics.variance()](https://docs.python.org/3/library/statistics.html#statistics.variance):"
      ],
      "metadata": {
        "id": "m7HJOSD5C2Gj"
      }
    },
    {
      "cell_type": "code",
      "source": [
        "var_ = statistics.variance(x)\n",
        "var_"
      ],
      "metadata": {
        "execution": {
          "iopub.status.busy": "2022-08-24T11:02:08.767598Z",
          "iopub.execute_input": "2022-08-24T11:02:08.768207Z",
          "iopub.status.idle": "2022-08-24T11:02:08.776054Z",
          "shell.execute_reply.started": "2022-08-24T11:02:08.768161Z",
          "shell.execute_reply": "2022-08-24T11:02:08.775061Z"
        },
        "trusted": true,
        "id": "BdMVQ3hNC2Gk",
        "colab": {
          "base_uri": "https://localhost:8080/"
        },
        "outputId": "cf9d67f5-da98-4b98-901c-4184f33c8472"
      },
      "execution_count": 736,
      "outputs": [
        {
          "output_type": "execute_result",
          "data": {
            "text/plain": [
              "123.2"
            ]
          },
          "metadata": {},
          "execution_count": 736
        }
      ]
    },
    {
      "cell_type": "markdown",
      "source": [
        "You’ve obtained the same result for the variance as above. variance() can avoid calculating the mean if you provide the mean explicitly as the second argument: statistics.variance(x, mean_).\n",
        "\n",
        "If you have nan values among your data, then statistics.variance() will return nan:"
      ],
      "metadata": {
        "id": "xfiY-xNZC2Gl"
      }
    },
    {
      "cell_type": "code",
      "source": [
        "statistics.variance(x_with_nan)"
      ],
      "metadata": {
        "execution": {
          "iopub.status.busy": "2022-08-24T11:02:08.875775Z",
          "iopub.execute_input": "2022-08-24T11:02:08.876644Z",
          "iopub.status.idle": "2022-08-24T11:02:08.884760Z",
          "shell.execute_reply.started": "2022-08-24T11:02:08.876587Z",
          "shell.execute_reply": "2022-08-24T11:02:08.883633Z"
        },
        "trusted": true,
        "id": "AxTuXAG0C2Gn",
        "colab": {
          "base_uri": "https://localhost:8080/"
        },
        "outputId": "9c04f14f-3fc3-4514-9b63-605449583360"
      },
      "execution_count": 737,
      "outputs": [
        {
          "output_type": "execute_result",
          "data": {
            "text/plain": [
              "nan"
            ]
          },
          "metadata": {},
          "execution_count": 737
        }
      ]
    },
    {
      "cell_type": "markdown",
      "source": [
        "This behavior is consistent with mean() and most other functions from the Python statistics library.\n",
        "\n",
        "You can also calculate the sample variance with NumPy. You should use the function [np.var()](https://docs.scipy.org/doc/numpy/reference/generated/numpy.var.html) or the corresponding method [.var()](https://docs.scipy.org/doc/numpy/reference/generated/numpy.ndarray.var.html):"
      ],
      "metadata": {
        "id": "tTdWufM-C2G1"
      }
    },
    {
      "cell_type": "code",
      "source": [
        "var_ = np.var(y, ddof=1)\n",
        "var_\n",
        "\n",
        "var_ = y.var(ddof=1)\n",
        "var_"
      ],
      "metadata": {
        "execution": {
          "iopub.status.busy": "2022-08-24T11:02:08.993509Z",
          "iopub.execute_input": "2022-08-24T11:02:08.994831Z",
          "iopub.status.idle": "2022-08-24T11:02:09.006249Z",
          "shell.execute_reply.started": "2022-08-24T11:02:08.994775Z",
          "shell.execute_reply": "2022-08-24T11:02:09.005119Z"
        },
        "trusted": true,
        "id": "UxDlflYZC2G-",
        "colab": {
          "base_uri": "https://localhost:8080/"
        },
        "outputId": "e63c36a6-e9d9-4a94-fd68-8f75ec6c85fa"
      },
      "execution_count": 738,
      "outputs": [
        {
          "output_type": "execute_result",
          "data": {
            "text/plain": [
              "123.19999999999999"
            ]
          },
          "metadata": {},
          "execution_count": 738
        },
        {
          "output_type": "execute_result",
          "data": {
            "text/plain": [
              "123.19999999999999"
            ]
          },
          "metadata": {},
          "execution_count": 738
        }
      ]
    },
    {
      "cell_type": "markdown",
      "source": [
        "It’s very important to specify the parameter ddof=1. That’s how you set the [delta degrees of freedom](https://en.wikipedia.org/wiki/Degrees_of_freedom_(statistics)) to 1. This parameter allows the proper calculation of 𝑠², with (𝑛 − 1) in the denominator instead of 𝑛.\n",
        "\n",
        "If you have nan values in the dataset, then np.var() and .var() will return nan:"
      ],
      "metadata": {
        "id": "eeY4nNlOC2G_"
      }
    },
    {
      "cell_type": "code",
      "source": [
        "np.var(y_with_nan, ddof=1)\n",
        "y_with_nan.var(ddof=1)"
      ],
      "metadata": {
        "execution": {
          "iopub.status.busy": "2022-08-24T11:02:09.102016Z",
          "iopub.execute_input": "2022-08-24T11:02:09.102830Z",
          "iopub.status.idle": "2022-08-24T11:02:09.112679Z",
          "shell.execute_reply.started": "2022-08-24T11:02:09.102785Z",
          "shell.execute_reply": "2022-08-24T11:02:09.111755Z"
        },
        "trusted": true,
        "id": "FpncdFlMC2HH",
        "colab": {
          "base_uri": "https://localhost:8080/"
        },
        "outputId": "333365b2-a25c-4f53-b4df-d2805295534e"
      },
      "execution_count": 739,
      "outputs": [
        {
          "output_type": "execute_result",
          "data": {
            "text/plain": [
              "nan"
            ]
          },
          "metadata": {},
          "execution_count": 739
        },
        {
          "output_type": "execute_result",
          "data": {
            "text/plain": [
              "nan"
            ]
          },
          "metadata": {},
          "execution_count": 739
        }
      ]
    },
    {
      "cell_type": "markdown",
      "source": [
        "This is consistent with np.mean() and np.average(). If you want to skip nan values, then you should use [np.nanvar()](https://docs.scipy.org/doc/numpy/reference/generated/numpy.nanvar.html):"
      ],
      "metadata": {
        "id": "BWygWIPEC2HI"
      }
    },
    {
      "cell_type": "code",
      "source": [
        "np.nanvar(y_with_nan, ddof=1)"
      ],
      "metadata": {
        "execution": {
          "iopub.status.busy": "2022-08-24T11:02:09.209993Z",
          "iopub.execute_input": "2022-08-24T11:02:09.211273Z",
          "iopub.status.idle": "2022-08-24T11:02:09.220805Z",
          "shell.execute_reply.started": "2022-08-24T11:02:09.211219Z",
          "shell.execute_reply": "2022-08-24T11:02:09.219661Z"
        },
        "trusted": true,
        "id": "ya9qk_J8C2HY",
        "colab": {
          "base_uri": "https://localhost:8080/"
        },
        "outputId": "6925fb1e-5e31-444e-d2af-4657e4c7a296"
      },
      "execution_count": 740,
      "outputs": [
        {
          "output_type": "execute_result",
          "data": {
            "text/plain": [
              "123.19999999999999"
            ]
          },
          "metadata": {},
          "execution_count": 740
        }
      ]
    },
    {
      "cell_type": "markdown",
      "source": [
        "np.nanvar() ignores nan values. It also needs you to specify ddof=1.\n",
        "\n",
        "pd.Series objects have the method [.var()](https://pandas.pydata.org/pandas-docs/stable/reference/api/pandas.Series.var.html) that skips nan values by default:"
      ],
      "metadata": {
        "id": "uPCAdyBSC2Hb"
      }
    },
    {
      "cell_type": "code",
      "source": [
        "z.var(ddof=1)\n",
        "z_with_nan.var(ddof=1)"
      ],
      "metadata": {
        "execution": {
          "iopub.status.busy": "2022-08-24T11:02:09.317544Z",
          "iopub.execute_input": "2022-08-24T11:02:09.318686Z",
          "iopub.status.idle": "2022-08-24T11:02:09.330902Z",
          "shell.execute_reply.started": "2022-08-24T11:02:09.318636Z",
          "shell.execute_reply": "2022-08-24T11:02:09.329460Z"
        },
        "trusted": true,
        "id": "3ihsYzE4C2Hd",
        "colab": {
          "base_uri": "https://localhost:8080/"
        },
        "outputId": "2c5edcce-a01d-4c5f-a3bd-fd83aa516f74"
      },
      "execution_count": 741,
      "outputs": [
        {
          "output_type": "execute_result",
          "data": {
            "text/plain": [
              "123.19999999999999"
            ]
          },
          "metadata": {},
          "execution_count": 741
        },
        {
          "output_type": "execute_result",
          "data": {
            "text/plain": [
              "123.19999999999999"
            ]
          },
          "metadata": {},
          "execution_count": 741
        }
      ]
    },
    {
      "cell_type": "markdown",
      "source": [
        "It also has the parameter ddof, but its default value is 1, so you can omit it. If you want a different behavior related to nan values, then use the optional parameter skipna.\n",
        "\n",
        "You calculate the population variance similarly to the sample variance. However, you have to use 𝑛 in the denominator instead of 𝑛 − 1: Σᵢ(𝑥ᵢ − mean(𝑥))² / 𝑛. In this case, 𝑛 is the number of items in the entire population. You can get the population variance similar to the sample variance, with the following differences:\n",
        "\n",
        "* Replace (n - 1) with n in the pure Python implementation.\n",
        "* Use [statistics.pvariance()](https://docs.python.org/3/library/statistics.html#statistics.pvariance) instead of statistics.variance().\n",
        "* Specify the parameter ddof=0 if you use NumPy or Pandas. In NumPy, you can omit ddof because its default value is 0.\n",
        "\n",
        "Note that you should always be aware of whether you’re working with a sample or the entire population whenever you’re calculating the variance!"
      ],
      "metadata": {
        "id": "5sT5-OmiC2He"
      }
    },
    {
      "cell_type": "markdown",
      "source": [
        "## Standard Deviation"
      ],
      "metadata": {
        "id": "HKmx9LBuC2Hn"
      }
    },
    {
      "cell_type": "markdown",
      "source": [
        "The sample standard deviation is another measure of data spread. It’s connected to the sample variance, as standard deviation, 𝑠, is the positive square root of the sample variance. The standard deviation is often more convenient than the variance because it has the same unit as the data points. Once you get the variance, you can calculate the standard deviation with pure Python:"
      ],
      "metadata": {
        "id": "otrbBiYvC2Hp"
      }
    },
    {
      "cell_type": "code",
      "source": [
        "x = [8.0, 1, 2.5, 4, 28.0]\n",
        "\n",
        "n = len(x)\n",
        "\n",
        "mean_ = sum(x) / n\n",
        "\n",
        "var_ = sum((item - mean_) ** 2 for item in x) / (n-1)\n",
        "\n",
        "var_"
      ],
      "metadata": {
        "execution": {
          "iopub.status.busy": "2022-08-24T11:02:09.501439Z",
          "iopub.execute_input": "2022-08-24T11:02:09.501974Z",
          "iopub.status.idle": "2022-08-24T11:02:09.513342Z",
          "shell.execute_reply.started": "2022-08-24T11:02:09.501923Z",
          "shell.execute_reply": "2022-08-24T11:02:09.511821Z"
        },
        "trusted": true,
        "id": "--oBPJC7C2Ht",
        "colab": {
          "base_uri": "https://localhost:8080/"
        },
        "outputId": "c8831df6-629c-41c0-ef3c-8f7c8b2e4790"
      },
      "execution_count": 742,
      "outputs": [
        {
          "output_type": "execute_result",
          "data": {
            "text/plain": [
              "123.19999999999999"
            ]
          },
          "metadata": {},
          "execution_count": 742
        }
      ]
    },
    {
      "cell_type": "code",
      "source": [
        "std_ = var_ ** 0.5\n",
        "std_"
      ],
      "metadata": {
        "execution": {
          "iopub.status.busy": "2022-08-24T11:02:09.579774Z",
          "iopub.execute_input": "2022-08-24T11:02:09.580246Z",
          "iopub.status.idle": "2022-08-24T11:02:09.589048Z",
          "shell.execute_reply.started": "2022-08-24T11:02:09.580208Z",
          "shell.execute_reply": "2022-08-24T11:02:09.587936Z"
        },
        "trusted": true,
        "id": "3QbXYfMmC2Hw",
        "colab": {
          "base_uri": "https://localhost:8080/"
        },
        "outputId": "2578a672-1738-4960-96a1-138d81e1f341"
      },
      "execution_count": 743,
      "outputs": [
        {
          "output_type": "execute_result",
          "data": {
            "text/plain": [
              "11.099549540409285"
            ]
          },
          "metadata": {},
          "execution_count": 743
        }
      ]
    },
    {
      "cell_type": "markdown",
      "source": [
        "Although this solution works, you can also use [statistics.stdev()](https://docs.python.org/3/library/statistics.html#statistics.stdev):"
      ],
      "metadata": {
        "id": "bYi5Ti3BC2Hy"
      }
    },
    {
      "cell_type": "code",
      "source": [
        "std_ = statistics.stdev(x)\n",
        "std_"
      ],
      "metadata": {
        "execution": {
          "iopub.status.busy": "2022-08-24T11:02:09.681588Z",
          "iopub.execute_input": "2022-08-24T11:02:09.682094Z",
          "iopub.status.idle": "2022-08-24T11:02:09.691238Z",
          "shell.execute_reply.started": "2022-08-24T11:02:09.682043Z",
          "shell.execute_reply": "2022-08-24T11:02:09.689715Z"
        },
        "trusted": true,
        "id": "gbzY4vgoC2Hz",
        "colab": {
          "base_uri": "https://localhost:8080/"
        },
        "outputId": "4150bbbc-ad74-45fa-8555-fd28eb0f4d3f"
      },
      "execution_count": 744,
      "outputs": [
        {
          "output_type": "execute_result",
          "data": {
            "text/plain": [
              "11.099549540409287"
            ]
          },
          "metadata": {},
          "execution_count": 744
        }
      ]
    },
    {
      "cell_type": "markdown",
      "source": [
        "Of course, the result is the same as before. Like variance(), stdev() doesn’t calculate the mean if you provide it explicitly as the second argument: statistics.stdev(x, mean_).\n",
        "\n",
        "You can get the standard deviation with NumPy in almost the same way. You can use the function [std()](https://docs.scipy.org/doc/numpy/reference/generated/numpy.std.html) and the corresponding method [.std()](https://docs.scipy.org/doc/numpy/reference/generated/numpy.ndarray.std.html) to calculate the standard deviation. If there are nan values in the dataset, then they’ll return nan. To ignore nan values, you should use [np.nanstd()](https://docs.scipy.org/doc/numpy/reference/generated/numpy.nanstd.html). You use std(), .std(), and nanstd() from NumPy as you would use var(), .var(), and nanvar():"
      ],
      "metadata": {
        "id": "nx5sJEZTC2Hz"
      }
    },
    {
      "cell_type": "code",
      "source": [
        "np.std(y, ddof=1)\n",
        "y.std(ddof=1)\n",
        "np.std(y_with_nan, ddof=1)\n",
        "y_with_nan.std(ddof=1)\n",
        "np.nanstd(y_with_nan, ddof=1)"
      ],
      "metadata": {
        "execution": {
          "iopub.status.busy": "2022-08-24T11:02:09.791772Z",
          "iopub.execute_input": "2022-08-24T11:02:09.792260Z",
          "iopub.status.idle": "2022-08-24T11:02:09.814888Z",
          "shell.execute_reply.started": "2022-08-24T11:02:09.792211Z",
          "shell.execute_reply": "2022-08-24T11:02:09.813675Z"
        },
        "trusted": true,
        "id": "veCpBtY2C2H-",
        "colab": {
          "base_uri": "https://localhost:8080/"
        },
        "outputId": "c83ab60d-7206-492b-f788-b6d909ff8a0a"
      },
      "execution_count": 745,
      "outputs": [
        {
          "output_type": "execute_result",
          "data": {
            "text/plain": [
              "11.099549540409285"
            ]
          },
          "metadata": {},
          "execution_count": 745
        },
        {
          "output_type": "execute_result",
          "data": {
            "text/plain": [
              "11.099549540409285"
            ]
          },
          "metadata": {},
          "execution_count": 745
        },
        {
          "output_type": "execute_result",
          "data": {
            "text/plain": [
              "nan"
            ]
          },
          "metadata": {},
          "execution_count": 745
        },
        {
          "output_type": "execute_result",
          "data": {
            "text/plain": [
              "nan"
            ]
          },
          "metadata": {},
          "execution_count": 745
        },
        {
          "output_type": "execute_result",
          "data": {
            "text/plain": [
              "11.099549540409285"
            ]
          },
          "metadata": {},
          "execution_count": 745
        }
      ]
    },
    {
      "cell_type": "markdown",
      "source": [
        "Don’t forget to set the delta degrees of freedom to 1!\n",
        "\n",
        "pd.Series objects also have the method [.std()](https://pandas.pydata.org/pandas-docs/stable/reference/api/pandas.Series.std.html) that skips nan by default:"
      ],
      "metadata": {
        "id": "zRBYYSolC2H_"
      }
    },
    {
      "cell_type": "code",
      "source": [
        "z.std(ddof=1)\n",
        "z_with_nan.std(ddof=1)"
      ],
      "metadata": {
        "execution": {
          "iopub.status.busy": "2022-08-24T11:02:09.883632Z",
          "iopub.execute_input": "2022-08-24T11:02:09.884134Z",
          "iopub.status.idle": "2022-08-24T11:02:09.896902Z",
          "shell.execute_reply.started": "2022-08-24T11:02:09.884093Z",
          "shell.execute_reply": "2022-08-24T11:02:09.895657Z"
        },
        "trusted": true,
        "id": "f5Qtv3xDC2IA",
        "colab": {
          "base_uri": "https://localhost:8080/"
        },
        "outputId": "c35a3146-88b3-48f5-e54a-95ba2fc821dc"
      },
      "execution_count": 746,
      "outputs": [
        {
          "output_type": "execute_result",
          "data": {
            "text/plain": [
              "11.099549540409285"
            ]
          },
          "metadata": {},
          "execution_count": 746
        },
        {
          "output_type": "execute_result",
          "data": {
            "text/plain": [
              "11.099549540409285"
            ]
          },
          "metadata": {},
          "execution_count": 746
        }
      ]
    },
    {
      "cell_type": "markdown",
      "source": [
        "The parameter ddof defaults to 1, so you can omit it. Again, if you want to treat nan values differently, then apply the parameter skipna.\n",
        "\n",
        "The population standard deviation refers to the entire population. It’s the positive square root of the population variance. You can calculate it just like the sample standard deviation, with the following differences:\n",
        "\n",
        "* Find the square root of the population variance in the pure Python implementation.\n",
        "* Use [statistics.pstdev()](https://docs.python.org/3/library/statistics.html#statistics.pstdev) instead of statistics.stdev().\n",
        "* Specify the parameter ddof=0 if you use NumPy or Pandas. In NumPy, you can omit ddof because its default value is 0.\n",
        "\n",
        "As you can see, you can determine the standard deviation in Python, NumPy, and Pandas in almost the same way as you determine the variance. You use different but analogous functions and methods with the same arguments."
      ],
      "metadata": {
        "id": "MnoX0GVXC2IB"
      }
    },
    {
      "cell_type": "markdown",
      "source": [
        "## Skewness"
      ],
      "metadata": {
        "id": "qM9z_STVC2IC"
      }
    },
    {
      "cell_type": "markdown",
      "source": [
        "## Skewness"
      ],
      "metadata": {
        "id": "D7iRZJidC2IC"
      }
    },
    {
      "cell_type": "markdown",
      "source": [
        "The sample skewness measures the asymmetry of a data sample.\n",
        "\n",
        "There are several mathematical definitions of skewness. One common expression to calculate the skewness of the dataset 𝑥 with 𝑛 elements is (𝑛² / ((𝑛 − 1)(𝑛 − 2))) (Σᵢ(𝑥ᵢ − mean(𝑥))³ / (𝑛𝑠³)). A simpler expression is Σᵢ(𝑥ᵢ − mean(𝑥))³ 𝑛 / ((𝑛 − 1)(𝑛 − 2)𝑠³), where 𝑖 = 1, 2, …, 𝑛 and mean(𝑥) is the sample mean of 𝑥. The skewness defined like this is called the adjusted Fisher-Pearson standardized moment coefficient.\n",
        "\n",
        "The previous figure showed two datasets that were quite symmetrical. In other words, their points had similar distances from the mean. In contrast, the following image illustrates two asymmetrical sets:\n",
        "\n",
        "![](https://files.realpython.com/media/py-stats-07.92abf9f362b0.png)"
      ],
      "metadata": {
        "id": "8GrkY1aTC2Ia"
      }
    },
    {
      "cell_type": "code",
      "source": [
        "x = [8.0, 1, 2.5, 4, 28.0]\n",
        "\n",
        "n = len(x)\n",
        "\n",
        "mean_ = sum(x) / n\n",
        "\n",
        "var_ = sum((item - mean_)**2 for item in x) / (n - 1)\n",
        "\n",
        "std_ = var_ ** 0.5\n",
        "\n",
        "skew_ = (sum((item - mean_)**3 for item in x) * n / ((n - 1) * (n - 2) * std_**3))\n",
        "\n",
        "skew_"
      ],
      "metadata": {
        "execution": {
          "iopub.status.busy": "2022-08-24T11:02:10.091763Z",
          "iopub.execute_input": "2022-08-24T11:02:10.092285Z",
          "iopub.status.idle": "2022-08-24T11:02:10.101973Z",
          "shell.execute_reply.started": "2022-08-24T11:02:10.092241Z",
          "shell.execute_reply": "2022-08-24T11:02:10.101073Z"
        },
        "trusted": true,
        "id": "g7cfHasGC2Ib",
        "colab": {
          "base_uri": "https://localhost:8080/"
        },
        "outputId": "a7a22073-f458-4d72-c300-0ccfdeddb879"
      },
      "execution_count": 747,
      "outputs": [
        {
          "output_type": "execute_result",
          "data": {
            "text/plain": [
              "1.9470432273905929"
            ]
          },
          "metadata": {},
          "execution_count": 747
        }
      ]
    },
    {
      "cell_type": "markdown",
      "source": [
        "The skewness is positive, so x has a right-side tail.\n",
        "\n",
        "You can also calculate the sample skewness with [scipy.stats.skew()](https://docs.scipy.org/doc/scipy/reference/generated/scipy.stats.skew.html):"
      ],
      "metadata": {
        "id": "QyrZlmfmC2Ic"
      }
    },
    {
      "cell_type": "code",
      "source": [
        "y, y_with_nan = np.array(x), np.array(x_with_nan)\n",
        "scipy.stats.skew(y, bias=False)\n",
        "scipy.stats.skew(y_with_nan, bias=False)"
      ],
      "metadata": {
        "execution": {
          "iopub.status.busy": "2022-08-24T11:02:10.181495Z",
          "iopub.execute_input": "2022-08-24T11:02:10.182023Z",
          "iopub.status.idle": "2022-08-24T11:02:10.193420Z",
          "shell.execute_reply.started": "2022-08-24T11:02:10.181976Z",
          "shell.execute_reply": "2022-08-24T11:02:10.192534Z"
        },
        "trusted": true,
        "id": "86LbyNzsC2Id",
        "colab": {
          "base_uri": "https://localhost:8080/"
        },
        "outputId": "51a04c3b-c20c-4841-fae2-096c7feb4279"
      },
      "execution_count": 748,
      "outputs": [
        {
          "output_type": "execute_result",
          "data": {
            "text/plain": [
              "1.9470432273905927"
            ]
          },
          "metadata": {},
          "execution_count": 748
        },
        {
          "output_type": "execute_result",
          "data": {
            "text/plain": [
              "nan"
            ]
          },
          "metadata": {},
          "execution_count": 748
        }
      ]
    },
    {
      "cell_type": "markdown",
      "source": [
        "The obtained result is the same as the pure Python implementation. The parameter bias is set to False to enable the corrections for statistical bias. The optional parameter nan_policy can take the values 'propagate', 'raise', or 'omit'. It allows you to control how you’ll handle nan values.\n",
        "\n",
        "Pandas Series objects have the method [.skew()](https://pandas.pydata.org/pandas-docs/stable/reference/api/pandas.Series.skew.html) that also returns the skewness of a dataset:"
      ],
      "metadata": {
        "id": "HGDnbEE3C2Ij"
      }
    },
    {
      "cell_type": "code",
      "source": [
        "z, z_with_nan = pd.Series(x), pd.Series(x_with_nan)\n",
        "z.skew()\n",
        "z_with_nan.skew()"
      ],
      "metadata": {
        "execution": {
          "iopub.status.busy": "2022-08-24T11:02:10.265597Z",
          "iopub.execute_input": "2022-08-24T11:02:10.266313Z",
          "iopub.status.idle": "2022-08-24T11:02:10.275948Z",
          "shell.execute_reply.started": "2022-08-24T11:02:10.266273Z",
          "shell.execute_reply": "2022-08-24T11:02:10.275113Z"
        },
        "trusted": true,
        "id": "waUKO9oKC2Ij",
        "colab": {
          "base_uri": "https://localhost:8080/"
        },
        "outputId": "54ee6d98-b08e-4b24-aacb-1e23f029f2e5"
      },
      "execution_count": 749,
      "outputs": [
        {
          "output_type": "execute_result",
          "data": {
            "text/plain": [
              "1.9470432273905924"
            ]
          },
          "metadata": {},
          "execution_count": 749
        },
        {
          "output_type": "execute_result",
          "data": {
            "text/plain": [
              "1.9470432273905924"
            ]
          },
          "metadata": {},
          "execution_count": 749
        }
      ]
    },
    {
      "cell_type": "markdown",
      "source": [
        "Like other methods, .skew() ignores nan values by default, because of the default value of the optional parameter skipna."
      ],
      "metadata": {
        "id": "pIn7X9lIC2Ik"
      }
    },
    {
      "cell_type": "markdown",
      "source": [
        "## Percentiles"
      ],
      "metadata": {
        "id": "TqiNt-CgC2Il"
      }
    },
    {
      "cell_type": "markdown",
      "source": [
        "The sample 𝑝 percentile is the element in the dataset such that 𝑝% of the elements in the dataset are less than or equal to that value. Also, (100 − 𝑝)% of the elements are greater than or equal to that value. If there are two such elements in the dataset, then the sample 𝑝 percentile is their arithmetic mean. Each dataset has three quartiles, which are the percentiles that divide the dataset into four parts:\n",
        "\n",
        "* The first quartile is the sample 25th percentile. It divides roughly 25% of the smallest items from the rest of the dataset.\n",
        "* The second quartile is the sample 50th percentile or the median. Approximately 25% of the items lie between the first and second quartiles and another 25% between the second and third quartiles.\n",
        "* The third quartile is the sample 75th percentile. It divides roughly 25% of the largest items from the rest of the dataset.\n",
        "\n",
        "Each part has approximately the same number of items. If you want to divide your data into several intervals, then you can use [statistics.quantiles()](https://docs.python.org/3/library/statistics.html#statistics.quantiles):"
      ],
      "metadata": {
        "id": "XDXWbVOpC2JC"
      }
    },
    {
      "cell_type": "code",
      "source": [
        "x = [-5.0, -1.1, 0.1, 2.0, 8.0, 12.8, 21.0, 25.8, 41.0]\n",
        "try:\n",
        "    second_quartile = statistics.quartiles(x, n=2)\n",
        "    print(second_quartile)\n",
        "    fourth_quartile = statistics.quartiles(x, n=4, method='inclusive')\n",
        "except:\n",
        "    print(\"`statistics.quartiles()` function has been introduced in Python 3.8\")"
      ],
      "metadata": {
        "execution": {
          "iopub.status.busy": "2022-08-24T11:10:16.962132Z",
          "iopub.execute_input": "2022-08-24T11:10:16.962688Z",
          "iopub.status.idle": "2022-08-24T11:10:16.970617Z",
          "shell.execute_reply.started": "2022-08-24T11:10:16.962643Z",
          "shell.execute_reply": "2022-08-24T11:10:16.969427Z"
        },
        "trusted": true,
        "id": "z6Kcdzz7C2JD",
        "colab": {
          "base_uri": "https://localhost:8080/"
        },
        "outputId": "9f4f44aa-42f5-4536-dc92-4f6d1a50eacc"
      },
      "execution_count": 750,
      "outputs": [
        {
          "output_type": "stream",
          "name": "stdout",
          "text": [
            "`statistics.quartiles()` function has been introduced in Python 3.8\n"
          ]
        }
      ]
    },
    {
      "cell_type": "markdown",
      "source": [
        "In this example, 8.0 is the median of x, while 0.1 and 21.0 are the sample 25th and 75th percentiles, respectively. The parameter n defines the number of resulting equal-probability percentiles, and method determines how to calculate them.\n",
        "\n",
        "**Note:** statistics.quantiles() is introduced in Python 3.8."
      ],
      "metadata": {
        "id": "WXBoJzAiC2JE"
      }
    },
    {
      "cell_type": "markdown",
      "source": [
        "You can also use [np.percentile()](https://docs.scipy.org/doc/numpy/reference/generated/numpy.percentile.html) to determine any sample percentile in your dataset. For example, this is how you can find the 5th and 95th percentiles:"
      ],
      "metadata": {
        "id": "FBFtM4NgC2JE"
      }
    },
    {
      "cell_type": "code",
      "source": [
        "y = np.array(x)\n",
        "np.percentile(y, 5)\n",
        "np.percentile(y, 95)"
      ],
      "metadata": {
        "execution": {
          "iopub.status.busy": "2022-08-24T11:14:45.410490Z",
          "iopub.execute_input": "2022-08-24T11:14:45.410940Z",
          "iopub.status.idle": "2022-08-24T11:14:45.423711Z",
          "shell.execute_reply.started": "2022-08-24T11:14:45.410905Z",
          "shell.execute_reply": "2022-08-24T11:14:45.422416Z"
        },
        "trusted": true,
        "id": "BiTut06rC2JF",
        "colab": {
          "base_uri": "https://localhost:8080/"
        },
        "outputId": "f106847c-2962-44e4-e776-f0c2a653be63"
      },
      "execution_count": 751,
      "outputs": [
        {
          "output_type": "execute_result",
          "data": {
            "text/plain": [
              "-3.44"
            ]
          },
          "metadata": {},
          "execution_count": 751
        },
        {
          "output_type": "execute_result",
          "data": {
            "text/plain": [
              "34.919999999999995"
            ]
          },
          "metadata": {},
          "execution_count": 751
        }
      ]
    },
    {
      "cell_type": "markdown",
      "source": [
        "percentile() takes several arguments. You have to provide the dataset as the first argument and the percentile value as the second. The dataset can be in the form of a NumPy array, list, tuple, or similar data structure. The percentile can be a number between 0 and 100 like in the example above, but it can also be a sequence of numbers:"
      ],
      "metadata": {
        "id": "TjMJVhNYC2JN"
      }
    },
    {
      "cell_type": "code",
      "source": [
        "np.percentile(y, [25, 50, 75])\n",
        "np.median(y)"
      ],
      "metadata": {
        "execution": {
          "iopub.status.busy": "2022-08-24T11:19:34.297443Z",
          "iopub.execute_input": "2022-08-24T11:19:34.297900Z",
          "iopub.status.idle": "2022-08-24T11:19:34.310305Z",
          "shell.execute_reply.started": "2022-08-24T11:19:34.297863Z",
          "shell.execute_reply": "2022-08-24T11:19:34.308853Z"
        },
        "trusted": true,
        "id": "4yFj7zASC2JT",
        "colab": {
          "base_uri": "https://localhost:8080/"
        },
        "outputId": "74fcac22-3630-4b7d-9d8c-34e4f801af37"
      },
      "execution_count": 752,
      "outputs": [
        {
          "output_type": "execute_result",
          "data": {
            "text/plain": [
              "array([ 0.1,  8. , 21. ])"
            ]
          },
          "metadata": {},
          "execution_count": 752
        },
        {
          "output_type": "execute_result",
          "data": {
            "text/plain": [
              "8.0"
            ]
          },
          "metadata": {},
          "execution_count": 752
        }
      ]
    },
    {
      "cell_type": "markdown",
      "source": [
        "This code calculates the 25th, 50th, and 75th percentiles all at once. If the percentile value is a sequence, then percentile() returns a NumPy array with the results. The first statement returns the array of quartiles. The second statement returns the median, so you can confirm it’s equal to the 50th percentile, which is 8.0.\n",
        "\n",
        "If you want to ignore nan values, then use [np.nanpercentile()](https://docs.scipy.org/doc/numpy/reference/generated/numpy.nanpercentile.html) instead:"
      ],
      "metadata": {
        "id": "4YfCR2OHC2JY"
      }
    },
    {
      "cell_type": "code",
      "source": [
        "y_with_nan = np.insert(y, 2, np.nan)\n",
        "y_with_nan\n",
        "\n",
        "np.nanpercentile(y_with_nan, [25, 50, 75])"
      ],
      "metadata": {
        "execution": {
          "iopub.status.busy": "2022-08-24T11:22:19.127560Z",
          "iopub.execute_input": "2022-08-24T11:22:19.128116Z",
          "iopub.status.idle": "2022-08-24T11:22:19.141790Z",
          "shell.execute_reply.started": "2022-08-24T11:22:19.128069Z",
          "shell.execute_reply": "2022-08-24T11:22:19.140765Z"
        },
        "trusted": true,
        "id": "_UeYPu-jC2JZ",
        "colab": {
          "base_uri": "https://localhost:8080/"
        },
        "outputId": "39934499-350c-4e38-adc9-9fd90e46409e"
      },
      "execution_count": 753,
      "outputs": [
        {
          "output_type": "execute_result",
          "data": {
            "text/plain": [
              "array([-5. , -1.1,  nan,  0.1,  2. ,  8. , 12.8, 21. , 25.8, 41. ])"
            ]
          },
          "metadata": {},
          "execution_count": 753
        },
        {
          "output_type": "execute_result",
          "data": {
            "text/plain": [
              "array([ 0.1,  8. , 21. ])"
            ]
          },
          "metadata": {},
          "execution_count": 753
        }
      ]
    },
    {
      "cell_type": "markdown",
      "source": [
        "That’s how you can avoid nan values.\n",
        "\n",
        "NumPy also offers you very similar functionality in [quantile()](https://docs.scipy.org/doc/numpy/reference/generated/numpy.quantile.html) and [nanquantile()](https://docs.scipy.org/doc/numpy/reference/generated/numpy.nanquantile.html). If you use them, then you’ll need to provide the quantile values as the numbers between 0 and 1 instead of percentiles:"
      ],
      "metadata": {
        "id": "hbMb6SvNC2Ja"
      }
    },
    {
      "cell_type": "code",
      "source": [
        "np.quantile(y, 0.05)\n",
        "np.quantile(y, 0.95)\n",
        "np.quantile(y, [0.25, 0.5, 0.75])\n",
        "np.nanquantile(y_with_nan,[0.25, 0.5, 0.75])"
      ],
      "metadata": {
        "execution": {
          "iopub.status.busy": "2022-08-24T11:27:12.425251Z",
          "iopub.execute_input": "2022-08-24T11:27:12.425707Z",
          "iopub.status.idle": "2022-08-24T11:27:12.449451Z",
          "shell.execute_reply.started": "2022-08-24T11:27:12.425671Z",
          "shell.execute_reply": "2022-08-24T11:27:12.447848Z"
        },
        "trusted": true,
        "id": "zgfT1IEcC2Jj",
        "colab": {
          "base_uri": "https://localhost:8080/"
        },
        "outputId": "164a3ec8-1b73-48f8-f3ca-b66556994e6a"
      },
      "execution_count": 754,
      "outputs": [
        {
          "output_type": "execute_result",
          "data": {
            "text/plain": [
              "-3.44"
            ]
          },
          "metadata": {},
          "execution_count": 754
        },
        {
          "output_type": "execute_result",
          "data": {
            "text/plain": [
              "34.919999999999995"
            ]
          },
          "metadata": {},
          "execution_count": 754
        },
        {
          "output_type": "execute_result",
          "data": {
            "text/plain": [
              "array([ 0.1,  8. , 21. ])"
            ]
          },
          "metadata": {},
          "execution_count": 754
        },
        {
          "output_type": "execute_result",
          "data": {
            "text/plain": [
              "array([ 0.1,  8. , 21. ])"
            ]
          },
          "metadata": {},
          "execution_count": 754
        }
      ]
    },
    {
      "cell_type": "markdown",
      "source": [
        "The results are the same as in the previous examples, but here your arguments are between 0 and 1. In other words, you passed 0.05 instead of 5 and 0.95 instead of 95.\n",
        "\n",
        "pd.Series objects have the method [.quantile()](https://pandas.pydata.org/pandas-docs/stable/reference/api/pandas.Series.quantile.html):"
      ],
      "metadata": {
        "id": "pIPCy3B8C2Jk"
      }
    },
    {
      "cell_type": "code",
      "source": [
        "z, z_with_nan = pd.Series(y), pd.Series(y_with_nan)\n",
        "z.quantile(0.05)\n",
        "z.quantile(0.95)\n",
        "z.quantile([0.25, 0.5, 0.75])\n",
        "z_with_nan.quantile([0.25, 0.5, 0.75])"
      ],
      "metadata": {
        "execution": {
          "iopub.status.busy": "2022-08-24T11:31:49.617315Z",
          "iopub.execute_input": "2022-08-24T11:31:49.617807Z",
          "iopub.status.idle": "2022-08-24T11:31:49.648579Z",
          "shell.execute_reply.started": "2022-08-24T11:31:49.617768Z",
          "shell.execute_reply": "2022-08-24T11:31:49.647455Z"
        },
        "trusted": true,
        "id": "2lnaSToSC2Jk",
        "colab": {
          "base_uri": "https://localhost:8080/"
        },
        "outputId": "59bd23a7-6734-492a-ad52-36999feb69d1"
      },
      "execution_count": 755,
      "outputs": [
        {
          "output_type": "execute_result",
          "data": {
            "text/plain": [
              "-3.44"
            ]
          },
          "metadata": {},
          "execution_count": 755
        },
        {
          "output_type": "execute_result",
          "data": {
            "text/plain": [
              "34.919999999999995"
            ]
          },
          "metadata": {},
          "execution_count": 755
        },
        {
          "output_type": "execute_result",
          "data": {
            "text/plain": [
              "0.25     0.1\n",
              "0.50     8.0\n",
              "0.75    21.0\n",
              "dtype: float64"
            ]
          },
          "metadata": {},
          "execution_count": 755
        },
        {
          "output_type": "execute_result",
          "data": {
            "text/plain": [
              "0.25     0.1\n",
              "0.50     8.0\n",
              "0.75    21.0\n",
              "dtype: float64"
            ]
          },
          "metadata": {},
          "execution_count": 755
        }
      ]
    },
    {
      "cell_type": "markdown",
      "source": [
        ".quantile() also needs you to provide the quantile value as the argument. This value can be a number between 0 and 1 or a sequence of numbers. In the first case, .quantile() returns a scalar. In the second case, it returns a new Series holding the results."
      ],
      "metadata": {
        "id": "0coayHL5C2Jl"
      }
    },
    {
      "cell_type": "markdown",
      "source": [
        "## Ranges"
      ],
      "metadata": {
        "id": "lD1YbPSFDTQw"
      }
    },
    {
      "cell_type": "markdown",
      "source": [
        "The range of data is the difference between the maximum and minimum element in the dataset. You can get it with the function [np.ptp()](https://docs.scipy.org/doc/numpy/reference/generated/numpy.ptp.html):"
      ],
      "metadata": {
        "id": "dZ2bk6F4DYTA"
      }
    },
    {
      "cell_type": "code",
      "source": [
        "np.ptp(y)"
      ],
      "metadata": {
        "id": "T5nfqZ8EDit8",
        "colab": {
          "base_uri": "https://localhost:8080/"
        },
        "outputId": "7419d2eb-d135-4cd4-ad40-556224c48f6c"
      },
      "execution_count": 756,
      "outputs": [
        {
          "output_type": "execute_result",
          "data": {
            "text/plain": [
              "46.0"
            ]
          },
          "metadata": {},
          "execution_count": 756
        }
      ]
    },
    {
      "cell_type": "code",
      "source": [
        "np.ptp(z)"
      ],
      "metadata": {
        "id": "V5eBSy7uDVoQ",
        "colab": {
          "base_uri": "https://localhost:8080/"
        },
        "outputId": "4e9a7be9-8bb4-4dce-f42f-5d6b0a8ee18c"
      },
      "execution_count": 757,
      "outputs": [
        {
          "output_type": "execute_result",
          "data": {
            "text/plain": [
              "46.0"
            ]
          },
          "metadata": {},
          "execution_count": 757
        }
      ]
    },
    {
      "cell_type": "code",
      "source": [
        "np.ptp(y_with_nan)"
      ],
      "metadata": {
        "id": "kdlAJ0hhEbNc",
        "colab": {
          "base_uri": "https://localhost:8080/"
        },
        "outputId": "e58cd4b1-d4d4-4de2-8cb7-f9d53ad17921"
      },
      "execution_count": 758,
      "outputs": [
        {
          "output_type": "execute_result",
          "data": {
            "text/plain": [
              "nan"
            ]
          },
          "metadata": {},
          "execution_count": 758
        }
      ]
    },
    {
      "cell_type": "code",
      "source": [
        "np.ptp(z_with_nan)"
      ],
      "metadata": {
        "id": "QBhgPzsvEf7Z",
        "colab": {
          "base_uri": "https://localhost:8080/"
        },
        "outputId": "282a9211-1546-45f2-e6a0-ad1b8c71a2b1"
      },
      "execution_count": 759,
      "outputs": [
        {
          "output_type": "execute_result",
          "data": {
            "text/plain": [
              "nan"
            ]
          },
          "metadata": {},
          "execution_count": 759
        }
      ]
    },
    {
      "cell_type": "markdown",
      "source": [
        "This function returns nan if there are nan values in your NumPy array. If you use a Pandas Series object, then it will return a number.\n",
        "\n",
        "Alternatively, you can use built-in Python, [NumPy](https://realpython.com/numpy-max-maximum/), or Pandas functions and methods to calculate the maxima and minima of sequences:\n",
        "\n",
        "* [max()](https://docs.python.org/3/library/functions.html#max)and [min()](https://docs.python.org/3/library/functions.html#min) from the Python standard library\n",
        "* [amax()]() and [amin()]() from NumPy\n",
        "* [amax()](https://docs.scipy.org/doc/numpy/reference/generated/numpy.amax.html) and [amin()](https://docs.scipy.org/doc/numpy/reference/generated/numpy.amin.html) from NumPy to ignore nan values\n",
        "* [.max()](https://docs.scipy.org/doc/numpy/reference/generated/numpy.ndarray.max.html) and [.min()](https://docs.scipy.org/doc/numpy/reference/generated/numpy.ndarray.min.html) from NumPy\n",
        "* [.max()](https://pandas.pydata.org/pandas-docs/stable/reference/api/pandas.Series.max.html) and [.min()](https://pandas.pydata.org/pandas-docs/stable/reference/api/pandas.Series.min.html) from Pandas to ignore nan values by default\n",
        "\n",
        "Here are some examples of how you would use these routines:"
      ],
      "metadata": {
        "id": "tkH3GUo1FTbt"
      }
    },
    {
      "cell_type": "code",
      "source": [
        "np.amax(y) - np.amin(y)"
      ],
      "metadata": {
        "id": "JFrC1_NZGhIu",
        "colab": {
          "base_uri": "https://localhost:8080/"
        },
        "outputId": "87239b25-5c71-421e-f324-96c12cae64ca"
      },
      "execution_count": 760,
      "outputs": [
        {
          "output_type": "execute_result",
          "data": {
            "text/plain": [
              "46.0"
            ]
          },
          "metadata": {},
          "execution_count": 760
        }
      ]
    },
    {
      "cell_type": "code",
      "source": [
        "np.nanmax(y_with_nan) - np.nanmin(y_with_nan)"
      ],
      "metadata": {
        "id": "-VCxD95NGjjL",
        "colab": {
          "base_uri": "https://localhost:8080/"
        },
        "outputId": "f0805476-b61e-4bea-a291-dcafa555bc31"
      },
      "execution_count": 761,
      "outputs": [
        {
          "output_type": "execute_result",
          "data": {
            "text/plain": [
              "46.0"
            ]
          },
          "metadata": {},
          "execution_count": 761
        }
      ]
    },
    {
      "cell_type": "code",
      "source": [
        "y.max() - y.min()"
      ],
      "metadata": {
        "id": "Az_fQRpeIcin",
        "colab": {
          "base_uri": "https://localhost:8080/"
        },
        "outputId": "57f9510e-115d-45dc-bf13-a22efa3befc5"
      },
      "execution_count": 762,
      "outputs": [
        {
          "output_type": "execute_result",
          "data": {
            "text/plain": [
              "46.0"
            ]
          },
          "metadata": {},
          "execution_count": 762
        }
      ]
    },
    {
      "cell_type": "code",
      "source": [
        "z.max() - z.min()"
      ],
      "metadata": {
        "id": "2YiLG2iLIjaq",
        "colab": {
          "base_uri": "https://localhost:8080/"
        },
        "outputId": "57466ca3-7ad0-4c86-f4ee-526f8a37cfe2"
      },
      "execution_count": 763,
      "outputs": [
        {
          "output_type": "execute_result",
          "data": {
            "text/plain": [
              "46.0"
            ]
          },
          "metadata": {},
          "execution_count": 763
        }
      ]
    },
    {
      "cell_type": "code",
      "source": [
        "z_with_nan.max() - z_with_nan.min()"
      ],
      "metadata": {
        "id": "FLWFVSoDIn1K",
        "colab": {
          "base_uri": "https://localhost:8080/"
        },
        "outputId": "5ae20392-1d74-433d-85af-22e401d3ebfa"
      },
      "execution_count": 764,
      "outputs": [
        {
          "output_type": "execute_result",
          "data": {
            "text/plain": [
              "46.0"
            ]
          },
          "metadata": {},
          "execution_count": 764
        }
      ]
    },
    {
      "cell_type": "markdown",
      "source": [
        "That’s how you get the range of data.\n",
        "\n",
        "The interquartile range is the difference between the first and third quartile. Once you calculate the quartiles, you can take their difference:"
      ],
      "metadata": {
        "id": "tUpC5LuPI25L"
      }
    },
    {
      "cell_type": "code",
      "source": [
        "quartiles = np.quantile(y, [0.25, 0.75])\n",
        "quartiles[1] - quartiles[0]"
      ],
      "metadata": {
        "id": "RA6WjZIrI3xa",
        "colab": {
          "base_uri": "https://localhost:8080/"
        },
        "outputId": "5087f435-b39b-456f-83ab-eca2ec8758c5"
      },
      "execution_count": 765,
      "outputs": [
        {
          "output_type": "execute_result",
          "data": {
            "text/plain": [
              "20.9"
            ]
          },
          "metadata": {},
          "execution_count": 765
        }
      ]
    },
    {
      "cell_type": "code",
      "source": [
        "quartiles = z.quantile([0.25, 0.75])\n",
        "quartiles[0.75] - quartiles[0.25]"
      ],
      "metadata": {
        "id": "oZQ2uNTFJgI2",
        "colab": {
          "base_uri": "https://localhost:8080/"
        },
        "outputId": "6815fdfd-cccb-4282-b17c-7911d5a34c73"
      },
      "execution_count": 766,
      "outputs": [
        {
          "output_type": "execute_result",
          "data": {
            "text/plain": [
              "20.9"
            ]
          },
          "metadata": {},
          "execution_count": 766
        }
      ]
    },
    {
      "cell_type": "markdown",
      "source": [
        "Note that you access the values in a Pandas Series object with the labels 0.75 and 0.25."
      ],
      "metadata": {
        "id": "sUvW5f5SJmd8"
      }
    },
    {
      "cell_type": "markdown",
      "source": [
        "## Summary of Descriptive Statistics"
      ],
      "metadata": {
        "id": "cL1QUzPtJng3"
      }
    },
    {
      "cell_type": "markdown",
      "source": [
        "SciPy and Pandas offer useful routines to quickly get descriptive statistics with a single function or method call. You can use [scipy.stats.describe()](https://docs.scipy.org/doc/scipy/reference/generated/scipy.stats.describe.html) like this:"
      ],
      "metadata": {
        "id": "mMnT6C0EJrVm"
      }
    },
    {
      "cell_type": "code",
      "source": [
        "result = scipy.stats.describe(y, ddof=1, bias=False)\n",
        "result"
      ],
      "metadata": {
        "id": "d_rOA53cJ7zo",
        "colab": {
          "base_uri": "https://localhost:8080/"
        },
        "outputId": "042d337d-85e7-4338-b8aa-1d53da04e5ed"
      },
      "execution_count": 767,
      "outputs": [
        {
          "output_type": "execute_result",
          "data": {
            "text/plain": [
              "DescribeResult(nobs=9, minmax=(-5.0, 41.0), mean=11.622222222222222, variance=228.75194444444446, skewness=0.9249043136685094, kurtosis=0.14770623629658886)"
            ]
          },
          "metadata": {},
          "execution_count": 767
        }
      ]
    },
    {
      "cell_type": "markdown",
      "source": [
        "You have to provide the dataset as the first argument. The argument can be a NumPy array, list, tuple, or similar data structure. You can omit ddof=1 since it’s the default and only matters when you’re calculating the variance. You can pass bias=False to force correcting the skewness and [kurtosis](https://en.wikipedia.org/wiki/Kurtosis) for statistical bias.\n",
        "\n",
        "**Note:** The optional parameter nan_policy can take the values 'propagate' (default), 'raise' (an error), or 'omit'. This parameter allows you to control what’s happening when there are nan values."
      ],
      "metadata": {
        "id": "eEp17XNNlyF0"
      }
    },
    {
      "cell_type": "markdown",
      "source": [
        "describe() returns an object that holds the following descriptive statistics:\n",
        "\n",
        "* nobs: the number of observations or elements in your dataset\n",
        "* minmax: the tuple with the minimum and maximum values of your dataset\n",
        "* mean: the mean of your dataset\n",
        "* variance: the variance of your dataset\n",
        "* skewness: the skewness of your dataset\n",
        "* kurtosis: the kurtosis of your dataset\n",
        "\n",
        "You can access particular values with dot notation:"
      ],
      "metadata": {
        "id": "EpcTmhA6l5eh"
      }
    },
    {
      "cell_type": "code",
      "source": [
        "result.nobs"
      ],
      "metadata": {
        "id": "sYnCO3UOJsPw",
        "colab": {
          "base_uri": "https://localhost:8080/"
        },
        "outputId": "db8a4ce2-14eb-418e-b3bc-762788126ca8"
      },
      "execution_count": 768,
      "outputs": [
        {
          "output_type": "execute_result",
          "data": {
            "text/plain": [
              "9"
            ]
          },
          "metadata": {},
          "execution_count": 768
        }
      ]
    },
    {
      "cell_type": "code",
      "source": [
        "result.minmax[0]"
      ],
      "metadata": {
        "id": "Ft8zJFPxmZAv",
        "colab": {
          "base_uri": "https://localhost:8080/"
        },
        "outputId": "c3cb8a20-c2e1-4db2-9ebd-e35b0a01a791"
      },
      "execution_count": 769,
      "outputs": [
        {
          "output_type": "execute_result",
          "data": {
            "text/plain": [
              "-5.0"
            ]
          },
          "metadata": {},
          "execution_count": 769
        }
      ]
    },
    {
      "cell_type": "code",
      "source": [
        "result.minmax[1]"
      ],
      "metadata": {
        "id": "sj_IjvgImbNq",
        "colab": {
          "base_uri": "https://localhost:8080/"
        },
        "outputId": "d58764bf-81c0-4c31-f3d2-cef61ceac817"
      },
      "execution_count": 770,
      "outputs": [
        {
          "output_type": "execute_result",
          "data": {
            "text/plain": [
              "41.0"
            ]
          },
          "metadata": {},
          "execution_count": 770
        }
      ]
    },
    {
      "cell_type": "code",
      "source": [
        "result.mean"
      ],
      "metadata": {
        "id": "gtwqQVhjmnKZ",
        "colab": {
          "base_uri": "https://localhost:8080/"
        },
        "outputId": "f2214887-b5b2-40a9-ddcc-a6673e77d3a4"
      },
      "execution_count": 771,
      "outputs": [
        {
          "output_type": "execute_result",
          "data": {
            "text/plain": [
              "11.622222222222222"
            ]
          },
          "metadata": {},
          "execution_count": 771
        }
      ]
    },
    {
      "cell_type": "code",
      "source": [
        "result.variance"
      ],
      "metadata": {
        "id": "zd6o2_Djmp_d",
        "colab": {
          "base_uri": "https://localhost:8080/"
        },
        "outputId": "2c5c21d2-77d2-4a6a-ab44-47bb60ec21c0"
      },
      "execution_count": 772,
      "outputs": [
        {
          "output_type": "execute_result",
          "data": {
            "text/plain": [
              "228.75194444444446"
            ]
          },
          "metadata": {},
          "execution_count": 772
        }
      ]
    },
    {
      "cell_type": "code",
      "source": [
        "result.skewness"
      ],
      "metadata": {
        "id": "Kzi8D8UtnwN9",
        "colab": {
          "base_uri": "https://localhost:8080/"
        },
        "outputId": "3e8b76ed-26de-435e-b01a-2b9778bcf363"
      },
      "execution_count": 773,
      "outputs": [
        {
          "output_type": "execute_result",
          "data": {
            "text/plain": [
              "0.9249043136685094"
            ]
          },
          "metadata": {},
          "execution_count": 773
        }
      ]
    },
    {
      "cell_type": "code",
      "source": [
        "result.kurtosis"
      ],
      "metadata": {
        "id": "fBbWCFdLnzdT",
        "colab": {
          "base_uri": "https://localhost:8080/"
        },
        "outputId": "d4379b4d-02fd-48f6-849d-2668ce04371a"
      },
      "execution_count": 774,
      "outputs": [
        {
          "output_type": "execute_result",
          "data": {
            "text/plain": [
              "0.14770623629658886"
            ]
          },
          "metadata": {},
          "execution_count": 774
        }
      ]
    },
    {
      "cell_type": "markdown",
      "source": [
        "With SciPy, you’re just one function call away from a descriptive statistics summary for your dataset.\n",
        "\n",
        "Pandas has similar, if not better, functionality. Series objects have the method [.describe()](https://pandas.pydata.org/pandas-docs/stable/reference/api/pandas.Series.describe.html):"
      ],
      "metadata": {
        "id": "phu8NypkuNaj"
      }
    },
    {
      "cell_type": "code",
      "source": [
        "result = z.describe()\n",
        "result"
      ],
      "metadata": {
        "id": "spDmFVKwuM5q",
        "colab": {
          "base_uri": "https://localhost:8080/"
        },
        "outputId": "02488cf2-9d1f-4744-c756-e2fd421b4ca0"
      },
      "execution_count": 775,
      "outputs": [
        {
          "output_type": "execute_result",
          "data": {
            "text/plain": [
              "count     9.000000\n",
              "mean     11.622222\n",
              "std      15.124548\n",
              "min      -5.000000\n",
              "25%       0.100000\n",
              "50%       8.000000\n",
              "75%      21.000000\n",
              "max      41.000000\n",
              "dtype: float64"
            ]
          },
          "metadata": {},
          "execution_count": 775
        }
      ]
    },
    {
      "cell_type": "markdown",
      "source": [
        "It returns a new Series that holds the following:\n",
        "\n",
        "* count: the number of elements in your dataset\n",
        "* mean: the mean of your dataset\n",
        "* std: the standard deviation of your dataset\n",
        "* min and max: the minimum and maximum values of your dataset\n",
        "* 25%, 50%, and 75%: the quartiles of your dataset\n",
        "\n",
        "If you want the resulting Series object to contain other percentiles, then you should specify the value of the optional parameter percentiles. You can access each item of result with its label:"
      ],
      "metadata": {
        "id": "J9nzcJ6ouyiG"
      }
    },
    {
      "cell_type": "code",
      "source": [
        "result['mean']"
      ],
      "metadata": {
        "id": "SRbPGcSyu4Yf",
        "colab": {
          "base_uri": "https://localhost:8080/"
        },
        "outputId": "e29cc43e-497a-4afb-c97b-88e51b424d25"
      },
      "execution_count": 776,
      "outputs": [
        {
          "output_type": "execute_result",
          "data": {
            "text/plain": [
              "11.622222222222222"
            ]
          },
          "metadata": {},
          "execution_count": 776
        }
      ]
    },
    {
      "cell_type": "code",
      "source": [
        "result['std']"
      ],
      "metadata": {
        "id": "XLjsjyeBu_am",
        "colab": {
          "base_uri": "https://localhost:8080/"
        },
        "outputId": "70d29a54-830c-4d2f-9691-cab606f0b8c9"
      },
      "execution_count": 777,
      "outputs": [
        {
          "output_type": "execute_result",
          "data": {
            "text/plain": [
              "15.12454774346805"
            ]
          },
          "metadata": {},
          "execution_count": 777
        }
      ]
    },
    {
      "cell_type": "code",
      "source": [
        "result['min']"
      ],
      "metadata": {
        "id": "CjG96wKqvCYn",
        "colab": {
          "base_uri": "https://localhost:8080/"
        },
        "outputId": "01800679-908d-4f05-bea3-e76ab9b46844"
      },
      "execution_count": 778,
      "outputs": [
        {
          "output_type": "execute_result",
          "data": {
            "text/plain": [
              "-5.0"
            ]
          },
          "metadata": {},
          "execution_count": 778
        }
      ]
    },
    {
      "cell_type": "code",
      "source": [
        "result['max']"
      ],
      "metadata": {
        "id": "6jrkDgGOvIHC",
        "colab": {
          "base_uri": "https://localhost:8080/"
        },
        "outputId": "8ade7b0e-c89d-4ae5-9565-34c3bbef489a"
      },
      "execution_count": 779,
      "outputs": [
        {
          "output_type": "execute_result",
          "data": {
            "text/plain": [
              "41.0"
            ]
          },
          "metadata": {},
          "execution_count": 779
        }
      ]
    },
    {
      "cell_type": "code",
      "source": [
        "result['25%']"
      ],
      "metadata": {
        "id": "UdB4hHSWvLui",
        "colab": {
          "base_uri": "https://localhost:8080/"
        },
        "outputId": "06ec4d0f-d048-494a-de96-35991b91a011"
      },
      "execution_count": 780,
      "outputs": [
        {
          "output_type": "execute_result",
          "data": {
            "text/plain": [
              "0.1"
            ]
          },
          "metadata": {},
          "execution_count": 780
        }
      ]
    },
    {
      "cell_type": "code",
      "source": [
        "result['50%']"
      ],
      "metadata": {
        "id": "j1pBLywjvQKf",
        "colab": {
          "base_uri": "https://localhost:8080/"
        },
        "outputId": "cd398390-1579-4078-cc5a-2630cae8e520"
      },
      "execution_count": 781,
      "outputs": [
        {
          "output_type": "execute_result",
          "data": {
            "text/plain": [
              "8.0"
            ]
          },
          "metadata": {},
          "execution_count": 781
        }
      ]
    },
    {
      "cell_type": "code",
      "source": [
        "result['75%']"
      ],
      "metadata": {
        "id": "rEfVG0GmvWdp",
        "colab": {
          "base_uri": "https://localhost:8080/"
        },
        "outputId": "fd4641a9-9550-47b9-9bbe-11c4230a172a"
      },
      "execution_count": 782,
      "outputs": [
        {
          "output_type": "execute_result",
          "data": {
            "text/plain": [
              "21.0"
            ]
          },
          "metadata": {},
          "execution_count": 782
        }
      ]
    },
    {
      "cell_type": "markdown",
      "source": [
        "That’s how you can get descriptive statistics of a Series object with a single method call using Pandas."
      ],
      "metadata": {
        "id": "-L-uNG1Tvjme"
      }
    },
    {
      "cell_type": "markdown",
      "source": [
        "## Measures of Correlation Between Pairs of Data"
      ],
      "metadata": {
        "id": "aIWzcBuGvkWF"
      }
    },
    {
      "cell_type": "markdown",
      "source": [
        "You’ll often need to examine the relationship between the corresponding elements of two variables in a dataset. Say there are two variables, 𝑥 and 𝑦, with an equal number of elements, 𝑛. Let 𝑥₁ from 𝑥 correspond to 𝑦₁ from 𝑦, 𝑥₂ from 𝑥 to 𝑦₂ from 𝑦, and so on. You can then say that there are 𝑛 pairs of corresponding elements: (𝑥₁, 𝑦₁), (𝑥₂, 𝑦₂), and so on.\n",
        "\n",
        "You’ll see the following measures of correlation between pairs of data:\n",
        "\n",
        "* Positive correlation exists when larger values of 𝑥 correspond to larger values of 𝑦 and vice versa.\n",
        "* Negative correlation exists when larger values of 𝑥 correspond to smaller values of 𝑦 and vice versa.\n",
        "* Weak or no correlation exists if there is no such apparent relationship.\n",
        "\n",
        "The following figure shows examples of negative, weak, and positive correlation:\n",
        "\n",
        "![link text](https://files.realpython.com/media/py-stats-08.5a1e9f3e3aa4.png)"
      ],
      "metadata": {
        "id": "o9Wf7qLav5QL"
      }
    },
    {
      "cell_type": "markdown",
      "source": [
        "The plot on the left with the red dots shows negative correlation. The plot in the middle with the green dots shows weak correlation. Finally, the plot on the right with the blue dots shows positive correlation.\n",
        "\n",
        "**Note:** There’s one important thing you should always have in mind when working with correlation among a pair of variables, and that’s that correlation is not a measure or indicator of causation, but only of association!\n",
        "\n",
        "The two statistics that measure the correlation between datasets are covariance and the correlation coefficient. Let’s define some data to work with these measures. You’ll create two Python lists and use them to get corresponding NumPy arrays and Pandas Series:"
      ],
      "metadata": {
        "id": "fG4Wp71t5-sd"
      }
    },
    {
      "cell_type": "code",
      "source": [
        "x = list(range(-10, 11))\n",
        "y = [0, 2, 2, 2, 2, 3, 3, 6, 7, 4, 7, 6, 6, 9, 4, 5, 5, 10, 11, 12, 14]\n",
        "\n",
        "x_, y_, = np.array(x), np.array(y)\n",
        "\n",
        "x__, y__ = pd.Series(x_), pd.Series(y_)"
      ],
      "metadata": {
        "id": "qaYPryCVvstS"
      },
      "execution_count": 783,
      "outputs": []
    },
    {
      "cell_type": "markdown",
      "source": [
        "Now that you have the two variables, you can start exploring the relationship between them."
      ],
      "metadata": {
        "id": "8IySRWN565_R"
      }
    },
    {
      "cell_type": "markdown",
      "source": [
        "### Covariance"
      ],
      "metadata": {
        "id": "ZHtqqt_368uY"
      }
    },
    {
      "cell_type": "markdown",
      "source": [
        "The sample covariance is a measure that quantifies the strength and direction of a relationship between a pair of variables:\n",
        "\n",
        "* If the correlation is positive, then the covariance is positive, as well. A stronger relationship corresponds to a higher value of the covariance.\n",
        "* If the correlation is negative, then the covariance is negative, as well. A stronger relationship corresponds to a lower (or higher [absolute](https://realpython.com/python-absolute-value)) value of the covariance.\n",
        "* If the correlation is weak, then the covariance is close to zero.\n",
        "The covariance of the variables 𝑥 and 𝑦 is mathematically defined as 𝑠ˣʸ = Σᵢ (𝑥ᵢ − mean(𝑥)) (𝑦ᵢ − mean(𝑦)) / (𝑛 − 1), where 𝑖 = 1, 2, …, 𝑛, mean(𝑥) is the sample mean of 𝑥, and mean(𝑦) is the sample mean of 𝑦. It follows that the covariance of two identical variables is actually the variance: 𝑠ˣˣ = Σᵢ(𝑥ᵢ − mean(𝑥))² / (𝑛 − 1) = (𝑠ˣ)² and 𝑠ʸʸ = Σᵢ(𝑦ᵢ − mean(𝑦))² / (𝑛 − 1) = (𝑠ʸ)².\n",
        "\n",
        "This is how you can calculate the covariance in pure Python:"
      ],
      "metadata": {
        "id": "ZrpxkWxU7EtD"
      }
    },
    {
      "cell_type": "code",
      "source": [
        "x = list(range(-10, 11))\n",
        "y = [0, 2, 2, 2, 2, 3, 3, 6, 7, 4, 7, 6, 6, 9, 4, 5, 5, 10, 11, 12, 14]\n",
        "\n",
        "n = len(x)\n",
        "\n",
        "mean_x, mean_y = sum(x) / n, sum(y) / n\n",
        "\n",
        "cov_xy = (sum((x[k] - mean_x) * (y[k] - mean_y) for k in range(n)) / (n - 1))\n",
        "\n",
        "cov_xy"
      ],
      "metadata": {
        "id": "YwzJbDuX7AfT",
        "colab": {
          "base_uri": "https://localhost:8080/"
        },
        "outputId": "9cd118c7-6bd0-4a64-8e8d-417fdbea9f9d"
      },
      "execution_count": 784,
      "outputs": [
        {
          "output_type": "execute_result",
          "data": {
            "text/plain": [
              "19.95"
            ]
          },
          "metadata": {},
          "execution_count": 784
        }
      ]
    },
    {
      "cell_type": "markdown",
      "source": [
        "First, you have to find the mean of x and y. Then, you apply the mathematical formula for the covariance.\n",
        "\n",
        "NumPy has the function [cov()](https://docs.scipy.org/doc/numpy/reference/generated/numpy.cov.html) that returns the covariance matrix:"
      ],
      "metadata": {
        "id": "xwF2DCRz-8dA"
      }
    },
    {
      "cell_type": "code",
      "source": [
        "cov_matrix = np.cov(x_, y_)\n",
        "cov_matrix"
      ],
      "metadata": {
        "id": "VyI5fHTL_Ej2",
        "colab": {
          "base_uri": "https://localhost:8080/"
        },
        "outputId": "f6122ab6-0543-4708-86e0-97a219c080d1"
      },
      "execution_count": 785,
      "outputs": [
        {
          "output_type": "execute_result",
          "data": {
            "text/plain": [
              "array([[38.5       , 19.95      ],\n",
              "       [19.95      , 13.91428571]])"
            ]
          },
          "metadata": {},
          "execution_count": 785
        }
      ]
    },
    {
      "cell_type": "markdown",
      "source": [
        "Note that cov() has the optional parameters bias, which defaults to False, and ddof, which defaults to None. Their default values are suitable for getting the sample covariance matrix. The upper-left element of the covariance matrix is the covariance of x and x, or the variance of x. Similarly, the lower-right element is the covariance of y and y, or the variance of y. You can check to see that this is true:"
      ],
      "metadata": {
        "id": "KOvvhsFk_a9b"
      }
    },
    {
      "cell_type": "code",
      "source": [
        "x_.var(ddof=1)"
      ],
      "metadata": {
        "id": "s3SuxScm_byS",
        "colab": {
          "base_uri": "https://localhost:8080/"
        },
        "outputId": "686a948d-6d21-42d5-bee7-205c3858d423"
      },
      "execution_count": 786,
      "outputs": [
        {
          "output_type": "execute_result",
          "data": {
            "text/plain": [
              "38.5"
            ]
          },
          "metadata": {},
          "execution_count": 786
        }
      ]
    },
    {
      "cell_type": "code",
      "source": [
        "y_.var(ddof=1)"
      ],
      "metadata": {
        "id": "0HLWJJgE_kD3",
        "colab": {
          "base_uri": "https://localhost:8080/"
        },
        "outputId": "889a3a03-bc10-49c2-9702-63a468cc487b"
      },
      "execution_count": 787,
      "outputs": [
        {
          "output_type": "execute_result",
          "data": {
            "text/plain": [
              "13.914285714285711"
            ]
          },
          "metadata": {},
          "execution_count": 787
        }
      ]
    },
    {
      "cell_type": "markdown",
      "source": [
        "As you can see, the variances of x and y are equal to cov_matrix[0, 0] and cov_matrix[1, 1], respectively.\n",
        "\n",
        "The other two elements of the covariance matrix are equal and represent the actual covariance between x and y:"
      ],
      "metadata": {
        "id": "LIIGIibmAO5x"
      }
    },
    {
      "cell_type": "code",
      "source": [
        "cov_xy = cov_matrix[0, 1]\n",
        "cov_xy"
      ],
      "metadata": {
        "id": "0iNDpDDMAPq_",
        "colab": {
          "base_uri": "https://localhost:8080/"
        },
        "outputId": "e6ff0c5e-33ff-4a98-b98b-4ad81e9557a3"
      },
      "execution_count": 788,
      "outputs": [
        {
          "output_type": "execute_result",
          "data": {
            "text/plain": [
              "19.95"
            ]
          },
          "metadata": {},
          "execution_count": 788
        }
      ]
    },
    {
      "cell_type": "code",
      "source": [
        "cov_xy = cov_matrix[1, 0]\n",
        "cov_xy"
      ],
      "metadata": {
        "id": "AdzoYnxYAcYP",
        "colab": {
          "base_uri": "https://localhost:8080/"
        },
        "outputId": "773e4c77-99cc-4d40-a453-85dd7e06fac8"
      },
      "execution_count": 789,
      "outputs": [
        {
          "output_type": "execute_result",
          "data": {
            "text/plain": [
              "19.95"
            ]
          },
          "metadata": {},
          "execution_count": 789
        }
      ]
    },
    {
      "cell_type": "markdown",
      "source": [
        "You’ve obtained the same value of the covariance with np.cov() as with pure Python.\n",
        "\n",
        "Pandas Series have the method [.cov()](https://pandas.pydata.org/pandas-docs/stable/reference/api/pandas.Series.cov.html) that you can use to calculate the covariance:"
      ],
      "metadata": {
        "id": "wiPiU_YfApid"
      }
    },
    {
      "cell_type": "code",
      "source": [
        "cov_xy = x__.cov(y__)\n",
        "cov_xy"
      ],
      "metadata": {
        "id": "XXNPZQRpAw9K",
        "colab": {
          "base_uri": "https://localhost:8080/"
        },
        "outputId": "d6e93951-18b4-44b9-f6b6-cde5c62aecc3"
      },
      "execution_count": 790,
      "outputs": [
        {
          "output_type": "execute_result",
          "data": {
            "text/plain": [
              "19.95"
            ]
          },
          "metadata": {},
          "execution_count": 790
        }
      ]
    },
    {
      "cell_type": "code",
      "source": [
        "cov_xy = y__.cov(x__)\n",
        "cov_xy"
      ],
      "metadata": {
        "id": "LOuqMavGB_Nx",
        "colab": {
          "base_uri": "https://localhost:8080/"
        },
        "outputId": "0929c77a-1b76-4642-c483-3745fddc52da"
      },
      "execution_count": 791,
      "outputs": [
        {
          "output_type": "execute_result",
          "data": {
            "text/plain": [
              "19.95"
            ]
          },
          "metadata": {},
          "execution_count": 791
        }
      ]
    },
    {
      "cell_type": "markdown",
      "source": [
        "Here, you call .cov() on one Series object and pass the other object as the first argument."
      ],
      "metadata": {
        "id": "9ABNjWDCAvCe"
      }
    },
    {
      "cell_type": "markdown",
      "source": [
        "### Correlation Coefficient"
      ],
      "metadata": {
        "id": "vA9QyJmuCGqD"
      }
    },
    {
      "cell_type": "markdown",
      "source": [
        "The correlation coefficient, or Pearson product-moment correlation coefficient, is denoted by the symbol 𝑟. The coefficient is another measure of the correlation between data. You can think of it as a standardized covariance. Here are some important facts about it:\n",
        "\n",
        "* The value 𝑟 > 0 indicates positive correlation.\n",
        "* The value 𝑟 < 0 indicates negative correlation.\n",
        "* The value r = 1 is the maximum possible value of 𝑟. It corresponds to a perfect positive linear relationship between variables.\n",
        "* The value r = −1 is the minimum possible value of 𝑟. It corresponds to a perfect negative linear relationship between variables.\n",
        "* The value r ≈ 0, or when 𝑟 is around zero, means that the correlation between variables is weak.\n",
        "\n",
        "The mathematical formula for the correlation coefficient is 𝑟 = 𝑠ˣʸ / (𝑠ˣ𝑠ʸ) where 𝑠ˣ and 𝑠ʸ are the standard deviations of 𝑥 and 𝑦 respectively. If you have the means (mean_x and mean_y) and standard deviations (std_x, std_y) for the datasets x and y, as well as their covariance cov_xy, then you can calculate the correlation coefficient with pure Python:"
      ],
      "metadata": {
        "id": "AIn8yDv6CJ2m"
      }
    },
    {
      "cell_type": "code",
      "source": [
        "var_x = sum((item - mean_x)**2 for item in x) / (n - 1)"
      ],
      "metadata": {
        "id": "l9bbHY7NM-qz"
      },
      "execution_count": 792,
      "outputs": []
    },
    {
      "cell_type": "code",
      "source": [
        "var_y = sum((item - mean_y)**2 for item in y) / (n - 1)"
      ],
      "metadata": {
        "id": "dFSZUkrUNPzW"
      },
      "execution_count": 793,
      "outputs": []
    },
    {
      "cell_type": "code",
      "source": [
        "std_x, std_y = var_x ** 0.5, var_y ** 0.5"
      ],
      "metadata": {
        "id": "ZstALhFjNdjZ"
      },
      "execution_count": 794,
      "outputs": []
    },
    {
      "cell_type": "code",
      "source": [
        "r = cov_xy / (std_x * std_y)\n",
        "r"
      ],
      "metadata": {
        "id": "cDGYhZ2ZNoKK",
        "colab": {
          "base_uri": "https://localhost:8080/"
        },
        "outputId": "79edda89-d55e-479b-939c-2473c8152166"
      },
      "execution_count": 795,
      "outputs": [
        {
          "output_type": "execute_result",
          "data": {
            "text/plain": [
              "0.861950005631606"
            ]
          },
          "metadata": {},
          "execution_count": 795
        }
      ]
    },
    {
      "cell_type": "markdown",
      "source": [
        "You’ve got the variable r that represents the correlation coefficient.\n",
        "\n",
        "scipy.stats has the routine [pearsonr()](https://docs.scipy.org/doc/scipy/reference/generated/scipy.stats.pearsonr.html) that calculates the correlation coefficient and the [𝑝-value](https://en.wikipedia.org/wiki/P-value):"
      ],
      "metadata": {
        "id": "SovJUw0-N6VG"
      }
    },
    {
      "cell_type": "code",
      "source": [
        "r, p = scipy.stats.pearsonr(x_, y)\n",
        "r"
      ],
      "metadata": {
        "id": "eRzKpYBUOGQC",
        "colab": {
          "base_uri": "https://localhost:8080/"
        },
        "outputId": "02c5d2fe-8731-453b-84bc-270a7dba018d"
      },
      "execution_count": 796,
      "outputs": [
        {
          "output_type": "execute_result",
          "data": {
            "text/plain": [
              "0.8619500056316061"
            ]
          },
          "metadata": {},
          "execution_count": 796
        }
      ]
    },
    {
      "cell_type": "code",
      "source": [
        "p"
      ],
      "metadata": {
        "id": "FDfapetYOPqv",
        "colab": {
          "base_uri": "https://localhost:8080/"
        },
        "outputId": "b5e3d25d-04d3-47f1-ee35-b46e16e01051"
      },
      "execution_count": 797,
      "outputs": [
        {
          "output_type": "execute_result",
          "data": {
            "text/plain": [
              "5.122760847201135e-07"
            ]
          },
          "metadata": {},
          "execution_count": 797
        }
      ]
    },
    {
      "cell_type": "markdown",
      "source": [
        "pearsonr() returns a tuple with two numbers. The first one is 𝑟 and the second is the 𝑝-value.\n",
        "\n",
        "Similar to the case of the covariance matrix, you can apply [np.corrcoef()](https://docs.scipy.org/doc/numpy/reference/generated/numpy.corrcoef.html) with x_ and y_ as the arguments and get the correlation coefficient matrix:"
      ],
      "metadata": {
        "id": "JSLtIp5uOaM6"
      }
    },
    {
      "cell_type": "code",
      "source": [
        "corr_matrix = np.corrcoef(x_, y_)\n",
        "corr_matrix"
      ],
      "metadata": {
        "id": "DWaGczllOki4",
        "colab": {
          "base_uri": "https://localhost:8080/"
        },
        "outputId": "4274fbb8-e0c0-4667-a65b-1ed4a4ded6c8"
      },
      "execution_count": 798,
      "outputs": [
        {
          "output_type": "execute_result",
          "data": {
            "text/plain": [
              "array([[1.        , 0.86195001],\n",
              "       [0.86195001, 1.        ]])"
            ]
          },
          "metadata": {},
          "execution_count": 798
        }
      ]
    },
    {
      "cell_type": "markdown",
      "source": [
        "The upper-left element is the correlation coefficient between x_ and x_. The lower-right element is the correlation coefficient between y_ and y_. Their values are equal to 1.0. The other two elements are equal and represent the actual correlation coefficient between x_ and y_:"
      ],
      "metadata": {
        "id": "MEKpK9cjPDD7"
      }
    },
    {
      "cell_type": "code",
      "source": [
        "r = corr_matrix[0, 1]\n",
        "r"
      ],
      "metadata": {
        "id": "uBAAesaFPEgF",
        "colab": {
          "base_uri": "https://localhost:8080/"
        },
        "outputId": "34f34666-8f50-4a71-b508-34456c31a17a"
      },
      "execution_count": 799,
      "outputs": [
        {
          "output_type": "execute_result",
          "data": {
            "text/plain": [
              "0.8619500056316061"
            ]
          },
          "metadata": {},
          "execution_count": 799
        }
      ]
    },
    {
      "cell_type": "code",
      "source": [
        "r = corr_matrix[1, 0]\n",
        "r"
      ],
      "metadata": {
        "id": "vSCxiS6CPNwQ",
        "colab": {
          "base_uri": "https://localhost:8080/"
        },
        "outputId": "63c5389f-dd6f-42fb-e79d-b6522286b146"
      },
      "execution_count": 800,
      "outputs": [
        {
          "output_type": "execute_result",
          "data": {
            "text/plain": [
              "0.861950005631606"
            ]
          },
          "metadata": {},
          "execution_count": 800
        }
      ]
    },
    {
      "cell_type": "markdown",
      "source": [
        "Of course, the result is the same as with pure Python and pearsonr().\n",
        "\n",
        "You can get the correlation coefficient with [scipy.stats.linregress()](https://docs.scipy.org/doc/scipy/reference/generated/scipy.stats.linregress.html):"
      ],
      "metadata": {
        "id": "T35V9Hb0PZyO"
      }
    },
    {
      "cell_type": "code",
      "source": [
        "scipy.stats.linregress(x_, y_)"
      ],
      "metadata": {
        "id": "GPCY6ljmPpsI",
        "colab": {
          "base_uri": "https://localhost:8080/"
        },
        "outputId": "75dac65b-9d28-454c-b66a-02cc79c05949"
      },
      "execution_count": 801,
      "outputs": [
        {
          "output_type": "execute_result",
          "data": {
            "text/plain": [
              "LinregressResult(slope=0.5181818181818181, intercept=5.714285714285714, rvalue=0.861950005631606, pvalue=5.122760847201164e-07, stderr=0.06992387660074979, intercept_stderr=0.4234100995002589)"
            ]
          },
          "metadata": {},
          "execution_count": 801
        }
      ]
    },
    {
      "cell_type": "code",
      "source": [
        "result = scipy.stats.linregress(x_, y_)\n",
        "r = result.rvalue\n",
        "r"
      ],
      "metadata": {
        "id": "YFF-7ma9RN_t",
        "colab": {
          "base_uri": "https://localhost:8080/"
        },
        "outputId": "b4b1f964-341f-4b36-9ddc-216336699684"
      },
      "execution_count": 802,
      "outputs": [
        {
          "output_type": "execute_result",
          "data": {
            "text/plain": [
              "0.861950005631606"
            ]
          },
          "metadata": {},
          "execution_count": 802
        }
      ]
    },
    {
      "cell_type": "markdown",
      "source": [
        "That’s how you can perform linear regression and obtain the correlation coefficient.\n",
        "\n",
        "Pandas Series have the method [.corr()](https://pandas.pydata.org/pandas-docs/stable/reference/api/pandas.Series.corr.html) for calculating the correlation coefficient:"
      ],
      "metadata": {
        "id": "T0Wo0BuwPfgm"
      }
    },
    {
      "cell_type": "code",
      "source": [
        "r = x__.corr(y__)\n",
        "r"
      ],
      "metadata": {
        "id": "qPvbR-foRpCq",
        "colab": {
          "base_uri": "https://localhost:8080/"
        },
        "outputId": "7262c6cb-069f-45ad-a68f-d9e65ce3680f"
      },
      "execution_count": 803,
      "outputs": [
        {
          "output_type": "execute_result",
          "data": {
            "text/plain": [
              "0.8619500056316061"
            ]
          },
          "metadata": {},
          "execution_count": 803
        }
      ]
    },
    {
      "cell_type": "code",
      "source": [
        "r = y__.corr(x__)\n",
        "r"
      ],
      "metadata": {
        "id": "OZmCxLWOR0IJ",
        "colab": {
          "base_uri": "https://localhost:8080/"
        },
        "outputId": "75848d5f-ded5-4f1c-a96b-b66ee1457d41"
      },
      "execution_count": 804,
      "outputs": [
        {
          "output_type": "execute_result",
          "data": {
            "text/plain": [
              "0.861950005631606"
            ]
          },
          "metadata": {},
          "execution_count": 804
        }
      ]
    },
    {
      "cell_type": "markdown",
      "source": [
        "You should call .corr() on one Series object and pass the other object as the first argument."
      ],
      "metadata": {
        "id": "2iKZdHgWR-4Q"
      }
    },
    {
      "cell_type": "markdown",
      "source": [
        "# Working With 2D Data"
      ],
      "metadata": {
        "id": "d3Uape2ZR_wz"
      }
    },
    {
      "cell_type": "markdown",
      "source": [
        "Statisticians often work with 2D data. Here are some examples of 2D data formats:\n",
        "\n",
        "* [Database](https://realpython.com/tutorials/databases/) tables\n",
        "* [CSV files](https://realpython.com/python-csv/)\n",
        "* [Excel](https://realpython.com/working-with-large-excel-files-in-pandas/), Calc, and Google [spreadsheets](https://realpython.com/openpyxl-excel-spreadsheets-python/)\n",
        "* NumPy and SciPy provide a comprehensive means to work with 2D data. \n",
        "\n",
        "Pandas has the class DataFrame specifically to handle 2D labeled data."
      ],
      "metadata": {
        "id": "drE3vZb-SL3R"
      }
    },
    {
      "cell_type": "markdown",
      "source": [
        "## Axes"
      ],
      "metadata": {
        "id": "-pUZkudpTEcR"
      }
    },
    {
      "cell_type": "markdown",
      "source": [
        "Start by creating a 2D NumPy array:"
      ],
      "metadata": {
        "id": "eMucbwM8TIv6"
      }
    },
    {
      "cell_type": "code",
      "source": [
        "a = np.array([[1, 1, 1],\n",
        "              [2, 3, 1],\n",
        "              [4, 9, 2],\n",
        "              [8, 27, 4],\n",
        "              [16, 1, 1]])\n",
        "a"
      ],
      "metadata": {
        "id": "r_TpC7HTTGOa",
        "colab": {
          "base_uri": "https://localhost:8080/"
        },
        "outputId": "1fa135ce-c568-4130-80d7-290806b384c4"
      },
      "execution_count": 805,
      "outputs": [
        {
          "output_type": "execute_result",
          "data": {
            "text/plain": [
              "array([[ 1,  1,  1],\n",
              "       [ 2,  3,  1],\n",
              "       [ 4,  9,  2],\n",
              "       [ 8, 27,  4],\n",
              "       [16,  1,  1]])"
            ]
          },
          "metadata": {},
          "execution_count": 805
        }
      ]
    },
    {
      "cell_type": "markdown",
      "source": [
        "Now you have a 2D dataset, which you’ll use in this section. You can apply Python statistics functions and methods to it just as you would to 1D data:"
      ],
      "metadata": {
        "id": "ytZQwx4QwLCl"
      }
    },
    {
      "cell_type": "code",
      "source": [
        "np.mean(a)"
      ],
      "metadata": {
        "id": "MN7E5O1rwL2U",
        "colab": {
          "base_uri": "https://localhost:8080/"
        },
        "outputId": "223cfd90-7c16-41de-c31f-1140ba8be6d8"
      },
      "execution_count": 806,
      "outputs": [
        {
          "output_type": "execute_result",
          "data": {
            "text/plain": [
              "5.4"
            ]
          },
          "metadata": {},
          "execution_count": 806
        }
      ]
    },
    {
      "cell_type": "code",
      "source": [
        "a.mean()"
      ],
      "metadata": {
        "id": "jAjtuN-jwPLe",
        "colab": {
          "base_uri": "https://localhost:8080/"
        },
        "outputId": "be48abde-2231-4b84-ee17-7016b33f912e"
      },
      "execution_count": 807,
      "outputs": [
        {
          "output_type": "execute_result",
          "data": {
            "text/plain": [
              "5.4"
            ]
          },
          "metadata": {},
          "execution_count": 807
        }
      ]
    },
    {
      "cell_type": "code",
      "source": [
        "np.median(a)"
      ],
      "metadata": {
        "id": "_D0MNXmHwSqV",
        "colab": {
          "base_uri": "https://localhost:8080/"
        },
        "outputId": "1cfd57fe-fa4a-4af9-c73b-a565724e6b3c"
      },
      "execution_count": 808,
      "outputs": [
        {
          "output_type": "execute_result",
          "data": {
            "text/plain": [
              "2.0"
            ]
          },
          "metadata": {},
          "execution_count": 808
        }
      ]
    },
    {
      "cell_type": "code",
      "source": [
        "a.var(ddof=1)"
      ],
      "metadata": {
        "id": "CXDaF8WrwYO1",
        "colab": {
          "base_uri": "https://localhost:8080/"
        },
        "outputId": "616c30fd-7c3a-40a1-eb5f-a956782d9df3"
      },
      "execution_count": 809,
      "outputs": [
        {
          "output_type": "execute_result",
          "data": {
            "text/plain": [
              "53.40000000000001"
            ]
          },
          "metadata": {},
          "execution_count": 809
        }
      ]
    },
    {
      "cell_type": "markdown",
      "source": [
        "As you can see, you get statistics (like the mean, median, or variance) across all data in the array a. Sometimes, this behavior is what you want, but in some cases, you’ll want these quantities calculated for each row or column of your 2D array.\n",
        "\n",
        "The functions and methods you’ve used so far have one optional parameter called axis, which is essential for handling 2D data. axis can take on any of the following values:\n",
        "\n",
        "* axis=None says to calculate the statistics across all data in the array. The examples above work like this. This behavior is often the default in NumPy.\n",
        "* axis=0 says to calculate the statistics across all rows, that is, for each column of the array. This behavior is often the default for SciPy statistical functions.\n",
        "* axis=1 says to calculate the statistics across all columns, that is, for each row of the array.\n",
        "\n",
        "Let’s see axis=0 in action with np.mean():"
      ],
      "metadata": {
        "id": "Msb7s7pVweU7"
      }
    },
    {
      "cell_type": "code",
      "source": [
        "np.mean(a, axis=0)"
      ],
      "metadata": {
        "id": "rPj8REAFTPAi",
        "colab": {
          "base_uri": "https://localhost:8080/"
        },
        "outputId": "76218c2d-254e-4a4e-fbee-29b5ea9292cf"
      },
      "execution_count": 810,
      "outputs": [
        {
          "output_type": "execute_result",
          "data": {
            "text/plain": [
              "array([6.2, 8.2, 1.8])"
            ]
          },
          "metadata": {},
          "execution_count": 810
        }
      ]
    },
    {
      "cell_type": "code",
      "source": [
        "a.mean(axis=0)"
      ],
      "metadata": {
        "id": "R5yPY7tqwuyQ",
        "colab": {
          "base_uri": "https://localhost:8080/"
        },
        "outputId": "e21f6649-cc07-4c72-98a4-665d2e304f32"
      },
      "execution_count": 811,
      "outputs": [
        {
          "output_type": "execute_result",
          "data": {
            "text/plain": [
              "array([6.2, 8.2, 1.8])"
            ]
          },
          "metadata": {},
          "execution_count": 811
        }
      ]
    },
    {
      "cell_type": "markdown",
      "source": [
        "The two statements above return new NumPy arrays with the mean for each column of a. In this example, the mean of the first column is 6.2. The second column has the mean 8.2, while the third has 1.8.\n",
        "\n",
        "If you provide axis=1 to mean(), then you’ll get the results for each row:"
      ],
      "metadata": {
        "id": "lCFDFOo_w6KB"
      }
    },
    {
      "cell_type": "code",
      "source": [
        "np.mean(a, axis=1)"
      ],
      "metadata": {
        "id": "JCk5obgmw8N6",
        "colab": {
          "base_uri": "https://localhost:8080/"
        },
        "outputId": "3b11a676-5eeb-4903-e3ff-e8710bf43cb8"
      },
      "execution_count": 812,
      "outputs": [
        {
          "output_type": "execute_result",
          "data": {
            "text/plain": [
              "array([ 1.,  2.,  5., 13.,  6.])"
            ]
          },
          "metadata": {},
          "execution_count": 812
        }
      ]
    },
    {
      "cell_type": "code",
      "source": [
        "a.mean(axis=1)"
      ],
      "metadata": {
        "id": "anZ2rd3SxBsj",
        "colab": {
          "base_uri": "https://localhost:8080/"
        },
        "outputId": "82ee47db-85bb-4021-834e-62138349d0ac"
      },
      "execution_count": 813,
      "outputs": [
        {
          "output_type": "execute_result",
          "data": {
            "text/plain": [
              "array([ 1.,  2.,  5., 13.,  6.])"
            ]
          },
          "metadata": {},
          "execution_count": 813
        }
      ]
    },
    {
      "cell_type": "markdown",
      "source": [
        "As you can see, the first row of a has the mean 1.0, the second 2.0, and so on.\n",
        "\n",
        "**Note:** You can extend these rules to multi-dimensional arrays, but that’s beyond the scope of this tutorial. Feel free to dive into this topic on your own!\n",
        "\n",
        "The parameter axis works the same way with other NumPy functions and methods:"
      ],
      "metadata": {
        "id": "X87gsM1ZxRTL"
      }
    },
    {
      "cell_type": "code",
      "source": [
        "np.median(a, axis=0)"
      ],
      "metadata": {
        "id": "4Bq3-0JKxVP1",
        "colab": {
          "base_uri": "https://localhost:8080/"
        },
        "outputId": "a008b55d-3b12-4db4-9fd1-185d090ca7e0"
      },
      "execution_count": 814,
      "outputs": [
        {
          "output_type": "execute_result",
          "data": {
            "text/plain": [
              "array([4., 3., 1.])"
            ]
          },
          "metadata": {},
          "execution_count": 814
        }
      ]
    },
    {
      "cell_type": "code",
      "source": [
        "np.median(a, axis=1)"
      ],
      "metadata": {
        "id": "a_CbnGFTxaLY",
        "colab": {
          "base_uri": "https://localhost:8080/"
        },
        "outputId": "cb2d9be0-d40e-4a66-b719-6dd2483bfb27"
      },
      "execution_count": 815,
      "outputs": [
        {
          "output_type": "execute_result",
          "data": {
            "text/plain": [
              "array([1., 2., 4., 8., 1.])"
            ]
          },
          "metadata": {},
          "execution_count": 815
        }
      ]
    },
    {
      "cell_type": "code",
      "source": [
        "a.var(axis=0, ddof=1)"
      ],
      "metadata": {
        "id": "e4yo82aWyuTo",
        "colab": {
          "base_uri": "https://localhost:8080/"
        },
        "outputId": "3883aa8c-f734-4472-a887-55825ca9ce99"
      },
      "execution_count": 816,
      "outputs": [
        {
          "output_type": "execute_result",
          "data": {
            "text/plain": [
              "array([ 37.2, 121.2,   1.7])"
            ]
          },
          "metadata": {},
          "execution_count": 816
        }
      ]
    },
    {
      "cell_type": "code",
      "source": [
        "a.var(axis=1, ddof=1)"
      ],
      "metadata": {
        "id": "gB1PgGKNzAgp",
        "colab": {
          "base_uri": "https://localhost:8080/"
        },
        "outputId": "d908ac6e-ec95-4fbb-d053-d5d5fe854c27"
      },
      "execution_count": 817,
      "outputs": [
        {
          "output_type": "execute_result",
          "data": {
            "text/plain": [
              "array([  0.,   1.,  13., 151.,  75.])"
            ]
          },
          "metadata": {},
          "execution_count": 817
        }
      ]
    },
    {
      "cell_type": "markdown",
      "source": [
        "You’ve got the medians and sample variations for all columns (axis=0) and rows (axis=1) of the array a.\n",
        "\n",
        "This is very similar when you work with SciPy statistics functions. But remember that in this case, the default value for axis is 0:"
      ],
      "metadata": {
        "id": "PKgainBnzJ5e"
      }
    },
    {
      "cell_type": "code",
      "source": [
        "scipy.stats.gmean(a) # Default: axis=0"
      ],
      "metadata": {
        "id": "yXK3YWjCzL4n",
        "colab": {
          "base_uri": "https://localhost:8080/"
        },
        "outputId": "f39180e7-5cce-4f99-d983-d7faadba0499"
      },
      "execution_count": 818,
      "outputs": [
        {
          "output_type": "execute_result",
          "data": {
            "text/plain": [
              "array([4.        , 3.73719282, 1.51571657])"
            ]
          },
          "metadata": {},
          "execution_count": 818
        }
      ]
    },
    {
      "cell_type": "code",
      "source": [
        "scipy.stats.gmean(a, axis=0)"
      ],
      "metadata": {
        "id": "33jgtHEVzUgX",
        "colab": {
          "base_uri": "https://localhost:8080/"
        },
        "outputId": "3a098999-3b41-4e84-a9ae-08538af6e7f8"
      },
      "execution_count": 819,
      "outputs": [
        {
          "output_type": "execute_result",
          "data": {
            "text/plain": [
              "array([4.        , 3.73719282, 1.51571657])"
            ]
          },
          "metadata": {},
          "execution_count": 819
        }
      ]
    },
    {
      "cell_type": "markdown",
      "source": [
        "If you omit axis or provide axis=0, then you’ll get the result across all rows, that is, for each column. For example, the first column of a has a geometric mean of 4.0, and so on.\n",
        "\n",
        "If you specify axis=1, then you’ll get the calculations across all columns, that is for each row:"
      ],
      "metadata": {
        "id": "7lK78489zjZh"
      }
    },
    {
      "cell_type": "code",
      "source": [
        "scipy.stats.gmean(a, axis=1)"
      ],
      "metadata": {
        "id": "ZzacZkR0zkP-",
        "colab": {
          "base_uri": "https://localhost:8080/"
        },
        "outputId": "2b77db42-a08e-46bc-eb60-5618fa1820c6"
      },
      "execution_count": 820,
      "outputs": [
        {
          "output_type": "execute_result",
          "data": {
            "text/plain": [
              "array([1.        , 1.81712059, 4.16016765, 9.52440631, 2.5198421 ])"
            ]
          },
          "metadata": {},
          "execution_count": 820
        }
      ]
    },
    {
      "cell_type": "markdown",
      "source": [
        "In this example, the geometric mean of the first row of a is 1.0. For the second row, it’s approximately 1.82, and so on.\n",
        "\n",
        "If you want statistics for the entire dataset, then you have to provide axis=None:"
      ],
      "metadata": {
        "id": "5rgrtAGc0C4f"
      }
    },
    {
      "cell_type": "code",
      "source": [
        "scipy.stats.gmean(a, axis=None)"
      ],
      "metadata": {
        "id": "OcPv33qI0D9t",
        "colab": {
          "base_uri": "https://localhost:8080/"
        },
        "outputId": "1965e9b6-9175-4b7f-b9bb-8d368998c853"
      },
      "execution_count": 821,
      "outputs": [
        {
          "output_type": "execute_result",
          "data": {
            "text/plain": [
              "2.829705017016332"
            ]
          },
          "metadata": {},
          "execution_count": 821
        }
      ]
    },
    {
      "cell_type": "markdown",
      "source": [
        "The geometric mean of all the items in the array a is approximately 2.83.\n",
        "\n",
        "You can get a Python statistics summary with a single function call for 2D data with [scipy.stats.describe()](https://docs.scipy.org/doc/scipy/reference/generated/scipy.stats.describe.html). It works similar to 1D arrays, but you have to be careful with the parameter axis:"
      ],
      "metadata": {
        "id": "FL7kvyW90NVM"
      }
    },
    {
      "cell_type": "code",
      "source": [
        "scipy.stats.describe(a, axis=None, ddof=1, bias=False)"
      ],
      "metadata": {
        "id": "sLVmgp360cOS",
        "colab": {
          "base_uri": "https://localhost:8080/"
        },
        "outputId": "26462760-2d3b-43f8-b8f9-8bf05bc792a1"
      },
      "execution_count": 822,
      "outputs": [
        {
          "output_type": "execute_result",
          "data": {
            "text/plain": [
              "DescribeResult(nobs=15, minmax=(1, 27), mean=5.4, variance=53.40000000000001, skewness=2.264965290423389, kurtosis=5.212690982795767)"
            ]
          },
          "metadata": {},
          "execution_count": 822
        }
      ]
    },
    {
      "cell_type": "code",
      "source": [
        "scipy.stats.describe(a, ddof=1, bias=False)"
      ],
      "metadata": {
        "id": "O-8t6QYT0tUx",
        "colab": {
          "base_uri": "https://localhost:8080/"
        },
        "outputId": "79277778-cb5d-443e-8ebd-a3f71ff21b22"
      },
      "execution_count": 823,
      "outputs": [
        {
          "output_type": "execute_result",
          "data": {
            "text/plain": [
              "DescribeResult(nobs=5, minmax=(array([1, 1, 1]), array([16, 27,  4])), mean=array([6.2, 8.2, 1.8]), variance=array([ 37.2, 121.2,   1.7]), skewness=array([1.32531471, 1.79809454, 1.71439233]), kurtosis=array([1.30376344, 3.14969121, 2.66435986]))"
            ]
          },
          "metadata": {},
          "execution_count": 823
        }
      ]
    },
    {
      "cell_type": "markdown",
      "source": [
        "When you provide axis=None, you get the summary across all data. Most results are scalars. If you set axis=0 or omit it, then the return value is the summary for each column. So, most results are the arrays with the same number of items as the number of columns. If you set axis=1, then describe() returns the summary for all rows.\n",
        "\n",
        "You can get a particular value from the summary with dot notation:"
      ],
      "metadata": {
        "id": "hCtR5Ic9OLYd"
      }
    },
    {
      "cell_type": "code",
      "source": [
        "result = scipy.stats.describe(a, axis=1, ddof=1, bias=False)\n",
        "result.mean"
      ],
      "metadata": {
        "id": "SzOVVh9gONUi",
        "colab": {
          "base_uri": "https://localhost:8080/"
        },
        "outputId": "7f9628e7-e670-472f-d30e-b4313289b069"
      },
      "execution_count": 824,
      "outputs": [
        {
          "output_type": "execute_result",
          "data": {
            "text/plain": [
              "array([ 1.,  2.,  5., 13.,  6.])"
            ]
          },
          "metadata": {},
          "execution_count": 824
        }
      ]
    },
    {
      "cell_type": "markdown",
      "source": [
        "That’s how you can see a statistics summary for a 2D array with a single function call."
      ],
      "metadata": {
        "id": "q4sJfUawOn8E"
      }
    },
    {
      "cell_type": "markdown",
      "source": [
        "### DataFrames"
      ],
      "metadata": {
        "id": "Si-TlRFsOwbS"
      }
    },
    {
      "cell_type": "markdown",
      "source": [
        "The class DataFrame is one of the fundamental Pandas data types. It’s very comfortable to work with because it has labels for rows and columns. Use the array a and create a DataFrame:"
      ],
      "metadata": {
        "id": "UfncdyHDO0G_"
      }
    },
    {
      "cell_type": "code",
      "source": [
        "row_names = ['first', 'second', 'third', 'fourth', 'fifth']\n",
        "col_names = ['A', 'B', 'C']\n",
        "df = pd.DataFrame(a, index=row_names, columns=col_names)\n",
        "df"
      ],
      "metadata": {
        "colab": {
          "base_uri": "https://localhost:8080/",
          "height": 206
        },
        "id": "Wbbn5zyE4irA",
        "outputId": "809b9761-c11c-4289-9886-138cd9719238"
      },
      "execution_count": 825,
      "outputs": [
        {
          "output_type": "execute_result",
          "data": {
            "text/plain": [
              "         A   B  C\n",
              "first    1   1  1\n",
              "second   2   3  1\n",
              "third    4   9  2\n",
              "fourth   8  27  4\n",
              "fifth   16   1  1"
            ],
            "text/html": [
              "\n",
              "  <div id=\"df-2d7c4589-912c-48b7-b02f-cc2ac316e744\">\n",
              "    <div class=\"colab-df-container\">\n",
              "      <div>\n",
              "<style scoped>\n",
              "    .dataframe tbody tr th:only-of-type {\n",
              "        vertical-align: middle;\n",
              "    }\n",
              "\n",
              "    .dataframe tbody tr th {\n",
              "        vertical-align: top;\n",
              "    }\n",
              "\n",
              "    .dataframe thead th {\n",
              "        text-align: right;\n",
              "    }\n",
              "</style>\n",
              "<table border=\"1\" class=\"dataframe\">\n",
              "  <thead>\n",
              "    <tr style=\"text-align: right;\">\n",
              "      <th></th>\n",
              "      <th>A</th>\n",
              "      <th>B</th>\n",
              "      <th>C</th>\n",
              "    </tr>\n",
              "  </thead>\n",
              "  <tbody>\n",
              "    <tr>\n",
              "      <th>first</th>\n",
              "      <td>1</td>\n",
              "      <td>1</td>\n",
              "      <td>1</td>\n",
              "    </tr>\n",
              "    <tr>\n",
              "      <th>second</th>\n",
              "      <td>2</td>\n",
              "      <td>3</td>\n",
              "      <td>1</td>\n",
              "    </tr>\n",
              "    <tr>\n",
              "      <th>third</th>\n",
              "      <td>4</td>\n",
              "      <td>9</td>\n",
              "      <td>2</td>\n",
              "    </tr>\n",
              "    <tr>\n",
              "      <th>fourth</th>\n",
              "      <td>8</td>\n",
              "      <td>27</td>\n",
              "      <td>4</td>\n",
              "    </tr>\n",
              "    <tr>\n",
              "      <th>fifth</th>\n",
              "      <td>16</td>\n",
              "      <td>1</td>\n",
              "      <td>1</td>\n",
              "    </tr>\n",
              "  </tbody>\n",
              "</table>\n",
              "</div>\n",
              "      <button class=\"colab-df-convert\" onclick=\"convertToInteractive('df-2d7c4589-912c-48b7-b02f-cc2ac316e744')\"\n",
              "              title=\"Convert this dataframe to an interactive table.\"\n",
              "              style=\"display:none;\">\n",
              "        \n",
              "  <svg xmlns=\"http://www.w3.org/2000/svg\" height=\"24px\"viewBox=\"0 0 24 24\"\n",
              "       width=\"24px\">\n",
              "    <path d=\"M0 0h24v24H0V0z\" fill=\"none\"/>\n",
              "    <path d=\"M18.56 5.44l.94 2.06.94-2.06 2.06-.94-2.06-.94-.94-2.06-.94 2.06-2.06.94zm-11 1L8.5 8.5l.94-2.06 2.06-.94-2.06-.94L8.5 2.5l-.94 2.06-2.06.94zm10 10l.94 2.06.94-2.06 2.06-.94-2.06-.94-.94-2.06-.94 2.06-2.06.94z\"/><path d=\"M17.41 7.96l-1.37-1.37c-.4-.4-.92-.59-1.43-.59-.52 0-1.04.2-1.43.59L10.3 9.45l-7.72 7.72c-.78.78-.78 2.05 0 2.83L4 21.41c.39.39.9.59 1.41.59.51 0 1.02-.2 1.41-.59l7.78-7.78 2.81-2.81c.8-.78.8-2.07 0-2.86zM5.41 20L4 18.59l7.72-7.72 1.47 1.35L5.41 20z\"/>\n",
              "  </svg>\n",
              "      </button>\n",
              "      \n",
              "  <style>\n",
              "    .colab-df-container {\n",
              "      display:flex;\n",
              "      flex-wrap:wrap;\n",
              "      gap: 12px;\n",
              "    }\n",
              "\n",
              "    .colab-df-convert {\n",
              "      background-color: #E8F0FE;\n",
              "      border: none;\n",
              "      border-radius: 50%;\n",
              "      cursor: pointer;\n",
              "      display: none;\n",
              "      fill: #1967D2;\n",
              "      height: 32px;\n",
              "      padding: 0 0 0 0;\n",
              "      width: 32px;\n",
              "    }\n",
              "\n",
              "    .colab-df-convert:hover {\n",
              "      background-color: #E2EBFA;\n",
              "      box-shadow: 0px 1px 2px rgba(60, 64, 67, 0.3), 0px 1px 3px 1px rgba(60, 64, 67, 0.15);\n",
              "      fill: #174EA6;\n",
              "    }\n",
              "\n",
              "    [theme=dark] .colab-df-convert {\n",
              "      background-color: #3B4455;\n",
              "      fill: #D2E3FC;\n",
              "    }\n",
              "\n",
              "    [theme=dark] .colab-df-convert:hover {\n",
              "      background-color: #434B5C;\n",
              "      box-shadow: 0px 1px 3px 1px rgba(0, 0, 0, 0.15);\n",
              "      filter: drop-shadow(0px 1px 2px rgba(0, 0, 0, 0.3));\n",
              "      fill: #FFFFFF;\n",
              "    }\n",
              "  </style>\n",
              "\n",
              "      <script>\n",
              "        const buttonEl =\n",
              "          document.querySelector('#df-2d7c4589-912c-48b7-b02f-cc2ac316e744 button.colab-df-convert');\n",
              "        buttonEl.style.display =\n",
              "          google.colab.kernel.accessAllowed ? 'block' : 'none';\n",
              "\n",
              "        async function convertToInteractive(key) {\n",
              "          const element = document.querySelector('#df-2d7c4589-912c-48b7-b02f-cc2ac316e744');\n",
              "          const dataTable =\n",
              "            await google.colab.kernel.invokeFunction('convertToInteractive',\n",
              "                                                     [key], {});\n",
              "          if (!dataTable) return;\n",
              "\n",
              "          const docLinkHtml = 'Like what you see? Visit the ' +\n",
              "            '<a target=\"_blank\" href=https://colab.research.google.com/notebooks/data_table.ipynb>data table notebook</a>'\n",
              "            + ' to learn more about interactive tables.';\n",
              "          element.innerHTML = '';\n",
              "          dataTable['output_type'] = 'display_data';\n",
              "          await google.colab.output.renderOutput(dataTable, element);\n",
              "          const docLink = document.createElement('div');\n",
              "          docLink.innerHTML = docLinkHtml;\n",
              "          element.appendChild(docLink);\n",
              "        }\n",
              "      </script>\n",
              "    </div>\n",
              "  </div>\n",
              "  "
            ]
          },
          "metadata": {},
          "execution_count": 825
        }
      ]
    },
    {
      "cell_type": "markdown",
      "source": [
        "In practice, the names of the columns matter and should be descriptive. The names of the rows are sometimes specified automatically as 0, 1, and so on. You can specify them explicitly with the parameter index, though you’re free to omit index if you like.\n",
        "\n",
        "DataFrame methods are very similar to Series methods, though the behavior is different. If you call Python statistics methods without arguments, then the DataFrame will return the results for each column:"
      ],
      "metadata": {
        "id": "hbMOlsUyPAuc"
      }
    },
    {
      "cell_type": "code",
      "source": [
        "df.mean()"
      ],
      "metadata": {
        "id": "bD0jte7T5RAM",
        "colab": {
          "base_uri": "https://localhost:8080/"
        },
        "outputId": "5d5d4bb7-c1b8-4274-fcb9-a9d0d0ded740"
      },
      "execution_count": 826,
      "outputs": [
        {
          "output_type": "execute_result",
          "data": {
            "text/plain": [
              "A    6.2\n",
              "B    8.2\n",
              "C    1.8\n",
              "dtype: float64"
            ]
          },
          "metadata": {},
          "execution_count": 826
        }
      ]
    },
    {
      "cell_type": "code",
      "source": [
        "df.var()"
      ],
      "metadata": {
        "colab": {
          "base_uri": "https://localhost:8080/"
        },
        "id": "Pcd_mNaG5-lO",
        "outputId": "4f851beb-1060-4b4c-ce98-f81bf3a88e07"
      },
      "execution_count": 827,
      "outputs": [
        {
          "output_type": "execute_result",
          "data": {
            "text/plain": [
              "A     37.2\n",
              "B    121.2\n",
              "C      1.7\n",
              "dtype: float64"
            ]
          },
          "metadata": {},
          "execution_count": 827
        }
      ]
    },
    {
      "cell_type": "markdown",
      "source": [
        "What you get is a new Series that holds the results. In this case, the Series holds the mean and variance for each column. If you want the results for each row, then just specify the parameter axis=1:"
      ],
      "metadata": {
        "id": "E8m9vxZ-6Gsf"
      }
    },
    {
      "cell_type": "code",
      "source": [
        "df.mean(axis=1)"
      ],
      "metadata": {
        "colab": {
          "base_uri": "https://localhost:8080/"
        },
        "id": "IJAeO9OH6Hu0",
        "outputId": "57e4f877-bd6e-4dfb-946b-b55c5a3fdfc6"
      },
      "execution_count": 828,
      "outputs": [
        {
          "output_type": "execute_result",
          "data": {
            "text/plain": [
              "first      1.0\n",
              "second     2.0\n",
              "third      5.0\n",
              "fourth    13.0\n",
              "fifth      6.0\n",
              "dtype: float64"
            ]
          },
          "metadata": {},
          "execution_count": 828
        }
      ]
    },
    {
      "cell_type": "code",
      "source": [
        "df.var(axis=1)"
      ],
      "metadata": {
        "colab": {
          "base_uri": "https://localhost:8080/"
        },
        "id": "DqypAKzl6Ms_",
        "outputId": "7ce00aee-1b65-4c31-aeec-b06ae2131015"
      },
      "execution_count": 829,
      "outputs": [
        {
          "output_type": "execute_result",
          "data": {
            "text/plain": [
              "first       0.0\n",
              "second      1.0\n",
              "third      13.0\n",
              "fourth    151.0\n",
              "fifth      75.0\n",
              "dtype: float64"
            ]
          },
          "metadata": {},
          "execution_count": 829
        }
      ]
    },
    {
      "cell_type": "markdown",
      "source": [
        "The result is a Series with the desired quantity for each row. The labels 'first', 'second', and so on refer to the different rows.\n",
        "\n",
        "You can isolate each column of a DataFrame like this:"
      ],
      "metadata": {
        "id": "u_HiybhH6WTx"
      }
    },
    {
      "cell_type": "code",
      "source": [
        "df['A']"
      ],
      "metadata": {
        "colab": {
          "base_uri": "https://localhost:8080/"
        },
        "id": "24T_tOCr6W9t",
        "outputId": "6c4b4bed-f9a2-4150-d764-98ede0d0b7ab"
      },
      "execution_count": 830,
      "outputs": [
        {
          "output_type": "execute_result",
          "data": {
            "text/plain": [
              "first      1\n",
              "second     2\n",
              "third      4\n",
              "fourth     8\n",
              "fifth     16\n",
              "Name: A, dtype: int64"
            ]
          },
          "metadata": {},
          "execution_count": 830
        }
      ]
    },
    {
      "cell_type": "code",
      "source": [
        "df['A'].mean()"
      ],
      "metadata": {
        "colab": {
          "base_uri": "https://localhost:8080/"
        },
        "id": "WTFqpO-R6dUX",
        "outputId": "b8c5d7a0-f894-49b5-81ff-03bc5eaa905e"
      },
      "execution_count": 831,
      "outputs": [
        {
          "output_type": "execute_result",
          "data": {
            "text/plain": [
              "6.2"
            ]
          },
          "metadata": {},
          "execution_count": 831
        }
      ]
    },
    {
      "cell_type": "code",
      "source": [
        "df['A'].var()"
      ],
      "metadata": {
        "colab": {
          "base_uri": "https://localhost:8080/"
        },
        "id": "u7TWi9Hh6hJP",
        "outputId": "e3131e3d-124e-4364-829a-bc9a1f82d597"
      },
      "execution_count": 832,
      "outputs": [
        {
          "output_type": "execute_result",
          "data": {
            "text/plain": [
              "37.20000000000001"
            ]
          },
          "metadata": {},
          "execution_count": 832
        }
      ]
    },
    {
      "cell_type": "markdown",
      "source": [
        "That’s how you can obtain the statistics for a single column.\n",
        "\n",
        "Sometimes, you might want to use a DataFrame as a NumPy array and apply some function to it. It’s possible to get all data from a DataFrame with .values or .to_numpy():"
      ],
      "metadata": {
        "id": "1Q5A5Ozg67u2"
      }
    },
    {
      "cell_type": "code",
      "source": [
        "df.values"
      ],
      "metadata": {
        "colab": {
          "base_uri": "https://localhost:8080/"
        },
        "id": "AzDsxU7T68w4",
        "outputId": "bc45f839-ece2-4c0c-a945-f04fc5409384"
      },
      "execution_count": 833,
      "outputs": [
        {
          "output_type": "execute_result",
          "data": {
            "text/plain": [
              "array([[ 1,  1,  1],\n",
              "       [ 2,  3,  1],\n",
              "       [ 4,  9,  2],\n",
              "       [ 8, 27,  4],\n",
              "       [16,  1,  1]])"
            ]
          },
          "metadata": {},
          "execution_count": 833
        }
      ]
    },
    {
      "cell_type": "code",
      "source": [
        "df.to_numpy"
      ],
      "metadata": {
        "colab": {
          "base_uri": "https://localhost:8080/"
        },
        "id": "sF-i5FVM7JcH",
        "outputId": "6d02b0ab-1694-4692-af3c-edbf79b7300f"
      },
      "execution_count": 834,
      "outputs": [
        {
          "output_type": "execute_result",
          "data": {
            "text/plain": [
              "<bound method DataFrame.to_numpy of          A   B  C\n",
              "first    1   1  1\n",
              "second   2   3  1\n",
              "third    4   9  2\n",
              "fourth   8  27  4\n",
              "fifth   16   1  1>"
            ]
          },
          "metadata": {},
          "execution_count": 834
        }
      ]
    },
    {
      "cell_type": "markdown",
      "source": [
        "df.values and df.to_numpy() give you a NumPy array with all items from the DataFrame without row and column labels. Note that df.to_numpy() is more flexible because you can specify the data type of items and whether you want to use the existing data or copy it.\n",
        "\n",
        "Like Series, DataFrame objects have the method [.describe()](https://pandas.pydata.org/pandas-docs/stable/reference/api/pandas.DataFrame.describe.html) that returns another DataFrame with the statistics summary for all columns:"
      ],
      "metadata": {
        "id": "VHq-ddQX7fWm"
      }
    },
    {
      "cell_type": "code",
      "source": [
        "df.describe()"
      ],
      "metadata": {
        "colab": {
          "base_uri": "https://localhost:8080/",
          "height": 300
        },
        "id": "SY0sDsX-7mOm",
        "outputId": "5217b55f-473f-4ed7-e520-d6f9dbdb03f9"
      },
      "execution_count": 835,
      "outputs": [
        {
          "output_type": "execute_result",
          "data": {
            "text/plain": [
              "              A          B        C\n",
              "count   5.00000   5.000000  5.00000\n",
              "mean    6.20000   8.200000  1.80000\n",
              "std     6.09918  11.009087  1.30384\n",
              "min     1.00000   1.000000  1.00000\n",
              "25%     2.00000   1.000000  1.00000\n",
              "50%     4.00000   3.000000  1.00000\n",
              "75%     8.00000   9.000000  2.00000\n",
              "max    16.00000  27.000000  4.00000"
            ],
            "text/html": [
              "\n",
              "  <div id=\"df-c2a5a650-0e6f-4238-af1a-e57455940b12\">\n",
              "    <div class=\"colab-df-container\">\n",
              "      <div>\n",
              "<style scoped>\n",
              "    .dataframe tbody tr th:only-of-type {\n",
              "        vertical-align: middle;\n",
              "    }\n",
              "\n",
              "    .dataframe tbody tr th {\n",
              "        vertical-align: top;\n",
              "    }\n",
              "\n",
              "    .dataframe thead th {\n",
              "        text-align: right;\n",
              "    }\n",
              "</style>\n",
              "<table border=\"1\" class=\"dataframe\">\n",
              "  <thead>\n",
              "    <tr style=\"text-align: right;\">\n",
              "      <th></th>\n",
              "      <th>A</th>\n",
              "      <th>B</th>\n",
              "      <th>C</th>\n",
              "    </tr>\n",
              "  </thead>\n",
              "  <tbody>\n",
              "    <tr>\n",
              "      <th>count</th>\n",
              "      <td>5.00000</td>\n",
              "      <td>5.000000</td>\n",
              "      <td>5.00000</td>\n",
              "    </tr>\n",
              "    <tr>\n",
              "      <th>mean</th>\n",
              "      <td>6.20000</td>\n",
              "      <td>8.200000</td>\n",
              "      <td>1.80000</td>\n",
              "    </tr>\n",
              "    <tr>\n",
              "      <th>std</th>\n",
              "      <td>6.09918</td>\n",
              "      <td>11.009087</td>\n",
              "      <td>1.30384</td>\n",
              "    </tr>\n",
              "    <tr>\n",
              "      <th>min</th>\n",
              "      <td>1.00000</td>\n",
              "      <td>1.000000</td>\n",
              "      <td>1.00000</td>\n",
              "    </tr>\n",
              "    <tr>\n",
              "      <th>25%</th>\n",
              "      <td>2.00000</td>\n",
              "      <td>1.000000</td>\n",
              "      <td>1.00000</td>\n",
              "    </tr>\n",
              "    <tr>\n",
              "      <th>50%</th>\n",
              "      <td>4.00000</td>\n",
              "      <td>3.000000</td>\n",
              "      <td>1.00000</td>\n",
              "    </tr>\n",
              "    <tr>\n",
              "      <th>75%</th>\n",
              "      <td>8.00000</td>\n",
              "      <td>9.000000</td>\n",
              "      <td>2.00000</td>\n",
              "    </tr>\n",
              "    <tr>\n",
              "      <th>max</th>\n",
              "      <td>16.00000</td>\n",
              "      <td>27.000000</td>\n",
              "      <td>4.00000</td>\n",
              "    </tr>\n",
              "  </tbody>\n",
              "</table>\n",
              "</div>\n",
              "      <button class=\"colab-df-convert\" onclick=\"convertToInteractive('df-c2a5a650-0e6f-4238-af1a-e57455940b12')\"\n",
              "              title=\"Convert this dataframe to an interactive table.\"\n",
              "              style=\"display:none;\">\n",
              "        \n",
              "  <svg xmlns=\"http://www.w3.org/2000/svg\" height=\"24px\"viewBox=\"0 0 24 24\"\n",
              "       width=\"24px\">\n",
              "    <path d=\"M0 0h24v24H0V0z\" fill=\"none\"/>\n",
              "    <path d=\"M18.56 5.44l.94 2.06.94-2.06 2.06-.94-2.06-.94-.94-2.06-.94 2.06-2.06.94zm-11 1L8.5 8.5l.94-2.06 2.06-.94-2.06-.94L8.5 2.5l-.94 2.06-2.06.94zm10 10l.94 2.06.94-2.06 2.06-.94-2.06-.94-.94-2.06-.94 2.06-2.06.94z\"/><path d=\"M17.41 7.96l-1.37-1.37c-.4-.4-.92-.59-1.43-.59-.52 0-1.04.2-1.43.59L10.3 9.45l-7.72 7.72c-.78.78-.78 2.05 0 2.83L4 21.41c.39.39.9.59 1.41.59.51 0 1.02-.2 1.41-.59l7.78-7.78 2.81-2.81c.8-.78.8-2.07 0-2.86zM5.41 20L4 18.59l7.72-7.72 1.47 1.35L5.41 20z\"/>\n",
              "  </svg>\n",
              "      </button>\n",
              "      \n",
              "  <style>\n",
              "    .colab-df-container {\n",
              "      display:flex;\n",
              "      flex-wrap:wrap;\n",
              "      gap: 12px;\n",
              "    }\n",
              "\n",
              "    .colab-df-convert {\n",
              "      background-color: #E8F0FE;\n",
              "      border: none;\n",
              "      border-radius: 50%;\n",
              "      cursor: pointer;\n",
              "      display: none;\n",
              "      fill: #1967D2;\n",
              "      height: 32px;\n",
              "      padding: 0 0 0 0;\n",
              "      width: 32px;\n",
              "    }\n",
              "\n",
              "    .colab-df-convert:hover {\n",
              "      background-color: #E2EBFA;\n",
              "      box-shadow: 0px 1px 2px rgba(60, 64, 67, 0.3), 0px 1px 3px 1px rgba(60, 64, 67, 0.15);\n",
              "      fill: #174EA6;\n",
              "    }\n",
              "\n",
              "    [theme=dark] .colab-df-convert {\n",
              "      background-color: #3B4455;\n",
              "      fill: #D2E3FC;\n",
              "    }\n",
              "\n",
              "    [theme=dark] .colab-df-convert:hover {\n",
              "      background-color: #434B5C;\n",
              "      box-shadow: 0px 1px 3px 1px rgba(0, 0, 0, 0.15);\n",
              "      filter: drop-shadow(0px 1px 2px rgba(0, 0, 0, 0.3));\n",
              "      fill: #FFFFFF;\n",
              "    }\n",
              "  </style>\n",
              "\n",
              "      <script>\n",
              "        const buttonEl =\n",
              "          document.querySelector('#df-c2a5a650-0e6f-4238-af1a-e57455940b12 button.colab-df-convert');\n",
              "        buttonEl.style.display =\n",
              "          google.colab.kernel.accessAllowed ? 'block' : 'none';\n",
              "\n",
              "        async function convertToInteractive(key) {\n",
              "          const element = document.querySelector('#df-c2a5a650-0e6f-4238-af1a-e57455940b12');\n",
              "          const dataTable =\n",
              "            await google.colab.kernel.invokeFunction('convertToInteractive',\n",
              "                                                     [key], {});\n",
              "          if (!dataTable) return;\n",
              "\n",
              "          const docLinkHtml = 'Like what you see? Visit the ' +\n",
              "            '<a target=\"_blank\" href=https://colab.research.google.com/notebooks/data_table.ipynb>data table notebook</a>'\n",
              "            + ' to learn more about interactive tables.';\n",
              "          element.innerHTML = '';\n",
              "          dataTable['output_type'] = 'display_data';\n",
              "          await google.colab.output.renderOutput(dataTable, element);\n",
              "          const docLink = document.createElement('div');\n",
              "          docLink.innerHTML = docLinkHtml;\n",
              "          element.appendChild(docLink);\n",
              "        }\n",
              "      </script>\n",
              "    </div>\n",
              "  </div>\n",
              "  "
            ]
          },
          "metadata": {},
          "execution_count": 835
        }
      ]
    },
    {
      "cell_type": "markdown",
      "source": [
        "The summary contains the following results:\n",
        "\n",
        "* count: the number of items in each column\n",
        "* mean: the mean of each column\n",
        "* std: the standard deviation\n",
        "* min and max: the minimum and maximum values\n",
        "* 25%, 50%, and 75%: the percentiles\n",
        "\n",
        "If you want the resulting DataFrame object to contain other percentiles, then you should specify the value of the optional parameter percentiles.\n",
        "\n",
        "You can access each item of the summary like this:"
      ],
      "metadata": {
        "id": "LWnofrjL7lWD"
      }
    },
    {
      "cell_type": "code",
      "source": [
        "df.describe().at['mean', 'A']"
      ],
      "metadata": {
        "colab": {
          "base_uri": "https://localhost:8080/"
        },
        "id": "rPZ4HW9U76rS",
        "outputId": "6078fffb-e558-457f-d10f-c6c30f96f584"
      },
      "execution_count": 836,
      "outputs": [
        {
          "output_type": "execute_result",
          "data": {
            "text/plain": [
              "6.2"
            ]
          },
          "metadata": {},
          "execution_count": 836
        }
      ]
    },
    {
      "cell_type": "code",
      "source": [
        "df.describe().at['50%', 'B']"
      ],
      "metadata": {
        "colab": {
          "base_uri": "https://localhost:8080/"
        },
        "id": "5bhAaWn-8CyN",
        "outputId": "cc777a27-cdfa-451f-c72c-6e9925670710"
      },
      "execution_count": 837,
      "outputs": [
        {
          "output_type": "execute_result",
          "data": {
            "text/plain": [
              "3.0"
            ]
          },
          "metadata": {},
          "execution_count": 837
        }
      ]
    },
    {
      "cell_type": "markdown",
      "source": [
        "That’s how you can get descriptive Python statistics in one Series object with a single Pandas method call."
      ],
      "metadata": {
        "id": "voRz0pM38RxT"
      }
    },
    {
      "cell_type": "markdown",
      "source": [
        "# Visualizing Data"
      ],
      "metadata": {
        "id": "XY915Wmz8S8Z"
      }
    },
    {
      "cell_type": "markdown",
      "source": [
        "In addition to calculating the numerical quantities like mean, median, or variance, you can use visual methods to present, describe, and summarize data. In this section, you’ll learn how to present your data visually using the following graphs:\n",
        "\n",
        "* Box plots\n",
        "* Histograms\n",
        "* Pie charts\n",
        "* Bar charts\n",
        "* X-Y plots\n",
        "* Heatmaps\n",
        "\n",
        "matplotlib.pyplot is a very convenient and widely-used library, though it’s not the only Python library available for this purpose. You can import it like this:"
      ],
      "metadata": {
        "id": "FYlBW7pX8Vfa"
      }
    },
    {
      "cell_type": "code",
      "source": [
        "import matplotlib.pyplot as plt\n",
        "plt.style.use('ggplot')"
      ],
      "metadata": {
        "id": "5LE4C-fK8lx4"
      },
      "execution_count": 838,
      "outputs": []
    },
    {
      "cell_type": "markdown",
      "source": [
        "Now, you have matplotlib.pyplot imported and ready for use. The second statement sets the style for your plots by choosing colors, line widths, and other stylistic elements. You’re free to omit these if you’re satisfied with the default style settings.\n",
        "\n",
        "**Note:** This section focuses on representing data and keeps stylistic settings to a minimum. You’ll see links to the official documentation for used routines from matplotlib.pyplot, so you can explore the options that you won’t see here."
      ],
      "metadata": {
        "id": "wO3gB77u8tWU"
      }
    },
    {
      "cell_type": "markdown",
      "source": [
        "You’ll use [pseudo-random numbers](https://realpython.com/courses/generating-random-data-python/) to get data to work with. You don’t need knowledge on [random numbers](https://realpython.com/lessons/randomness-modeling-and-simulation/) to be able to understand this section. You just need some arbitrary numbers, and pseudo-random generators are a convenient tool to get them. The module [np.random](https://docs.scipy.org/doc/numpy-1.16.0/reference/routines.random.html) generates arrays of pseudo-random numbers:\n",
        "\n",
        "* [Normally distributed numbers](https://en.wikipedia.org/wiki/Normal_distribution) are generated with [np.random.randn()](https://docs.scipy.org/doc/numpy-1.16.0/reference/generated/numpy.random.randn.html).\n",
        "* [Uniformly distributed integers](https://en.wikipedia.org/wiki/Discrete_uniform_distribution) are generated with [np.random.randint()](https://docs.scipy.org/doc/numpy-1.16.0/reference/generated/numpy.random.randint.html).\n",
        "\n",
        "NumPy 1.17 introduced another [module](https://numpy.org/devdocs/release/1.17.0-notes.html#new-extensible-numpy-random-module-with-selectable-random-number-generators) for pseudo-random number generation. To learn more about it, check the [official documentation]().\n",
        "\n"
      ],
      "metadata": {
        "id": "VcKV4J058_XL"
      }
    },
    {
      "cell_type": "markdown",
      "source": [
        "## Box Plots"
      ],
      "metadata": {
        "id": "Kd9igBWL-Ebz"
      }
    },
    {
      "cell_type": "markdown",
      "source": [
        "The box plot is an excellent tool to visually represent descriptive statistics of a given dataset. It can show the range, interquartile range, median, mode, outliers, and all quartiles. First, create some data to represent with a box plot:"
      ],
      "metadata": {
        "id": "VEMBxvOi-je0"
      }
    },
    {
      "cell_type": "code",
      "source": [
        "np.random.seed(seed=0)\n",
        "x = np.random.randn(1000)\n",
        "y = np.random.randn(100)\n",
        "z = np.random.randn(10)"
      ],
      "metadata": {
        "id": "2mBfTrse-lrn"
      },
      "execution_count": 839,
      "outputs": []
    },
    {
      "cell_type": "markdown",
      "source": [
        "The first statement sets the seed of the NumPy random number generator with [seed()](https://docs.scipy.org/doc/numpy-1.16.0/reference/generated/numpy.random.seed.html), so you can get the same results each time you run the code. You don’t have to set the seed, but if you don’t specify this value, then you’ll get different results each time.\n",
        "\n",
        "The other statements generate three NumPy arrays with normally distributed pseudo-random numbers. x refers to the array with 1000 items, y has 100, and z contains 10 items. Now that you have the data to work with, you can apply [.boxplot()](https://docs.scipy.org/doc/numpy-1.16.0/reference/generated/numpy.random.seed.html) to get the box plot:\n",
        "\n"
      ],
      "metadata": {
        "id": "k5uUuEbP_ThZ"
      }
    },
    {
      "cell_type": "code",
      "source": [
        "fig, ax = plt.subplots()\n",
        "ax.boxplot((x, y, z), vert=False, showmeans=True, meanline=True,\n",
        "           labels=('x', 'y', 'z'), patch_artist=True,\n",
        "           medianprops={'linewidth': 2, 'color': 'purple'},\n",
        "           meanprops={'linewidth': 2, 'color': 'red'})\n",
        "plt.show()"
      ],
      "metadata": {
        "colab": {
          "base_uri": "https://localhost:8080/",
          "height": 762
        },
        "id": "AXEwplkJ_xNq",
        "outputId": "76971446-11af-45e3-94f7-b2dbc14160ea"
      },
      "execution_count": 840,
      "outputs": [
        {
          "output_type": "stream",
          "name": "stderr",
          "text": [
            "/usr/local/lib/python3.7/dist-packages/matplotlib/cbook/__init__.py:1376: VisibleDeprecationWarning: Creating an ndarray from ragged nested sequences (which is a list-or-tuple of lists-or-tuples-or ndarrays with different lengths or shapes) is deprecated. If you meant to do this, you must specify 'dtype=object' when creating the ndarray.\n",
            "  X = np.atleast_1d(X.T if isinstance(X, np.ndarray) else np.asarray(X))\n"
          ]
        },
        {
          "output_type": "execute_result",
          "data": {
            "text/plain": [
              "{'whiskers': [<matplotlib.lines.Line2D at 0x7f9ccf7bb210>,\n",
              "  <matplotlib.lines.Line2D at 0x7f9ccf7bb790>,\n",
              "  <matplotlib.lines.Line2D at 0x7f9ccf747b10>,\n",
              "  <matplotlib.lines.Line2D at 0x7f9ccf751090>,\n",
              "  <matplotlib.lines.Line2D at 0x7f9ccf760350>,\n",
              "  <matplotlib.lines.Line2D at 0x7f9ccf7608d0>],\n",
              " 'caps': [<matplotlib.lines.Line2D at 0x7f9ccf7bbcd0>,\n",
              "  <matplotlib.lines.Line2D at 0x7f9ccf7c0250>,\n",
              "  <matplotlib.lines.Line2D at 0x7f9ccf751590>,\n",
              "  <matplotlib.lines.Line2D at 0x7f9ccf751ad0>,\n",
              "  <matplotlib.lines.Line2D at 0x7f9ccf760e10>,\n",
              "  <matplotlib.lines.Line2D at 0x7f9ccf7693d0>],\n",
              " 'boxes': [<matplotlib.patches.PathPatch at 0x7f9ccf7b16d0>,\n",
              "  <matplotlib.patches.PathPatch at 0x7f9ccf747650>,\n",
              "  <matplotlib.patches.PathPatch at 0x7f9ccf758e50>],\n",
              " 'medians': [<matplotlib.lines.Line2D at 0x7f9ccf7c0790>,\n",
              "  <matplotlib.lines.Line2D at 0x7f9ccf758050>,\n",
              "  <matplotlib.lines.Line2D at 0x7f9ccf769910>],\n",
              " 'fliers': [<matplotlib.lines.Line2D at 0x7f9ccf747290>,\n",
              "  <matplotlib.lines.Line2D at 0x7f9ccf758ad0>,\n",
              "  <matplotlib.lines.Line2D at 0x7f9ccf7703d0>],\n",
              " 'means': [<matplotlib.lines.Line2D at 0x7f9ccf7c0d10>,\n",
              "  <matplotlib.lines.Line2D at 0x7f9ccf758590>,\n",
              "  <matplotlib.lines.Line2D at 0x7f9ccf769e50>]}"
            ]
          },
          "metadata": {},
          "execution_count": 840
        },
        {
          "output_type": "display_data",
          "data": {
            "text/plain": [
              "<Figure size 432x288 with 1 Axes>"
            ],
            "image/png": "[encoded data removed]"
          },
          "metadata": {}
        }
      ]
    },
    {
      "cell_type": "markdown",
      "source": [
        "The parameters of .boxplot() define the following:\n",
        "\n",
        "* x is your data.\n",
        "* vert sets the plot orientation to horizontal when False. The default orientation is vertical.\n",
        "* showmeans shows the mean of your data when True.\n",
        "* meanline represents the mean as a line when True. The default representation is a point.\n",
        "* labels: the labels of your data.\n",
        "* patch_artist determines how to draw the graph.\n",
        "* medianprops denotes the properties of the line representing the median.\n",
        "* meanprops indicates the properties of the line or dot representing the mean.\n",
        "\n",
        "There are other parameters, but their analysis is beyond the scope of this tutorial."
      ],
      "metadata": {
        "id": "nOHJnmovjgDr"
      }
    },
    {
      "cell_type": "markdown",
      "source": [
        "You can see three box plots. Each of them corresponds to a single dataset (x, y, or z) and show the following:\n",
        "\n",
        "* The mean is the red dashed line.\n",
        "* The median is the purple line.\n",
        "* The first quartile is the left edge of the blue rectangle.\n",
        "* The third quartile is the right edge of the blue rectangle.\n",
        "* The interquartile range is the length of the blue rectangle.\n",
        "* The range contains everything from left to right.\n",
        "* The outliers are the dots to the left and right.\n",
        "\n",
        "A box plot can show so much information in a single figure!"
      ],
      "metadata": {
        "id": "9nIrd0chkSf1"
      }
    },
    {
      "cell_type": "markdown",
      "source": [
        "## Histograms"
      ],
      "metadata": {
        "id": "ViatwXePkmzB"
      }
    },
    {
      "cell_type": "markdown",
      "source": [
        "[Histograms](https://realpython.com/python-histograms/) are particularly useful when there are a large number of unique values in a dataset. The histogram divides the values from a sorted dataset into intervals, also called bins. Often, all bins are of equal width, though this doesn’t have to be the case. The values of the lower and upper bounds of a bin are called the bin edges.\n",
        "\n",
        "The frequency is a single value that corresponds to each bin. It’s the number of elements of the dataset with the values between the edges of the bin. By convention, all bins but the rightmost one are half-open. They include the values equal to the lower bounds, but exclude the values equal to the upper bounds. The rightmost bin is closed because it includes both bounds. If you divide a dataset with the bin edges 0, 5, 10, and 15, then there are three bins:\n",
        "\n",
        "1. The first and leftmost bin contains the values greater than or equal to 0 and less than 5.\n",
        "2. The second bin contains the values greater than or equal to 5 and less than 10.\n",
        "3. The third and rightmost bin contains the values greater than or equal to 10 and less than or equal to 15.\n",
        "\n",
        "The function [np.histogram()](https://numpy.org/doc/stable/reference/generated/numpy.histogram.html) is a convenient way to get data for histograms:"
      ],
      "metadata": {
        "id": "sNnU0rx2kq4j"
      }
    },
    {
      "cell_type": "code",
      "source": [
        "hist, bin_edges = np.histogram(x, bins=10)\n",
        "hist"
      ],
      "metadata": {
        "colab": {
          "base_uri": "https://localhost:8080/"
        },
        "id": "Lvwl91-VlLCr",
        "outputId": "d99d9e74-2af6-4e7f-bf89-45a5f90c0a59"
      },
      "execution_count": 841,
      "outputs": [
        {
          "output_type": "execute_result",
          "data": {
            "text/plain": [
              "array([  9,  20,  70, 146, 217, 239, 160,  86,  38,  15])"
            ]
          },
          "metadata": {},
          "execution_count": 841
        }
      ]
    },
    {
      "cell_type": "code",
      "source": [
        "bin_edges"
      ],
      "metadata": {
        "colab": {
          "base_uri": "https://localhost:8080/"
        },
        "id": "Nb7clezwpAYS",
        "outputId": "0c1198ad-b027-4e6e-92dd-3183f0b6c137"
      },
      "execution_count": 842,
      "outputs": [
        {
          "output_type": "execute_result",
          "data": {
            "text/plain": [
              "array([-3.04614305, -2.46559324, -1.88504342, -1.3044936 , -0.72394379,\n",
              "       -0.14339397,  0.43715585,  1.01770566,  1.59825548,  2.1788053 ,\n",
              "        2.75935511])"
            ]
          },
          "metadata": {},
          "execution_count": 842
        }
      ]
    },
    {
      "cell_type": "markdown",
      "source": [
        "It takes the array with your data and the number (or edges) of bins and returns two NumPy arrays:\n",
        "\n",
        "1. hist contains the frequency or the number of items corresponding to each bin.\n",
        "2. bin_edges contains the edges or bounds of the bin.\n",
        "\n",
        "What histogram() calculates, [.hist()](https://matplotlib.org/3.1.1/api/_as_gen/matplotlib.pyplot.hist.html) can show graphically:"
      ],
      "metadata": {
        "id": "s0iKu4oApWk0"
      }
    },
    {
      "cell_type": "code",
      "source": [
        "fig, ax = plt.subplots()\n",
        "ax.hist(x, bin_edges, cumulative=False)\n",
        "ax.set_xlabel('x')\n",
        "ax.set_ylabel('Frequency')\n",
        "plt.show()"
      ],
      "metadata": {
        "colab": {
          "base_uri": "https://localhost:8080/",
          "height": 378
        },
        "id": "UTOqXkwdpjJV",
        "outputId": "bba420c8-c3a1-44ce-db76-8a97cc82dcb0"
      },
      "execution_count": 843,
      "outputs": [
        {
          "output_type": "execute_result",
          "data": {
            "text/plain": [
              "(array([  9.,  20.,  70., 146., 217., 239., 160.,  86.,  38.,  15.]),\n",
              " array([-3.04614305, -2.46559324, -1.88504342, -1.3044936 , -0.72394379,\n",
              "        -0.14339397,  0.43715585,  1.01770566,  1.59825548,  2.1788053 ,\n",
              "         2.75935511]),\n",
              " <a list of 10 Patch objects>)"
            ]
          },
          "metadata": {},
          "execution_count": 843
        },
        {
          "output_type": "execute_result",
          "data": {
            "text/plain": [
              "Text(0.5, 0, 'x')"
            ]
          },
          "metadata": {},
          "execution_count": 843
        },
        {
          "output_type": "execute_result",
          "data": {
            "text/plain": [
              "Text(0, 0.5, 'Frequency')"
            ]
          },
          "metadata": {},
          "execution_count": 843
        },
        {
          "output_type": "display_data",
          "data": {
            "text/plain": [
              "<Figure size 432x288 with 1 Axes>"
            ],
            "image/png": "[encoded data removed]"
          },
          "metadata": {}
        }
      ]
    },
    {
      "cell_type": "markdown",
      "source": [
        "The first argument of .hist() is the sequence with your data. The second argument defines the edges of the bins. The third disables the option to create a histogram with cumulative values. "
      ],
      "metadata": {
        "id": "AgsPEaJgqFxo"
      }
    },
    {
      "cell_type": "markdown",
      "source": [
        "You can see the bin edges on the horizontal axis and the frequencies on the vertical axis.\n",
        "\n",
        "It’s possible to get the histogram with the cumulative numbers of items if you provide the argument cumulative=True to .hist():"
      ],
      "metadata": {
        "id": "WzNhl7jZqaqP"
      }
    },
    {
      "cell_type": "code",
      "source": [
        "fig, ax = plt.subplots()\n",
        "ax.hist(x, bin_edges, cumulative=True)\n",
        "ax.set_xlabel('x')\n",
        "ax.set_ylabel('Frequency')\n",
        "plt.show()"
      ],
      "metadata": {
        "colab": {
          "base_uri": "https://localhost:8080/",
          "height": 392
        },
        "id": "cgvAm5dnqbEr",
        "outputId": "70a5d868-289c-403d-927d-d87d651f0533"
      },
      "execution_count": 844,
      "outputs": [
        {
          "output_type": "execute_result",
          "data": {
            "text/plain": [
              "(array([   9.,   29.,   99.,  245.,  462.,  701.,  861.,  947.,  985.,\n",
              "        1000.]),\n",
              " array([-3.04614305, -2.46559324, -1.88504342, -1.3044936 , -0.72394379,\n",
              "        -0.14339397,  0.43715585,  1.01770566,  1.59825548,  2.1788053 ,\n",
              "         2.75935511]),\n",
              " <a list of 10 Patch objects>)"
            ]
          },
          "metadata": {},
          "execution_count": 844
        },
        {
          "output_type": "execute_result",
          "data": {
            "text/plain": [
              "Text(0.5, 0, 'x')"
            ]
          },
          "metadata": {},
          "execution_count": 844
        },
        {
          "output_type": "execute_result",
          "data": {
            "text/plain": [
              "Text(0, 0.5, 'Frequency')"
            ]
          },
          "metadata": {},
          "execution_count": 844
        },
        {
          "output_type": "display_data",
          "data": {
            "text/plain": [
              "<Figure size 432x288 with 1 Axes>"
            ],
            "image/png": "[encoded data removed]"
          },
          "metadata": {}
        }
      ]
    },
    {
      "cell_type": "markdown",
      "source": [
        "It shows the histogram with the cumulative values. The frequency of the first and leftmost bin is the number of items in this bin. The frequency of the second bin is the sum of the numbers of items in the first and second bins. The other bins follow this same pattern. Finally, the frequency of the last and rightmost bin is the total number of items in the dataset (in this case, 1000). You can also directly draw a histogram with [pd.Series.hist()](https://pandas.pydata.org/pandas-docs/stable/reference/api/pandas.Series.hist.html) using matplotlib in the background."
      ],
      "metadata": {
        "id": "Cg7rHXT9rAqv"
      }
    },
    {
      "cell_type": "markdown",
      "source": [
        "## Pie Charts"
      ],
      "metadata": {
        "id": "-TGSJz9OrKdo"
      }
    },
    {
      "cell_type": "markdown",
      "source": [
        "Pie charts represent data with a small number of labels and given relative frequencies. They work well even with the labels that can’t be ordered (like nominal data). A pie chart is a circle divided into multiple slices. Each slice corresponds to a single distinct label from the dataset and has an area proportional to the relative frequency associated with that label.\n",
        "\n",
        "Let’s define data associated to three labels:"
      ],
      "metadata": {
        "id": "1y5rj9Inrkq0"
      }
    },
    {
      "cell_type": "code",
      "source": [
        "x, y, z = 128, 256, 1024"
      ],
      "metadata": {
        "id": "Q1qRu0FfuPv2"
      },
      "execution_count": 845,
      "outputs": []
    },
    {
      "cell_type": "markdown",
      "source": [
        "Now, create a pie chart with [.pie()](https://matplotlib.org/3.1.1/api/_as_gen/matplotlib.axes.Axes.pie.html):"
      ],
      "metadata": {
        "id": "wKMtyMpfNMHG"
      }
    },
    {
      "cell_type": "code",
      "source": [
        "fig, ax = plt.subplots()\n",
        "ax.pie((x, y, z), labels=('x', 'y', 'z'), autopct='%1.1f%%')\n",
        "plt.show()"
      ],
      "metadata": {
        "colab": {
          "base_uri": "https://localhost:8080/",
          "height": 413
        },
        "id": "ouRhb8l6NUPq",
        "outputId": "ad9ec244-bb10-4733-b020-b9d40f07241f"
      },
      "execution_count": 846,
      "outputs": [
        {
          "output_type": "execute_result",
          "data": {
            "text/plain": [
              "([<matplotlib.patches.Wedge at 0x7f9ccf5ed310>,\n",
              "  <matplotlib.patches.Wedge at 0x7f9ccf5ed9d0>,\n",
              "  <matplotlib.patches.Wedge at 0x7f9ccf5f8290>],\n",
              " [Text(1.0554422683381766, 0.30990582150899426, 'x'),\n",
              "  Text(0.4569564802357173, 1.000595210447554, 'y'),\n",
              "  Text(-0.7203467082780743, -0.8313246176271597, 'z')],\n",
              " [Text(0.5756957827299144, 0.16903953900490593, '9.1%'),\n",
              "  Text(0.24924898921948213, 0.5457792056986657, '18.2%'),\n",
              "  Text(-0.39291638633349507, -0.45344979143299613, '72.7%')])"
            ]
          },
          "metadata": {},
          "execution_count": 846
        },
        {
          "output_type": "display_data",
          "data": {
            "text/plain": [
              "<Figure size 432x288 with 1 Axes>"
            ],
            "image/png": "[encoded data removed]"
          },
          "metadata": {}
        }
      ]
    },
    {
      "cell_type": "markdown",
      "source": [
        "The first argument of .pie() is your data, and the second is the sequence of the corresponding labels. autopct defines the format of the relative frequencies shown on the figure."
      ],
      "metadata": {
        "id": "lrSuCKwUNSo9"
      }
    },
    {
      "cell_type": "markdown",
      "source": [
        "The pie chart shows x as the smallest part of the circle, y as the next largest, and then z as the largest part. The percentages denote the relative size of each value compared to their sum."
      ],
      "metadata": {
        "id": "9DC_oNzaN7YB"
      }
    },
    {
      "cell_type": "markdown",
      "source": [
        "## Bar Charts"
      ],
      "metadata": {
        "id": "wzmHWHP8ODaG"
      }
    },
    {
      "cell_type": "markdown",
      "source": [
        "Bar charts also illustrate data that correspond to given labels or discrete numeric values. They can show the pairs of data from two datasets. Items of one set are the labels, while the corresponding items of the other are their frequencies. Optionally, they can show the errors related to the frequencies, as well.\n",
        "\n",
        "The bar chart shows parallel rectangles called bars. Each bar corresponds to a single label and has a height proportional to the frequency or relative frequency of its label. Let’s generate three datasets, each with 21 items:"
      ],
      "metadata": {
        "id": "LHQcMrdTOHjZ"
      }
    },
    {
      "cell_type": "code",
      "source": [
        "x = np.arange(21)\n",
        "y = np.random.randint(21, size=21)\n",
        "err = np.random.randn(21)"
      ],
      "metadata": {
        "id": "tN8sb0lmOd8g"
      },
      "execution_count": 847,
      "outputs": []
    },
    {
      "cell_type": "markdown",
      "source": [
        "You use [np.arange()](https://realpython.com/how-to-use-numpy-arange/) to get x, or the array of consecutive integers from 0 to 20. You’ll use this to represent the labels. y is an array of uniformly distributed random integers, also between 0 and 20. This array will represent the frequencies. err contains normally distributed floating-point numbers, which are the errors. These values are optional.\n",
        "\n",
        "You can create a bar chart with [.bar()](https://matplotlib.org/3.1.1/api/_as_gen/matplotlib.axes.Axes.bar.html) if you want vertical bars or [.barh()](https://matplotlib.org/3.1.1/api/_as_gen/matplotlib.axes.Axes.barh.html) if you’d like horizontal bars:"
      ],
      "metadata": {
        "id": "PjR67b-MPClK"
      }
    },
    {
      "cell_type": "code",
      "source": [
        "fig, ax = plt.subplots()\n",
        "ax.bar(x, y, yerr=err)\n",
        "ax.set_xlabel('x')\n",
        "ax.set_ylabel('y')\n",
        "plt.show()"
      ],
      "metadata": {
        "colab": {
          "base_uri": "https://localhost:8080/",
          "height": 300
        },
        "id": "5uzBt3QsPQkX",
        "outputId": "d2e02696-79ea-469a-d990-406523ddc400"
      },
      "execution_count": 848,
      "outputs": [
        {
          "output_type": "execute_result",
          "data": {
            "text/plain": [
              "<BarContainer object of 21 artists>"
            ]
          },
          "metadata": {},
          "execution_count": 848
        },
        {
          "output_type": "execute_result",
          "data": {
            "text/plain": [
              "Text(0.5, 0, 'x')"
            ]
          },
          "metadata": {},
          "execution_count": 848
        },
        {
          "output_type": "execute_result",
          "data": {
            "text/plain": [
              "Text(0, 0.5, 'y')"
            ]
          },
          "metadata": {},
          "execution_count": 848
        },
        {
          "output_type": "display_data",
          "data": {
            "text/plain": [
              "<Figure size 432x288 with 1 Axes>"
            ],
            "image/png": "[encoded data removed]"
          },
          "metadata": {}
        }
      ]
    },
    {
      "cell_type": "markdown",
      "source": [
        "The heights of the red bars correspond to the frequencies y, while the lengths of the black lines show the errors err. If you don’t want to include the errors, then omit the parameter yerr of .bar()."
      ],
      "metadata": {
        "id": "oRJ0hqAhP0Fn"
      }
    },
    {
      "cell_type": "markdown",
      "source": [
        "## X-Y Plots"
      ],
      "metadata": {
        "id": "Do0QC0jsP2R3"
      }
    },
    {
      "cell_type": "markdown",
      "source": [
        "The x-y plot or scatter plot represents the pairs of data from two datasets. The horizontal x-axis shows the values from the set x, while the vertical y-axis shows the corresponding values from the set y. You can optionally include the regression line and the correlation coefficient. Let’s generate two datasets and perform linear regression with scipy.stats.linregress():"
      ],
      "metadata": {
        "id": "T_SthUxZP3nW"
      }
    },
    {
      "cell_type": "code",
      "source": [
        "x = np.arange(21)\n",
        "y = 5 + 2 * x + 2 * np.random.randn(21)\n",
        "slope, intercept, r, *__ = scipy.stats.linregress(x, y)\n",
        "line = f'Regression line: y={intercept:.2f}+{slope:.2f}x, r={r:.2f}'"
      ],
      "metadata": {
        "id": "ub2CcU0EQDUs"
      },
      "execution_count": 857,
      "outputs": []
    },
    {
      "cell_type": "markdown",
      "source": [
        "The dataset x is again the array with the integers from 0 to 20. y is calculated as a linear function of x distorted with some random noise.\n",
        "\n",
        "linregress returns several values. You’ll need the slope and intercept of the regression line, as well as the correlation coefficient r. Then you can apply [.plot()](https://matplotlib.org/3.1.1/api/_as_gen/matplotlib.axes.Axes.plot.html) to get the x-y plot:"
      ],
      "metadata": {
        "id": "mhCvbH7zSXoh"
      }
    },
    {
      "cell_type": "code",
      "source": [
        "fig, ax = plt.subplots()\n",
        "ax.plot(x, y, linewidth=0, marker='s', label='Data points')\n",
        "ax.plot(x, intercept + slope * x, label=line)\n",
        "ax.set_xlabel(\"x\")\n",
        "ax.set_ylabel(\"y\")\n",
        "ax.legend(facecolor='white')\n",
        "plt.show()"
      ],
      "metadata": {
        "colab": {
          "base_uri": "https://localhost:8080/",
          "height": 319
        },
        "id": "QIcGz0FWSgoy",
        "outputId": "2bb2afb3-dc82-4192-b991-d8c2bd6e2c8d"
      },
      "execution_count": 858,
      "outputs": [
        {
          "output_type": "execute_result",
          "data": {
            "text/plain": [
              "[<matplotlib.lines.Line2D at 0x7f9ccf3f2050>]"
            ]
          },
          "metadata": {},
          "execution_count": 858
        },
        {
          "output_type": "execute_result",
          "data": {
            "text/plain": [
              "[<matplotlib.lines.Line2D at 0x7f9ccf3f2590>]"
            ]
          },
          "metadata": {},
          "execution_count": 858
        },
        {
          "output_type": "execute_result",
          "data": {
            "text/plain": [
              "Text(0.5, 0, 'x')"
            ]
          },
          "metadata": {},
          "execution_count": 858
        },
        {
          "output_type": "execute_result",
          "data": {
            "text/plain": [
              "Text(0, 0.5, 'y')"
            ]
          },
          "metadata": {},
          "execution_count": 858
        },
        {
          "output_type": "execute_result",
          "data": {
            "text/plain": [
              "<matplotlib.legend.Legend at 0x7f9ccfb06e90>"
            ]
          },
          "metadata": {},
          "execution_count": 858
        },
        {
          "output_type": "display_data",
          "data": {
            "text/plain": [
              "<Figure size 432x288 with 1 Axes>"
            ],
            "image/png": "[encoded data removed]"
          },
          "metadata": {}
        }
      ]
    },
    {
      "cell_type": "markdown",
      "source": [
        "You can see the data points (x-y pairs) as red squares, as well as the blue regression line."
      ],
      "metadata": {
        "id": "NgG_z_HAUM67"
      }
    },
    {
      "cell_type": "markdown",
      "source": [
        "## Heatmaps"
      ],
      "metadata": {
        "id": "uEjh7VhCUN7z"
      }
    },
    {
      "cell_type": "markdown",
      "source": [
        "A heatmap can be used to visually show a matrix. The colors represent the numbers or elements of the matrix. Heatmaps are particularly useful for illustrating the covariance and correlation matrices. You can create the heatmap for a covariance matrix with [.imshow()](https://matplotlib.org/3.1.1/api/_as_gen/matplotlib.axes.Axes.imshow.html):"
      ],
      "metadata": {
        "id": "E77iUxddUQeL"
      }
    },
    {
      "cell_type": "code",
      "source": [
        "matrix = np.cov(x, y).round(decimals=2)\n",
        "fig, ax = plt.subplots()\n",
        "ax.imshow(matrix)\n",
        "ax.grid(False)\n",
        "ax.xaxis.set(ticks=(0, 1), ticklabels=('x', 'y'))\n",
        "ax.yaxis.set(ticks=(0, 1), ticklabels=('x' , 'y'))\n",
        "ax.set_ylim(1.5, -0.5)\n",
        "\n",
        "for i in range(2):\n",
        "  for j in range(2):\n",
        "    ax.text(j, i, matrix[i, j], ha='center', va='center', color='w')\n",
        "plt.show()"
      ],
      "metadata": {
        "colab": {
          "base_uri": "https://localhost:8080/",
          "height": 357
        },
        "id": "nQzvAelRUdK1",
        "outputId": "4dc8094a-07cc-4ba5-9b77-9d67398e042d"
      },
      "execution_count": 870,
      "outputs": [
        {
          "output_type": "execute_result",
          "data": {
            "text/plain": [
              "<matplotlib.image.AxesImage at 0x7f9ccef07890>"
            ]
          },
          "metadata": {},
          "execution_count": 870
        },
        {
          "output_type": "execute_result",
          "data": {
            "text/plain": [
              "[[<matplotlib.axis.XTick at 0x7f9ccef82f90>,\n",
              "  <matplotlib.axis.XTick at 0x7f9ccef7e4d0>],\n",
              " [Text(0, 0, 'x'), Text(0, 0, 'y')]]"
            ]
          },
          "metadata": {},
          "execution_count": 870
        },
        {
          "output_type": "execute_result",
          "data": {
            "text/plain": [
              "[[<matplotlib.axis.YTick at 0x7f9ccef55e10>,\n",
              "  <matplotlib.axis.YTick at 0x7f9ccefb9bd0>],\n",
              " [Text(0, 0, 'x'), Text(0, 0, 'y')]]"
            ]
          },
          "metadata": {},
          "execution_count": 870
        },
        {
          "output_type": "execute_result",
          "data": {
            "text/plain": [
              "(1.5, -0.5)"
            ]
          },
          "metadata": {},
          "execution_count": 870
        },
        {
          "output_type": "execute_result",
          "data": {
            "text/plain": [
              "Text(0, 0, '38.5')"
            ]
          },
          "metadata": {},
          "execution_count": 870
        },
        {
          "output_type": "execute_result",
          "data": {
            "text/plain": [
              "Text(1, 0, '72.58')"
            ]
          },
          "metadata": {},
          "execution_count": 870
        },
        {
          "output_type": "execute_result",
          "data": {
            "text/plain": [
              "Text(0, 1, '72.58')"
            ]
          },
          "metadata": {},
          "execution_count": 870
        },
        {
          "output_type": "execute_result",
          "data": {
            "text/plain": [
              "Text(1, 1, '141.7')"
            ]
          },
          "metadata": {},
          "execution_count": 870
        },
        {
          "output_type": "display_data",
          "data": {
            "text/plain": [
              "<Figure size 432x288 with 1 Axes>"
            ],
            "image/png": "[encoded data removed]"
          },
          "metadata": {}
        }
      ]
    },
    {
      "cell_type": "markdown",
      "source": [
        "Here, the heatmap contains the labels 'x' and 'y' as well as the numbers from the covariance matrix."
      ],
      "metadata": {
        "id": "KjCZKJlUXOam"
      }
    },
    {
      "cell_type": "markdown",
      "source": [
        "The yellow field represents the largest element from the matrix 130.34, while the purple one corresponds to the smallest element 38.5. The blue squares in between are associated with the value 69.9.\n",
        "\n",
        "You can obtain the heatmap for the correlation coefficient matrix following the same logic:"
      ],
      "metadata": {
        "id": "z0c5CHPtXY1K"
      }
    },
    {
      "cell_type": "code",
      "source": [
        "matrix = np.corrcoef(x, y).round(decimals=2)\n",
        "fig, ax = plt.subplots()\n",
        "ax.imshow(matrix)\n",
        "ax.grid(False)\n",
        "ax.xaxis.set(ticks=(0, 1), ticklabels=('x', 'y'))\n",
        "ax.yaxis.set(ticks=(0, 1), ticklabels=('x', 'y'))\n",
        "ax.set_ylim(1.5, -0.5)\n",
        "for i in range(2):\n",
        "  for j in range(2):\n",
        "    ax.text(j, i, matrix[i, j], ha='center', va='center', color='w')\n",
        "\n",
        "plt.show()"
      ],
      "metadata": {
        "colab": {
          "base_uri": "https://localhost:8080/",
          "height": 357
        },
        "id": "k4TCaUq5Xdh0",
        "outputId": "5808a232-734f-425c-c834-346a820d2f8c"
      },
      "execution_count": 871,
      "outputs": [
        {
          "output_type": "execute_result",
          "data": {
            "text/plain": [
              "<matplotlib.image.AxesImage at 0x7f9ccfa4db50>"
            ]
          },
          "metadata": {},
          "execution_count": 871
        },
        {
          "output_type": "execute_result",
          "data": {
            "text/plain": [
              "[[<matplotlib.axis.XTick at 0x7f9cceed7890>,\n",
              "  <matplotlib.axis.XTick at 0x7f9ccf61f8d0>],\n",
              " [Text(0, 0, 'x'), Text(0, 0, 'y')]]"
            ]
          },
          "metadata": {},
          "execution_count": 871
        },
        {
          "output_type": "execute_result",
          "data": {
            "text/plain": [
              "[[<matplotlib.axis.YTick at 0x7f9cceed7810>,\n",
              "  <matplotlib.axis.YTick at 0x7f9ccf887b10>],\n",
              " [Text(0, 0, 'x'), Text(0, 0, 'y')]]"
            ]
          },
          "metadata": {},
          "execution_count": 871
        },
        {
          "output_type": "execute_result",
          "data": {
            "text/plain": [
              "(1.5, -0.5)"
            ]
          },
          "metadata": {},
          "execution_count": 871
        },
        {
          "output_type": "execute_result",
          "data": {
            "text/plain": [
              "Text(0, 0, '1.0')"
            ]
          },
          "metadata": {},
          "execution_count": 871
        },
        {
          "output_type": "execute_result",
          "data": {
            "text/plain": [
              "Text(1, 0, '0.98')"
            ]
          },
          "metadata": {},
          "execution_count": 871
        },
        {
          "output_type": "execute_result",
          "data": {
            "text/plain": [
              "Text(0, 1, '0.98')"
            ]
          },
          "metadata": {},
          "execution_count": 871
        },
        {
          "output_type": "execute_result",
          "data": {
            "text/plain": [
              "Text(1, 1, '1.0')"
            ]
          },
          "metadata": {},
          "execution_count": 871
        },
        {
          "output_type": "display_data",
          "data": {
            "text/plain": [
              "<Figure size 432x288 with 1 Axes>"
            ],
            "image/png": "[encoded data removed]"
          },
          "metadata": {}
        }
      ]
    },
    {
      "cell_type": "markdown",
      "source": [
        "The yellow color represents the value 1.0, and the purple color shows 0.99."
      ],
      "metadata": {
        "id": "AP8va7MhYaO1"
      }
    },
    {
      "cell_type": "markdown",
      "source": [
        "# Conclusion"
      ],
      "metadata": {
        "id": "IzvIn3O6Ya9U"
      }
    },
    {
      "cell_type": "markdown",
      "source": [
        "You now know the quantities that describe and summarize datasets and how to calculate them in Python. It’s possible to get descriptive statistics with pure Python code, but that’s rarely necessary. Usually, you’ll use some of the libraries created especially for this purpose:\n",
        "\n",
        "* Use Python’s statistics for the most important Python statistics functions.\n",
        "* Use NumPy to handle arrays efficiently.\n",
        "* Use SciPy for additional Python statistics routines for NumPy arrays.\n",
        "* Use Pandas to work with labeled datasets.\n",
        "* Use Matplotlib to visualize data with plots, charts, and histograms.\n",
        "\n",
        "In the era of big data and artificial intelligence, you must know how to calculate descriptive statistics measures. Now you’re ready to dive deeper into the world of [data science](https://realpython.com/tutorials/data-science/) and [machine learning](https://realpython.com/tutorials/machine-learning/)! If you have questions or comments, then please put them in the comments section below."
      ],
      "metadata": {
        "id": "lmRZRyifYvfs"
      }
    }
  ]
}